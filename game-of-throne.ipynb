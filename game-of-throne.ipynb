{
 "cells": [
  {
   "cell_type": "code",
   "execution_count": 1,
   "id": "0f0b7428",
   "metadata": {},
   "outputs": [],
   "source": [
    "import gensim \n",
    "import numpy \n",
    "import os"
   ]
  },
  {
   "cell_type": "code",
   "execution_count": 2,
   "metadata": {},
   "outputs": [
    {
     "name": "stderr",
     "output_type": "stream",
     "text": [
      "[nltk_data] Downloading package punkt to\n",
      "[nltk_data]     C:\\Users\\KIIT\\AppData\\Roaming\\nltk_data...\n",
      "[nltk_data]   Package punkt is already up-to-date!\n",
      "[nltk_data] Downloading package stopwords to\n",
      "[nltk_data]     C:\\Users\\KIIT\\AppData\\Roaming\\nltk_data...\n",
      "[nltk_data]   Package stopwords is already up-to-date!\n"
     ]
    }
   ],
   "source": [
    "from nltk import sent_tokenize\n",
    "from nltk.corpus import stopwords\n",
    "from gensim.utils import simple_preprocess\n",
    "# Loop through all files in \"data\" directory \n",
    "# Open each file and read full content of the file\n",
    "# Split the content into sentences using NLTK\n",
    "# Loop throgh each sentence \n",
    "# Apply simple preprocessing on each word\n",
    "# Remove stopwords and store as a list of words\n",
    "import nltk\n",
    "nltk.download('punkt')\n",
    "nltk.download('stopwords')\n",
    "stop_words=set(stopwords.words('english'))\n",
    "story=[]\n",
    "for filename in os.listdir(\"data\"): \n",
    "    f=open(os.path.join('data',filename))\n",
    "    corpus=f.read()\n",
    "    raw_sent=sent_tokenize(corpus)\n",
    "    for sent in raw_sent:\n",
    "        tokens=simple_preprocess(sent)# Tokenize, lowercase and clean each sentence\n",
    "        filtered_tokens=[word for word in tokens if word not in stop_words]\n",
    "        story.append(filtered_tokens)"
   ]
  },
  {
   "cell_type": "code",
   "execution_count": 3,
   "id": "0fcdb40c",
   "metadata": {},
   "outputs": [],
   "source": [
    "# story"
   ]
  },
  {
   "cell_type": "code",
   "execution_count": 4,
   "id": "b7e52c17",
   "metadata": {},
   "outputs": [
    {
     "data": {
      "text/plain": [
       "145020"
      ]
     },
     "execution_count": 4,
     "metadata": {},
     "output_type": "execute_result"
    }
   ],
   "source": [
    "len(story)"
   ]
  },
  {
   "cell_type": "code",
   "execution_count": 5,
   "id": "684a7371",
   "metadata": {},
   "outputs": [],
   "source": [
    "# Build model of Word2Vec\n",
    "# window=10 - Prediction of the center word , we will take 10 words on both sides\n",
    "# min_count=2 - Consider only those sentences having min words 2\n",
    "# vector_size=100 - Output vector will be of 100 size\n",
    "model=gensim.models.Word2Vec(window=10,min_count=2,vector_size=100)"
   ]
  },
  {
   "cell_type": "code",
   "execution_count": 6,
   "id": "f65c7e66",
   "metadata": {},
   "outputs": [],
   "source": [
    "# Build vocabulary\n",
    "model.build_vocab(story)"
   ]
  },
  {
   "cell_type": "code",
   "execution_count": 7,
   "id": "b754d093",
   "metadata": {},
   "outputs": [
    {
     "data": {
      "text/plain": [
       "(8792986, 9158780)"
      ]
     },
     "execution_count": 7,
     "metadata": {},
     "output_type": "execute_result"
    }
   ],
   "source": [
    "# Train Word2Vec Model\n",
    "# total_examples - total sentences in entire corpus \n",
    "# default epoch value = 5\n",
    "model.train(story,total_examples=model.corpus_count,epochs=10)"
   ]
  },
  {
   "cell_type": "code",
   "execution_count": 8,
   "id": "0eddfe9c",
   "metadata": {},
   "outputs": [
    {
     "data": {
      "text/plain": [
       "[('stormborn', 0.7561278343200684),\n",
       " ('viserys', 0.7058680653572083),\n",
       " ('targaryen', 0.7032095193862915),\n",
       " ('dragons', 0.6567473411560059),\n",
       " ('khaleesi', 0.6381340622901917),\n",
       " ('unburnt', 0.6364657878875732),\n",
       " ('unworthy', 0.6279802322387695),\n",
       " ('xhoan', 0.623015820980072),\n",
       " ('daxos', 0.6149370074272156),\n",
       " ('xaro', 0.5990347862243652)]"
      ]
     },
     "execution_count": 8,
     "metadata": {},
     "output_type": "execute_result"
    }
   ],
   "source": [
    "# Access the Word2Vec model\n",
    "model.wv.most_similar('daenerys')"
   ]
  },
  {
   "cell_type": "code",
   "execution_count": 9,
   "id": "c775cde6",
   "metadata": {},
   "outputs": [
    {
     "data": {
      "text/plain": [
       "'bronn'"
      ]
     },
     "execution_count": 9,
     "metadata": {},
     "output_type": "execute_result"
    }
   ],
   "source": [
    "model.wv.doesnt_match(['cersei','jaime','bronn','tyrion'])"
   ]
  },
  {
   "cell_type": "code",
   "execution_count": 10,
   "id": "e13a4257",
   "metadata": {},
   "outputs": [
    {
     "data": {
      "text/plain": [
       "array([-2.957254  ,  0.72497284,  0.6341044 , -1.4184879 ,  2.1713216 ,\n",
       "        0.95460504,  1.1813219 ,  2.029756  ,  1.2839499 , -1.1807473 ,\n",
       "       -0.05563115, -2.513837  , -1.4205059 , -0.9757407 , -0.8380898 ,\n",
       "       -0.7749819 ,  1.0170084 , -0.3115102 ,  1.6024581 , -0.62404734,\n",
       "       -1.0574028 ,  0.5266758 , -1.4273187 ,  0.7921439 ,  1.0898852 ,\n",
       "        2.1377928 , -1.9508506 ,  0.15065914,  2.1389174 ,  0.8328787 ,\n",
       "       -1.7771014 ,  1.0417929 , -0.5806373 ,  1.2954824 , -0.74022275,\n",
       "       -1.9346622 , -0.69096404, -0.5714575 ,  1.588735  , -0.43385276,\n",
       "        0.05179471,  1.8972554 , -0.9075457 , -0.409522  , -1.9359645 ,\n",
       "        0.5291797 ,  2.0669353 , -1.5781862 , -2.8161538 ,  2.9925497 ,\n",
       "        1.1550667 , -2.0017517 ,  0.33409363, -2.7196743 ,  2.1051776 ,\n",
       "       -0.01094539, -1.629925  ,  1.6222441 ,  2.4786959 ,  4.027443  ,\n",
       "       -1.8333949 , -1.1570858 ,  1.6455967 , -2.641025  ,  1.8101553 ,\n",
       "        0.29122937,  0.45606643,  1.0684153 ,  0.45955974,  1.0909646 ,\n",
       "        1.8263783 , -0.91202205,  1.066251  , -1.2332511 ,  0.82827824,\n",
       "       -0.04762994,  0.1999208 , -1.6502795 , -1.5567015 ,  0.9635852 ,\n",
       "       -1.5726073 ,  2.3621314 , -0.25063786,  1.3197057 , -0.7584539 ,\n",
       "        0.21540761,  0.06814508, -2.3940501 , -0.04818548,  1.8384665 ,\n",
       "        0.60730225,  0.8833329 , -0.05402722, -0.732075  ,  0.13172011,\n",
       "       -0.5484824 ,  1.180639  ,  0.76580864,  2.388666  ,  0.85473764],\n",
       "      dtype=float32)"
      ]
     },
     "execution_count": 10,
     "metadata": {},
     "output_type": "execute_result"
    }
   ],
   "source": [
    "# Vector representation of a particular word\n",
    "model.wv['jon']"
   ]
  },
  {
   "cell_type": "code",
   "execution_count": 11,
   "metadata": {},
   "outputs": [
    {
     "data": {
      "text/plain": [
       "(100,)"
      ]
     },
     "execution_count": 11,
     "metadata": {},
     "output_type": "execute_result"
    }
   ],
   "source": [
    "model.wv['jon'].shape"
   ]
  },
  {
   "cell_type": "code",
   "execution_count": 12,
   "metadata": {},
   "outputs": [
    {
     "data": {
      "text/plain": [
       "0.6651052"
      ]
     },
     "execution_count": 12,
     "metadata": {},
     "output_type": "execute_result"
    }
   ],
   "source": [
    "model.wv.similarity('arya','sansa')"
   ]
  },
  {
   "cell_type": "code",
   "execution_count": 13,
   "metadata": {},
   "outputs": [
    {
     "data": {
      "text/plain": [
       "0.6212648"
      ]
     },
     "execution_count": 13,
     "metadata": {},
     "output_type": "execute_result"
    }
   ],
   "source": [
    "model.wv.similarity('cersei','sansa')"
   ]
  },
  {
   "cell_type": "code",
   "execution_count": 14,
   "metadata": {},
   "outputs": [
    {
     "data": {
      "text/plain": [
       "0.21467058"
      ]
     },
     "execution_count": 14,
     "metadata": {},
     "output_type": "execute_result"
    }
   ],
   "source": [
    "model.wv.similarity('tywin','sansa')"
   ]
  },
  {
   "cell_type": "code",
   "execution_count": 15,
   "metadata": {},
   "outputs": [],
   "source": [
    "# Vector Representataion of all the words\n",
    "# model.wv.get_normed_vectors()"
   ]
  },
  {
   "cell_type": "code",
   "execution_count": 16,
   "metadata": {},
   "outputs": [
    {
     "data": {
      "text/plain": [
       "(17310, 100)"
      ]
     },
     "execution_count": 16,
     "metadata": {},
     "output_type": "execute_result"
    }
   ],
   "source": [
    "# Total unique words whose vector representation was created \n",
    "model.wv.get_normed_vectors().shape"
   ]
  },
  {
   "cell_type": "code",
   "execution_count": 17,
   "id": "d659929f",
   "metadata": {},
   "outputs": [],
   "source": [
    "y=model.wv.index_to_key\n",
    "# y"
   ]
  },
  {
   "cell_type": "code",
   "execution_count": 18,
   "id": "2ffb1529",
   "metadata": {},
   "outputs": [
    {
     "data": {
      "text/plain": [
       "(17310, 3)"
      ]
     },
     "execution_count": 18,
     "metadata": {},
     "output_type": "execute_result"
    }
   ],
   "source": [
    "# Applying dimentionality Reduction using PCA \n",
    "# So that we van have a Visual representation in 3D\n",
    "from sklearn.decomposition import PCA\n",
    "pca =PCA(n_components=3)\n",
    "x=pca.fit_transform(model.wv.get_normed_vectors())\n",
    "x.shape # Dimentionality reduced from 100 to 3 "
   ]
  },
  {
   "cell_type": "code",
   "execution_count": 19,
   "id": "74816270",
   "metadata": {},
   "outputs": [
    {
     "data": {
      "application/vnd.plotly.v1+json": {
       "config": {
        "plotlyServerURL": "https://plot.ly"
       },
       "data": [
        {
         "hovertemplate": "color=said<br>0=%{x}<br>1=%{y}<br>2=%{z}<extra></extra>",
         "legendgroup": "said",
         "marker": {
          "color": "#636efa",
          "symbol": "circle"
         },
         "mode": "markers",
         "name": "said",
         "scene": "scene",
         "showlegend": true,
         "type": "scatter3d",
         "x": {
          "bdata": "hsG7vg==",
          "dtype": "f4"
         },
         "y": {
          "bdata": "oOjmPQ==",
          "dtype": "f4"
         },
         "z": {
          "bdata": "xX7KPg==",
          "dtype": "f4"
         }
        },
        {
         "hovertemplate": "color=lord<br>0=%{x}<br>1=%{y}<br>2=%{z}<extra></extra>",
         "legendgroup": "lord",
         "marker": {
          "color": "#EF553B",
          "symbol": "circle"
         },
         "mode": "markers",
         "name": "lord",
         "scene": "scene",
         "showlegend": true,
         "type": "scatter3d",
         "x": {
          "bdata": "0t6dvg==",
          "dtype": "f4"
         },
         "y": {
          "bdata": "XfDzPg==",
          "dtype": "f4"
         },
         "z": {
          "bdata": "/RX2Pg==",
          "dtype": "f4"
         }
        },
        {
         "hovertemplate": "color=would<br>0=%{x}<br>1=%{y}<br>2=%{z}<extra></extra>",
         "legendgroup": "would",
         "marker": {
          "color": "#00cc96",
          "symbol": "circle"
         },
         "mode": "markers",
         "name": "would",
         "scene": "scene",
         "showlegend": true,
         "type": "scatter3d",
         "x": {
          "bdata": "fJ2jvg==",
          "dtype": "f4"
         },
         "y": {
          "bdata": "xQZsPg==",
          "dtype": "f4"
         },
         "z": {
          "bdata": "RmMrPQ==",
          "dtype": "f4"
         }
        },
        {
         "hovertemplate": "color=one<br>0=%{x}<br>1=%{y}<br>2=%{z}<extra></extra>",
         "legendgroup": "one",
         "marker": {
          "color": "#ab63fa",
          "symbol": "circle"
         },
         "mode": "markers",
         "name": "one",
         "scene": "scene",
         "showlegend": true,
         "type": "scatter3d",
         "x": {
          "bdata": "sZByPQ==",
          "dtype": "f4"
         },
         "y": {
          "bdata": "KumGPg==",
          "dtype": "f4"
         },
         "z": {
          "bdata": "vCx/Pg==",
          "dtype": "f4"
         }
        },
        {
         "hovertemplate": "color=ser<br>0=%{x}<br>1=%{y}<br>2=%{z}<extra></extra>",
         "legendgroup": "ser",
         "marker": {
          "color": "#FFA15A",
          "symbol": "circle"
         },
         "mode": "markers",
         "name": "ser",
         "scene": "scene",
         "showlegend": true,
         "type": "scatter3d",
         "x": {
          "bdata": "AZ1Xvg==",
          "dtype": "f4"
         },
         "y": {
          "bdata": "kwnPPg==",
          "dtype": "f4"
         },
         "z": {
          "bdata": "Y6EVPw==",
          "dtype": "f4"
         }
        },
        {
         "hovertemplate": "color=could<br>0=%{x}<br>1=%{y}<br>2=%{z}<extra></extra>",
         "legendgroup": "could",
         "marker": {
          "color": "#19d3f3",
          "symbol": "circle"
         },
         "mode": "markers",
         "name": "could",
         "scene": "scene",
         "showlegend": true,
         "type": "scatter3d",
         "x": {
          "bdata": "Z4jiPA==",
          "dtype": "f4"
         },
         "y": {
          "bdata": "s/ZSPg==",
          "dtype": "f4"
         },
         "z": {
          "bdata": "5voqPQ==",
          "dtype": "f4"
         }
        },
        {
         "hovertemplate": "color=man<br>0=%{x}<br>1=%{y}<br>2=%{z}<extra></extra>",
         "legendgroup": "man",
         "marker": {
          "color": "#FF6692",
          "symbol": "circle"
         },
         "mode": "markers",
         "name": "man",
         "scene": "scene",
         "showlegend": true,
         "type": "scatter3d",
         "x": {
          "bdata": "BxH7vA==",
          "dtype": "f4"
         },
         "y": {
          "bdata": "lLYsPg==",
          "dtype": "f4"
         },
         "z": {
          "bdata": "5dy0Pg==",
          "dtype": "f4"
         }
        },
        {
         "hovertemplate": "color=king<br>0=%{x}<br>1=%{y}<br>2=%{z}<extra></extra>",
         "legendgroup": "king",
         "marker": {
          "color": "#B6E880",
          "symbol": "circle"
         },
         "mode": "markers",
         "name": "king",
         "scene": "scene",
         "showlegend": true,
         "type": "scatter3d",
         "x": {
          "bdata": "pmeCvg==",
          "dtype": "f4"
         },
         "y": {
          "bdata": "jBL9Pg==",
          "dtype": "f4"
         },
         "z": {
          "bdata": "NjynPg==",
          "dtype": "f4"
         }
        },
        {
         "hovertemplate": "color=men<br>0=%{x}<br>1=%{y}<br>2=%{z}<extra></extra>",
         "legendgroup": "men",
         "marker": {
          "color": "#FF97FF",
          "symbol": "circle"
         },
         "mode": "markers",
         "name": "men",
         "scene": "scene",
         "showlegend": true,
         "type": "scatter3d",
         "x": {
          "bdata": "k4iNvA==",
          "dtype": "f4"
         },
         "y": {
          "bdata": "1ZEMPw==",
          "dtype": "f4"
         },
         "z": {
          "bdata": "aPZbOg==",
          "dtype": "f4"
         }
        },
        {
         "hovertemplate": "color=back<br>0=%{x}<br>1=%{y}<br>2=%{z}<extra></extra>",
         "legendgroup": "back",
         "marker": {
          "color": "#FECB52",
          "symbol": "circle"
         },
         "mode": "markers",
         "name": "back",
         "scene": "scene",
         "showlegend": true,
         "type": "scatter3d",
         "x": {
          "bdata": "VEdqPg==",
          "dtype": "f4"
         },
         "y": {
          "bdata": "Zf1mPg==",
          "dtype": "f4"
         },
         "z": {
          "bdata": "m1Z2Pg==",
          "dtype": "f4"
         }
        },
        {
         "hovertemplate": "color=well<br>0=%{x}<br>1=%{y}<br>2=%{z}<extra></extra>",
         "legendgroup": "well",
         "marker": {
          "color": "#636efa",
          "symbol": "circle"
         },
         "mode": "markers",
         "name": "well",
         "scene": "scene",
         "showlegend": true,
         "type": "scatter3d",
         "x": {
          "bdata": "aWKAvg==",
          "dtype": "f4"
         },
         "y": {
          "bdata": "G0HAPg==",
          "dtype": "f4"
         },
         "z": {
          "bdata": "9wjGPQ==",
          "dtype": "f4"
         }
        },
        {
         "hovertemplate": "color=like<br>0=%{x}<br>1=%{y}<br>2=%{z}<extra></extra>",
         "legendgroup": "like",
         "marker": {
          "color": "#EF553B",
          "symbol": "circle"
         },
         "mode": "markers",
         "name": "like",
         "scene": "scene",
         "showlegend": true,
         "type": "scatter3d",
         "x": {
          "bdata": "WN5sPg==",
          "dtype": "f4"
         },
         "y": {
          "bdata": "qw4JPg==",
          "dtype": "f4"
         },
         "z": {
          "bdata": "BkLaPQ==",
          "dtype": "f4"
         }
        },
        {
         "hovertemplate": "color=jon<br>0=%{x}<br>1=%{y}<br>2=%{z}<extra></extra>",
         "legendgroup": "jon",
         "marker": {
          "color": "#00cc96",
          "symbol": "circle"
         },
         "mode": "markers",
         "name": "jon",
         "scene": "scene",
         "showlegend": true,
         "type": "scatter3d",
         "x": {
          "bdata": "iY6ePA==",
          "dtype": "f4"
         },
         "y": {
          "bdata": "MXM9Pg==",
          "dtype": "f4"
         },
         "z": {
          "bdata": "Yol6Pg==",
          "dtype": "f4"
         }
        },
        {
         "hovertemplate": "color=father<br>0=%{x}<br>1=%{y}<br>2=%{z}<extra></extra>",
         "legendgroup": "father",
         "marker": {
          "color": "#ab63fa",
          "symbol": "circle"
         },
         "mode": "markers",
         "name": "father",
         "scene": "scene",
         "showlegend": true,
         "type": "scatter3d",
         "x": {
          "bdata": "7tTUvg==",
          "dtype": "f4"
         },
         "y": {
          "bdata": "2bu2Pg==",
          "dtype": "f4"
         },
         "z": {
          "bdata": "JWG8Pg==",
          "dtype": "f4"
         }
        },
        {
         "hovertemplate": "color=old<br>0=%{x}<br>1=%{y}<br>2=%{z}<extra></extra>",
         "legendgroup": "old",
         "marker": {
          "color": "#FFA15A",
          "symbol": "circle"
         },
         "mode": "markers",
         "name": "old",
         "scene": "scene",
         "showlegend": true,
         "type": "scatter3d",
         "x": {
          "bdata": "uXH4PA==",
          "dtype": "f4"
         },
         "y": {
          "bdata": "cv+mPg==",
          "dtype": "f4"
         },
         "z": {
          "bdata": "1jJkPg==",
          "dtype": "f4"
         }
        },
        {
         "hovertemplate": "color=hand<br>0=%{x}<br>1=%{y}<br>2=%{z}<extra></extra>",
         "legendgroup": "hand",
         "marker": {
          "color": "#19d3f3",
          "symbol": "circle"
         },
         "mode": "markers",
         "name": "hand",
         "scene": "scene",
         "showlegend": true,
         "type": "scatter3d",
         "x": {
          "bdata": "ubfDPQ==",
          "dtype": "f4"
         },
         "y": {
          "bdata": "gF0bPg==",
          "dtype": "f4"
         },
         "z": {
          "bdata": "+qsBPw==",
          "dtype": "f4"
         }
        },
        {
         "hovertemplate": "color=even<br>0=%{x}<br>1=%{y}<br>2=%{z}<extra></extra>",
         "legendgroup": "even",
         "marker": {
          "color": "#FF6692",
          "symbol": "circle"
         },
         "mode": "markers",
         "name": "even",
         "scene": "scene",
         "showlegend": true,
         "type": "scatter3d",
         "x": {
          "bdata": "AmoTvQ==",
          "dtype": "f4"
         },
         "y": {
          "bdata": "IKtoPg==",
          "dtype": "f4"
         },
         "z": {
          "bdata": "pDhhvQ==",
          "dtype": "f4"
         }
        },
        {
         "hovertemplate": "color=tyrion<br>0=%{x}<br>1=%{y}<br>2=%{z}<extra></extra>",
         "legendgroup": "tyrion",
         "marker": {
          "color": "#B6E880",
          "symbol": "circle"
         },
         "mode": "markers",
         "name": "tyrion",
         "scene": "scene",
         "showlegend": true,
         "type": "scatter3d",
         "x": {
          "bdata": "UdD7vA==",
          "dtype": "f4"
         },
         "y": {
          "bdata": "D/LDvA==",
          "dtype": "f4"
         },
         "z": {
          "bdata": "P+KCPg==",
          "dtype": "f4"
         }
        },
        {
         "hovertemplate": "color=never<br>0=%{x}<br>1=%{y}<br>2=%{z}<extra></extra>",
         "legendgroup": "never",
         "marker": {
          "color": "#FF97FF",
          "symbol": "circle"
         },
         "mode": "markers",
         "name": "never",
         "scene": "scene",
         "showlegend": true,
         "type": "scatter3d",
         "x": {
          "bdata": "Le2Nvg==",
          "dtype": "f4"
         },
         "y": {
          "bdata": "B/cdPg==",
          "dtype": "f4"
         },
         "z": {
          "bdata": "McfzPQ==",
          "dtype": "f4"
         }
        },
        {
         "hovertemplate": "color=know<br>0=%{x}<br>1=%{y}<br>2=%{z}<extra></extra>",
         "legendgroup": "know",
         "marker": {
          "color": "#FECB52",
          "symbol": "circle"
         },
         "mode": "markers",
         "name": "know",
         "scene": "scene",
         "showlegend": true,
         "type": "scatter3d",
         "x": {
          "bdata": "7hj1vg==",
          "dtype": "f4"
         },
         "y": {
          "bdata": "m+BzPg==",
          "dtype": "f4"
         },
         "z": {
          "bdata": "832kPQ==",
          "dtype": "f4"
         }
        },
        {
         "hovertemplate": "color=see<br>0=%{x}<br>1=%{y}<br>2=%{z}<extra></extra>",
         "legendgroup": "see",
         "marker": {
          "color": "#636efa",
          "symbol": "circle"
         },
         "mode": "markers",
         "name": "see",
         "scene": "scene",
         "showlegend": true,
         "type": "scatter3d",
         "x": {
          "bdata": "2+gPPA==",
          "dtype": "f4"
         },
         "y": {
          "bdata": "TTCAPg==",
          "dtype": "f4"
         },
         "z": {
          "bdata": "AVMQPg==",
          "dtype": "f4"
         }
        },
        {
         "hovertemplate": "color=made<br>0=%{x}<br>1=%{y}<br>2=%{z}<extra></extra>",
         "legendgroup": "made",
         "marker": {
          "color": "#EF553B",
          "symbol": "circle"
         },
         "mode": "markers",
         "name": "made",
         "scene": "scene",
         "showlegend": true,
         "type": "scatter3d",
         "x": {
          "bdata": "6oagPQ==",
          "dtype": "f4"
         },
         "y": {
          "bdata": "4hsVPg==",
          "dtype": "f4"
         },
         "z": {
          "bdata": "mCItPg==",
          "dtype": "f4"
         }
        },
        {
         "hovertemplate": "color=eyes<br>0=%{x}<br>1=%{y}<br>2=%{z}<extra></extra>",
         "legendgroup": "eyes",
         "marker": {
          "color": "#00cc96",
          "symbol": "circle"
         },
         "mode": "markers",
         "name": "eyes",
         "scene": "scene",
         "showlegend": true,
         "type": "scatter3d",
         "x": {
          "bdata": "CbYpPg==",
          "dtype": "f4"
         },
         "y": {
          "bdata": "ORbkPA==",
          "dtype": "f4"
         },
         "z": {
          "bdata": "LNKhPg==",
          "dtype": "f4"
         }
        },
        {
         "hovertemplate": "color=black<br>0=%{x}<br>1=%{y}<br>2=%{z}<extra></extra>",
         "legendgroup": "black",
         "marker": {
          "color": "#ab63fa",
          "symbol": "circle"
         },
         "mode": "markers",
         "name": "black",
         "scene": "scene",
         "showlegend": true,
         "type": "scatter3d",
         "x": {
          "bdata": "wMinPg==",
          "dtype": "f4"
         },
         "y": {
          "bdata": "Vo++Pg==",
          "dtype": "f4"
         },
         "z": {
          "bdata": "GEuQPg==",
          "dtype": "f4"
         }
        },
        {
         "hovertemplate": "color=told<br>0=%{x}<br>1=%{y}<br>2=%{z}<extra></extra>",
         "legendgroup": "told",
         "marker": {
          "color": "#FFA15A",
          "symbol": "circle"
         },
         "mode": "markers",
         "name": "told",
         "scene": "scene",
         "showlegend": true,
         "type": "scatter3d",
         "x": {
          "bdata": "KLeYvg==",
          "dtype": "f4"
         },
         "y": {
          "bdata": "AClKPg==",
          "dtype": "f4"
         },
         "z": {
          "bdata": "fxFuPg==",
          "dtype": "f4"
         }
        },
        {
         "hovertemplate": "color=lady<br>0=%{x}<br>1=%{y}<br>2=%{z}<extra></extra>",
         "legendgroup": "lady",
         "marker": {
          "color": "#19d3f3",
          "symbol": "circle"
         },
         "mode": "markers",
         "name": "lady",
         "scene": "scene",
         "showlegend": true,
         "type": "scatter3d",
         "x": {
          "bdata": "k9qJvg==",
          "dtype": "f4"
         },
         "y": {
          "bdata": "UCecPg==",
          "dtype": "f4"
         },
         "z": {
          "bdata": "ubH+Pg==",
          "dtype": "f4"
         }
        },
        {
         "hovertemplate": "color=thought<br>0=%{x}<br>1=%{y}<br>2=%{z}<extra></extra>",
         "legendgroup": "thought",
         "marker": {
          "color": "#FF6692",
          "symbol": "circle"
         },
         "mode": "markers",
         "name": "thought",
         "scene": "scene",
         "showlegend": true,
         "type": "scatter3d",
         "x": {
          "bdata": "+pUjvg==",
          "dtype": "f4"
         },
         "y": {
          "bdata": "07uPPQ==",
          "dtype": "f4"
         },
         "z": {
          "bdata": "eQUwPg==",
          "dtype": "f4"
         }
        },
        {
         "hovertemplate": "color=time<br>0=%{x}<br>1=%{y}<br>2=%{z}<extra></extra>",
         "legendgroup": "time",
         "marker": {
          "color": "#B6E880",
          "symbol": "circle"
         },
         "mode": "markers",
         "name": "time",
         "scene": "scene",
         "showlegend": true,
         "type": "scatter3d",
         "x": {
          "bdata": "UX5FPQ==",
          "dtype": "f4"
         },
         "y": {
          "bdata": "4d9VPg==",
          "dtype": "f4"
         },
         "z": {
          "bdata": "q3zmPQ==",
          "dtype": "f4"
         }
        },
        {
         "hovertemplate": "color=long<br>0=%{x}<br>1=%{y}<br>2=%{z}<extra></extra>",
         "legendgroup": "long",
         "marker": {
          "color": "#FF97FF",
          "symbol": "circle"
         },
         "mode": "markers",
         "name": "long",
         "scene": "scene",
         "showlegend": true,
         "type": "scatter3d",
         "x": {
          "bdata": "TsFdPg==",
          "dtype": "f4"
         },
         "y": {
          "bdata": "vkXCPg==",
          "dtype": "f4"
         },
         "z": {
          "bdata": "bEshPg==",
          "dtype": "f4"
         }
        },
        {
         "hovertemplate": "color=might<br>0=%{x}<br>1=%{y}<br>2=%{z}<extra></extra>",
         "legendgroup": "might",
         "marker": {
          "color": "#FECB52",
          "symbol": "circle"
         },
         "mode": "markers",
         "name": "might",
         "scene": "scene",
         "showlegend": true,
         "type": "scatter3d",
         "x": {
          "bdata": "Kgytvg==",
          "dtype": "f4"
         },
         "y": {
          "bdata": "0F1KPg==",
          "dtype": "f4"
         },
         "z": {
          "bdata": "cpWXPQ==",
          "dtype": "f4"
         }
        },
        {
         "hovertemplate": "color=us<br>0=%{x}<br>1=%{y}<br>2=%{z}<extra></extra>",
         "legendgroup": "us",
         "marker": {
          "color": "#636efa",
          "symbol": "circle"
         },
         "mode": "markers",
         "name": "us",
         "scene": "scene",
         "showlegend": true,
         "type": "scatter3d",
         "x": {
          "bdata": "TpvCvg==",
          "dtype": "f4"
         },
         "y": {
          "bdata": "KNXAPg==",
          "dtype": "f4"
         },
         "z": {
          "bdata": "eg6hOw==",
          "dtype": "f4"
         }
        },
        {
         "hovertemplate": "color=come<br>0=%{x}<br>1=%{y}<br>2=%{z}<extra></extra>",
         "legendgroup": "come",
         "marker": {
          "color": "#EF553B",
          "symbol": "circle"
         },
         "mode": "markers",
         "name": "come",
         "scene": "scene",
         "showlegend": true,
         "type": "scatter3d",
         "x": {
          "bdata": "LoBTvg==",
          "dtype": "f4"
         },
         "y": {
          "bdata": "zarMPg==",
          "dtype": "f4"
         },
         "z": {
          "bdata": "Kan4Og==",
          "dtype": "f4"
         }
        },
        {
         "hovertemplate": "color=face<br>0=%{x}<br>1=%{y}<br>2=%{z}<extra></extra>",
         "legendgroup": "face",
         "marker": {
          "color": "#00cc96",
          "symbol": "circle"
         },
         "mode": "markers",
         "name": "face",
         "scene": "scene",
         "showlegend": true,
         "type": "scatter3d",
         "x": {
          "bdata": "ZLFkPg==",
          "dtype": "f4"
         },
         "y": {
          "bdata": "Jz6DvQ==",
          "dtype": "f4"
         },
         "z": {
          "bdata": "EQTsPg==",
          "dtype": "f4"
         }
        },
        {
         "hovertemplate": "color=still<br>0=%{x}<br>1=%{y}<br>2=%{z}<extra></extra>",
         "legendgroup": "still",
         "marker": {
          "color": "#ab63fa",
          "symbol": "circle"
         },
         "mode": "markers",
         "name": "still",
         "scene": "scene",
         "showlegend": true,
         "type": "scatter3d",
         "x": {
          "bdata": "bQmzPQ==",
          "dtype": "f4"
         },
         "y": {
          "bdata": "OYSkPg==",
          "dtype": "f4"
         },
         "z": {
          "bdata": "5fizPQ==",
          "dtype": "f4"
         }
        },
        {
         "hovertemplate": "color=head<br>0=%{x}<br>1=%{y}<br>2=%{z}<extra></extra>",
         "legendgroup": "head",
         "marker": {
          "color": "#FFA15A",
          "symbol": "circle"
         },
         "mode": "markers",
         "name": "head",
         "scene": "scene",
         "showlegend": true,
         "type": "scatter3d",
         "x": {
          "bdata": "IfJZPg==",
          "dtype": "f4"
         },
         "y": {
          "bdata": "Y0w9PQ==",
          "dtype": "f4"
         },
         "z": {
          "bdata": "wkznPg==",
          "dtype": "f4"
         }
        },
        {
         "hovertemplate": "color=red<br>0=%{x}<br>1=%{y}<br>2=%{z}<extra></extra>",
         "legendgroup": "red",
         "marker": {
          "color": "#19d3f3",
          "symbol": "circle"
         },
         "mode": "markers",
         "name": "red",
         "scene": "scene",
         "showlegend": true,
         "type": "scatter3d",
         "x": {
          "bdata": "yiNwPg==",
          "dtype": "f4"
         },
         "y": {
          "bdata": "t6+iPg==",
          "dtype": "f4"
         },
         "z": {
          "bdata": "6pOnPg==",
          "dtype": "f4"
         }
        },
        {
         "hovertemplate": "color=way<br>0=%{x}<br>1=%{y}<br>2=%{z}<extra></extra>",
         "legendgroup": "way",
         "marker": {
          "color": "#FF6692",
          "symbol": "circle"
         },
         "mode": "markers",
         "name": "way",
         "scene": "scene",
         "showlegend": true,
         "type": "scatter3d",
         "x": {
          "bdata": "ockJPg==",
          "dtype": "f4"
         },
         "y": {
          "bdata": "dCWNPg==",
          "dtype": "f4"
         },
         "z": {
          "bdata": "z8jMPA==",
          "dtype": "f4"
         }
        },
        {
         "hovertemplate": "color=boy<br>0=%{x}<br>1=%{y}<br>2=%{z}<extra></extra>",
         "legendgroup": "boy",
         "marker": {
          "color": "#B6E880",
          "symbol": "circle"
         },
         "mode": "markers",
         "name": "boy",
         "scene": "scene",
         "showlegend": true,
         "type": "scatter3d",
         "x": {
          "bdata": "ul0dvg==",
          "dtype": "f4"
         },
         "y": {
          "bdata": "ScNJPg==",
          "dtype": "f4"
         },
         "z": {
          "bdata": "xVICPw==",
          "dtype": "f4"
         }
        },
        {
         "hovertemplate": "color=page<br>0=%{x}<br>1=%{y}<br>2=%{z}<extra></extra>",
         "legendgroup": "page",
         "marker": {
          "color": "#FF97FF",
          "symbol": "circle"
         },
         "mode": "markers",
         "name": "page",
         "scene": "scene",
         "showlegend": true,
         "type": "scatter3d",
         "x": {
          "bdata": "+0qqvA==",
          "dtype": "f4"
         },
         "y": {
          "bdata": "KhJXPg==",
          "dtype": "f4"
         },
         "z": {
          "bdata": "+tS3Pg==",
          "dtype": "f4"
         }
        },
        {
         "hovertemplate": "color=must<br>0=%{x}<br>1=%{y}<br>2=%{z}<extra></extra>",
         "legendgroup": "must",
         "marker": {
          "color": "#FECB52",
          "symbol": "circle"
         },
         "mode": "markers",
         "name": "must",
         "scene": "scene",
         "showlegend": true,
         "type": "scatter3d",
         "x": {
          "bdata": "uPrUvg==",
          "dtype": "f4"
         },
         "y": {
          "bdata": "E3SDPg==",
          "dtype": "f4"
         },
         "z": {
          "bdata": "8MfSPQ==",
          "dtype": "f4"
         }
        },
        {
         "hovertemplate": "color=queen<br>0=%{x}<br>1=%{y}<br>2=%{z}<extra></extra>",
         "legendgroup": "queen",
         "marker": {
          "color": "#636efa",
          "symbol": "circle"
         },
         "mode": "markers",
         "name": "queen",
         "scene": "scene",
         "showlegend": true,
         "type": "scatter3d",
         "x": {
          "bdata": "oBCQvg==",
          "dtype": "f4"
         },
         "y": {
          "bdata": "HUWNPg==",
          "dtype": "f4"
         },
         "z": {
          "bdata": "hJqIPg==",
          "dtype": "f4"
         }
        },
        {
         "hovertemplate": "color=good<br>0=%{x}<br>1=%{y}<br>2=%{z}<extra></extra>",
         "legendgroup": "good",
         "marker": {
          "color": "#EF553B",
          "symbol": "circle"
         },
         "mode": "markers",
         "name": "good",
         "scene": "scene",
         "showlegend": true,
         "type": "scatter3d",
         "x": {
          "bdata": "ceGjvg==",
          "dtype": "f4"
         },
         "y": {
          "bdata": "2QM1Pg==",
          "dtype": "f4"
         },
         "z": {
          "bdata": "9e8ZPg==",
          "dtype": "f4"
         }
        },
        {
         "hovertemplate": "color=two<br>0=%{x}<br>1=%{y}<br>2=%{z}<extra></extra>",
         "legendgroup": "two",
         "marker": {
          "color": "#00cc96",
          "symbol": "circle"
         },
         "mode": "markers",
         "name": "two",
         "scene": "scene",
         "showlegend": true,
         "type": "scatter3d",
         "x": {
          "bdata": "YyRbPg==",
          "dtype": "f4"
         },
         "y": {
          "bdata": "JaYRPw==",
          "dtype": "f4"
         },
         "z": {
          "bdata": "cHMlPg==",
          "dtype": "f4"
         }
        },
        {
         "hovertemplate": "color=brother<br>0=%{x}<br>1=%{y}<br>2=%{z}<extra></extra>",
         "legendgroup": "brother",
         "marker": {
          "color": "#ab63fa",
          "symbol": "circle"
         },
         "mode": "markers",
         "name": "brother",
         "scene": "scene",
         "showlegend": true,
         "type": "scatter3d",
         "x": {
          "bdata": "z+e9vg==",
          "dtype": "f4"
         },
         "y": {
          "bdata": "aPnMPg==",
          "dtype": "f4"
         },
         "z": {
          "bdata": "UvnyPg==",
          "dtype": "f4"
         }
        },
        {
         "hovertemplate": "color=night<br>0=%{x}<br>1=%{y}<br>2=%{z}<extra></extra>",
         "legendgroup": "night",
         "marker": {
          "color": "#FFA15A",
          "symbol": "circle"
         },
         "mode": "markers",
         "name": "night",
         "scene": "scene",
         "showlegend": true,
         "type": "scatter3d",
         "x": {
          "bdata": "YlcUPQ==",
          "dtype": "f4"
         },
         "y": {
          "bdata": "ziSnPg==",
          "dtype": "f4"
         },
         "z": {
          "bdata": "nbnvPA==",
          "dtype": "f4"
         }
        },
        {
         "hovertemplate": "color=little<br>0=%{x}<br>1=%{y}<br>2=%{z}<extra></extra>",
         "legendgroup": "little",
         "marker": {
          "color": "#19d3f3",
          "symbol": "circle"
         },
         "mode": "markers",
         "name": "little",
         "scene": "scene",
         "showlegend": true,
         "type": "scatter3d",
         "x": {
          "bdata": "zHy0vA==",
          "dtype": "f4"
         },
         "y": {
          "bdata": "OUHoPQ==",
          "dtype": "f4"
         },
         "z": {
          "bdata": "QBJcPg==",
          "dtype": "f4"
         }
        },
        {
         "hovertemplate": "color=took<br>0=%{x}<br>1=%{y}<br>2=%{z}<extra></extra>",
         "legendgroup": "took",
         "marker": {
          "color": "#FF6692",
          "symbol": "circle"
         },
         "mode": "markers",
         "name": "took",
         "scene": "scene",
         "showlegend": true,
         "type": "scatter3d",
         "x": {
          "bdata": "eEXEPA==",
          "dtype": "f4"
         },
         "y": {
          "bdata": "8UmVPg==",
          "dtype": "f4"
         },
         "z": {
          "bdata": "+C/CPg==",
          "dtype": "f4"
         }
        },
        {
         "hovertemplate": "color=came<br>0=%{x}<br>1=%{y}<br>2=%{z}<extra></extra>",
         "legendgroup": "came",
         "marker": {
          "color": "#B6E880",
          "symbol": "circle"
         },
         "mode": "markers",
         "name": "came",
         "scene": "scene",
         "showlegend": true,
         "type": "scatter3d",
         "x": {
          "bdata": "yVxwPg==",
          "dtype": "f4"
         },
         "y": {
          "bdata": "1+/APg==",
          "dtype": "f4"
         },
         "z": {
          "bdata": "EnmgPQ==",
          "dtype": "f4"
         }
        },
        {
         "hovertemplate": "color=though<br>0=%{x}<br>1=%{y}<br>2=%{z}<extra></extra>",
         "legendgroup": "though",
         "marker": {
          "color": "#FF97FF",
          "symbol": "circle"
         },
         "mode": "markers",
         "name": "though",
         "scene": "scene",
         "showlegend": true,
         "type": "scatter3d",
         "x": {
          "bdata": "XALxvQ==",
          "dtype": "f4"
         },
         "y": {
          "bdata": "+bswPg==",
          "dtype": "f4"
         },
         "z": {
          "bdata": "9Hm5PQ==",
          "dtype": "f4"
         }
        },
        {
         "hovertemplate": "color=say<br>0=%{x}<br>1=%{y}<br>2=%{z}<extra></extra>",
         "legendgroup": "say",
         "marker": {
          "color": "#FECB52",
          "symbol": "circle"
         },
         "mode": "markers",
         "name": "say",
         "scene": "scene",
         "showlegend": true,
         "type": "scatter3d",
         "x": {
          "bdata": "3WTWvg==",
          "dtype": "f4"
         },
         "y": {
          "bdata": "JOPYPQ==",
          "dtype": "f4"
         },
         "z": {
          "bdata": "UmpQPg==",
          "dtype": "f4"
         }
        },
        {
         "hovertemplate": "color=three<br>0=%{x}<br>1=%{y}<br>2=%{z}<extra></extra>",
         "legendgroup": "three",
         "marker": {
          "color": "#636efa",
          "symbol": "circle"
         },
         "mode": "markers",
         "name": "three",
         "scene": "scene",
         "showlegend": true,
         "type": "scatter3d",
         "x": {
          "bdata": "ftXzPQ==",
          "dtype": "f4"
         },
         "y": {
          "bdata": "VQwhPw==",
          "dtype": "f4"
         },
         "z": {
          "bdata": "+F4lPg==",
          "dtype": "f4"
         }
        },
        {
         "hovertemplate": "color=away<br>0=%{x}<br>1=%{y}<br>2=%{z}<extra></extra>",
         "legendgroup": "away",
         "marker": {
          "color": "#EF553B",
          "symbol": "circle"
         },
         "mode": "markers",
         "name": "away",
         "scene": "scene",
         "showlegend": true,
         "type": "scatter3d",
         "x": {
          "bdata": "2YBTPg==",
          "dtype": "f4"
         },
         "y": {
          "bdata": "yioXPg==",
          "dtype": "f4"
         },
         "z": {
          "bdata": "nGs1Pg==",
          "dtype": "f4"
         }
        },
        {
         "hovertemplate": "color=dead<br>0=%{x}<br>1=%{y}<br>2=%{z}<extra></extra>",
         "legendgroup": "dead",
         "marker": {
          "color": "#00cc96",
          "symbol": "circle"
         },
         "mode": "markers",
         "name": "dead",
         "scene": "scene",
         "showlegend": true,
         "type": "scatter3d",
         "x": {
          "bdata": "GDFwPQ==",
          "dtype": "f4"
         },
         "y": {
          "bdata": "SuudPg==",
          "dtype": "f4"
         },
         "z": {
          "bdata": "wjUaPg==",
          "dtype": "f4"
         }
        },
        {
         "hovertemplate": "color=son<br>0=%{x}<br>1=%{y}<br>2=%{z}<extra></extra>",
         "legendgroup": "son",
         "marker": {
          "color": "#ab63fa",
          "symbol": "circle"
         },
         "mode": "markers",
         "name": "son",
         "scene": "scene",
         "showlegend": true,
         "type": "scatter3d",
         "x": {
          "bdata": "rUKYvg==",
          "dtype": "f4"
         },
         "y": {
          "bdata": "xo/5Pg==",
          "dtype": "f4"
         },
         "z": {
          "bdata": "480ZPw==",
          "dtype": "f4"
         }
        },
        {
         "hovertemplate": "color=blood<br>0=%{x}<br>1=%{y}<br>2=%{z}<extra></extra>",
         "legendgroup": "blood",
         "marker": {
          "color": "#FFA15A",
          "symbol": "circle"
         },
         "mode": "markers",
         "name": "blood",
         "scene": "scene",
         "showlegend": true,
         "type": "scatter3d",
         "x": {
          "bdata": "7eFGPg==",
          "dtype": "f4"
         },
         "y": {
          "bdata": "LhBxPQ==",
          "dtype": "f4"
         },
         "z": {
          "bdata": "y0c4Pg==",
          "dtype": "f4"
         }
        },
        {
         "hovertemplate": "color=take<br>0=%{x}<br>1=%{y}<br>2=%{z}<extra></extra>",
         "legendgroup": "take",
         "marker": {
          "color": "#19d3f3",
          "symbol": "circle"
         },
         "mode": "markers",
         "name": "take",
         "scene": "scene",
         "showlegend": true,
         "type": "scatter3d",
         "x": {
          "bdata": "ThaQvg==",
          "dtype": "f4"
         },
         "y": {
          "bdata": "wIKxPg==",
          "dtype": "f4"
         },
         "z": {
          "bdata": "RXZUPg==",
          "dtype": "f4"
         }
        },
        {
         "hovertemplate": "color=go<br>0=%{x}<br>1=%{y}<br>2=%{z}<extra></extra>",
         "legendgroup": "go",
         "marker": {
          "color": "#FF6692",
          "symbol": "circle"
         },
         "mode": "markers",
         "name": "go",
         "scene": "scene",
         "showlegend": true,
         "type": "scatter3d",
         "x": {
          "bdata": "aRArvg==",
          "dtype": "f4"
         },
         "y": {
          "bdata": "Vuk/Pg==",
          "dtype": "f4"
         },
         "z": {
          "bdata": "QRACPA==",
          "dtype": "f4"
         }
        },
        {
         "hovertemplate": "color=half<br>0=%{x}<br>1=%{y}<br>2=%{z}<extra></extra>",
         "legendgroup": "half",
         "marker": {
          "color": "#B6E880",
          "symbol": "circle"
         },
         "mode": "markers",
         "name": "half",
         "scene": "scene",
         "showlegend": true,
         "type": "scatter3d",
         "x": {
          "bdata": "5iMqPg==",
          "dtype": "f4"
         },
         "y": {
          "bdata": "HoyjPg==",
          "dtype": "f4"
         },
         "z": {
          "bdata": "HQkRPg==",
          "dtype": "f4"
         }
        },
        {
         "hovertemplate": "color=make<br>0=%{x}<br>1=%{y}<br>2=%{z}<extra></extra>",
         "legendgroup": "make",
         "marker": {
          "color": "#FF97FF",
          "symbol": "circle"
         },
         "mode": "markers",
         "name": "make",
         "scene": "scene",
         "showlegend": true,
         "type": "scatter3d",
         "x": {
          "bdata": "TU+Avg==",
          "dtype": "f4"
         },
         "y": {
          "bdata": "6L8FPg==",
          "dtype": "f4"
         },
         "z": {
          "bdata": "nwRBPQ==",
          "dtype": "f4"
         }
        },
        {
         "hovertemplate": "color=arya<br>0=%{x}<br>1=%{y}<br>2=%{z}<extra></extra>",
         "legendgroup": "arya",
         "marker": {
          "color": "#FECB52",
          "symbol": "circle"
         },
         "mode": "markers",
         "name": "arya",
         "scene": "scene",
         "showlegend": true,
         "type": "scatter3d",
         "x": {
          "bdata": "9QIsPg==",
          "dtype": "f4"
         },
         "y": {
          "bdata": "eDTGvA==",
          "dtype": "f4"
         },
         "z": {
          "bdata": "bSAOPg==",
          "dtype": "f4"
         }
        },
        {
         "hovertemplate": "color=saw<br>0=%{x}<br>1=%{y}<br>2=%{z}<extra></extra>",
         "legendgroup": "saw",
         "marker": {
          "color": "#636efa",
          "symbol": "circle"
         },
         "mode": "markers",
         "name": "saw",
         "scene": "scene",
         "showlegend": true,
         "type": "scatter3d",
         "x": {
          "bdata": "iKmWPg==",
          "dtype": "f4"
         },
         "y": {
          "bdata": "IxmSPg==",
          "dtype": "f4"
         },
         "z": {
          "bdata": "uj98Pg==",
          "dtype": "f4"
         }
        },
        {
         "hovertemplate": "color=day<br>0=%{x}<br>1=%{y}<br>2=%{z}<extra></extra>",
         "legendgroup": "day",
         "marker": {
          "color": "#EF553B",
          "symbol": "circle"
         },
         "mode": "markers",
         "name": "day",
         "scene": "scene",
         "showlegend": true,
         "type": "scatter3d",
         "x": {
          "bdata": "NHYMvQ==",
          "dtype": "f4"
         },
         "y": {
          "bdata": "/63QPg==",
          "dtype": "f4"
         },
         "z": {
          "bdata": "3U1lPA==",
          "dtype": "f4"
         }
        },
        {
         "hovertemplate": "color=white<br>0=%{x}<br>1=%{y}<br>2=%{z}<extra></extra>",
         "legendgroup": "white",
         "marker": {
          "color": "#00cc96",
          "symbol": "circle"
         },
         "mode": "markers",
         "name": "white",
         "scene": "scene",
         "showlegend": true,
         "type": "scatter3d",
         "x": {
          "bdata": "Fg+XPg==",
          "dtype": "f4"
         },
         "y": {
          "bdata": "DK+2Pg==",
          "dtype": "f4"
         },
         "z": {
          "bdata": "xK2/Pg==",
          "dtype": "f4"
         }
        },
        {
         "hovertemplate": "color=jaime<br>0=%{x}<br>1=%{y}<br>2=%{z}<extra></extra>",
         "legendgroup": "jaime",
         "marker": {
          "color": "#ab63fa",
          "symbol": "circle"
         },
         "mode": "markers",
         "name": "jaime",
         "scene": "scene",
         "showlegend": true,
         "type": "scatter3d",
         "x": {
          "bdata": "SrjcvQ==",
          "dtype": "f4"
         },
         "y": {
          "bdata": "PtopPg==",
          "dtype": "f4"
         },
         "z": {
          "bdata": "66XCPg==",
          "dtype": "f4"
         }
        },
        {
         "hovertemplate": "color=first<br>0=%{x}<br>1=%{y}<br>2=%{z}<extra></extra>",
         "legendgroup": "first",
         "marker": {
          "color": "#FFA15A",
          "symbol": "circle"
         },
         "mode": "markers",
         "name": "first",
         "scene": "scene",
         "showlegend": true,
         "type": "scatter3d",
         "x": {
          "bdata": "nEiavQ==",
          "dtype": "f4"
         },
         "y": {
          "bdata": "d4TqPg==",
          "dtype": "f4"
         },
         "z": {
          "bdata": "h7AlPg==",
          "dtype": "f4"
         }
        },
        {
         "hovertemplate": "color=look<br>0=%{x}<br>1=%{y}<br>2=%{z}<extra></extra>",
         "legendgroup": "look",
         "marker": {
          "color": "#19d3f3",
          "symbol": "circle"
         },
         "mode": "markers",
         "name": "look",
         "scene": "scene",
         "showlegend": true,
         "type": "scatter3d",
         "x": {
          "bdata": "A0UOPQ==",
          "dtype": "f4"
         },
         "y": {
          "bdata": "BCO2PQ==",
          "dtype": "f4"
         },
         "z": {
          "bdata": "NaqWPg==",
          "dtype": "f4"
         }
        },
        {
         "hovertemplate": "color=want<br>0=%{x}<br>1=%{y}<br>2=%{z}<extra></extra>",
         "legendgroup": "want",
         "marker": {
          "color": "#FF6692",
          "symbol": "circle"
         },
         "mode": "markers",
         "name": "want",
         "scene": "scene",
         "showlegend": true,
         "type": "scatter3d",
         "x": {
          "bdata": "Sm+xvg==",
          "dtype": "f4"
         },
         "y": {
          "bdata": "cmXnPQ==",
          "dtype": "f4"
         },
         "z": {
          "bdata": "ZKXsPQ==",
          "dtype": "f4"
         }
        },
        {
         "hovertemplate": "color=much<br>0=%{x}<br>1=%{y}<br>2=%{z}<extra></extra>",
         "legendgroup": "much",
         "marker": {
          "color": "#B6E880",
          "symbol": "circle"
         },
         "mode": "markers",
         "name": "much",
         "scene": "scene",
         "showlegend": true,
         "type": "scatter3d",
         "x": {
          "bdata": "9HWLvg==",
          "dtype": "f4"
         },
         "y": {
          "bdata": "0CX4PQ==",
          "dtype": "f4"
         },
         "z": {
          "bdata": "LhEHPQ==",
          "dtype": "f4"
         }
        },
        {
         "hovertemplate": "color=enough<br>0=%{x}<br>1=%{y}<br>2=%{z}<extra></extra>",
         "legendgroup": "enough",
         "marker": {
          "color": "#FF97FF",
          "symbol": "circle"
         },
         "mode": "markers",
         "name": "enough",
         "scene": "scene",
         "showlegend": true,
         "type": "scatter3d",
         "x": {
          "bdata": "TTDavQ==",
          "dtype": "f4"
         },
         "y": {
          "bdata": "NrRjPg==",
          "dtype": "f4"
         },
         "z": {
          "bdata": "iKO5PQ==",
          "dtype": "f4"
         }
        },
        {
         "hovertemplate": "color=sword<br>0=%{x}<br>1=%{y}<br>2=%{z}<extra></extra>",
         "legendgroup": "sword",
         "marker": {
          "color": "#FECB52",
          "symbol": "circle"
         },
         "mode": "markers",
         "name": "sword",
         "scene": "scene",
         "showlegend": true,
         "type": "scatter3d",
         "x": {
          "bdata": "QrOFPQ==",
          "dtype": "f4"
         },
         "y": {
          "bdata": "rLx0Pg==",
          "dtype": "f4"
         },
         "z": {
          "bdata": "sdTNPg==",
          "dtype": "f4"
         }
        },
        {
         "hovertemplate": "color=tell<br>0=%{x}<br>1=%{y}<br>2=%{z}<extra></extra>",
         "legendgroup": "tell",
         "marker": {
          "color": "#636efa",
          "symbol": "circle"
         },
         "mode": "markers",
         "name": "tell",
         "scene": "scene",
         "showlegend": true,
         "type": "scatter3d",
         "x": {
          "bdata": "rKX0vg==",
          "dtype": "f4"
         },
         "y": {
          "bdata": "QgwEPg==",
          "dtype": "f4"
         },
         "z": {
          "bdata": "mhXwPQ==",
          "dtype": "f4"
         }
        },
        {
         "hovertemplate": "color=girl<br>0=%{x}<br>1=%{y}<br>2=%{z}<extra></extra>",
         "legendgroup": "girl",
         "marker": {
          "color": "#EF553B",
          "symbol": "circle"
         },
         "mode": "markers",
         "name": "girl",
         "scene": "scene",
         "showlegend": true,
         "type": "scatter3d",
         "x": {
          "bdata": "nWUPvg==",
          "dtype": "f4"
         },
         "y": {
          "bdata": "fbe+PQ==",
          "dtype": "f4"
         },
         "z": {
          "bdata": "xfnOPg==",
          "dtype": "f4"
         }
        },
        {
         "hovertemplate": "color=bran<br>0=%{x}<br>1=%{y}<br>2=%{z}<extra></extra>",
         "legendgroup": "bran",
         "marker": {
          "color": "#00cc96",
          "symbol": "circle"
         },
         "mode": "markers",
         "name": "bran",
         "scene": "scene",
         "showlegend": true,
         "type": "scatter3d",
         "x": {
          "bdata": "1fsKPg==",
          "dtype": "f4"
         },
         "y": {
          "bdata": "qtA/PQ==",
          "dtype": "f4"
         },
         "z": {
          "bdata": "1AblPQ==",
          "dtype": "f4"
         }
        },
        {
         "hovertemplate": "color=great<br>0=%{x}<br>1=%{y}<br>2=%{z}<extra></extra>",
         "legendgroup": "great",
         "marker": {
          "color": "#ab63fa",
          "symbol": "circle"
         },
         "mode": "markers",
         "name": "great",
         "scene": "scene",
         "showlegend": true,
         "type": "scatter3d",
         "x": {
          "bdata": "LfoOPg==",
          "dtype": "f4"
         },
         "y": {
          "bdata": "gpUlPw==",
          "dtype": "f4"
         },
         "z": {
          "bdata": "trdyPQ==",
          "dtype": "f4"
         }
        },
        {
         "hovertemplate": "color=looked<br>0=%{x}<br>1=%{y}<br>2=%{z}<extra></extra>",
         "legendgroup": "looked",
         "marker": {
          "color": "#FFA15A",
          "symbol": "circle"
         },
         "mode": "markers",
         "name": "looked",
         "scene": "scene",
         "showlegend": true,
         "type": "scatter3d",
         "x": {
          "bdata": "qMkoPg==",
          "dtype": "f4"
         },
         "y": {
          "bdata": "Mt7WPQ==",
          "dtype": "f4"
         },
         "z": {
          "bdata": "QGPRPg==",
          "dtype": "f4"
         }
        },
        {
         "hovertemplate": "color=left<br>0=%{x}<br>1=%{y}<br>2=%{z}<extra></extra>",
         "legendgroup": "left",
         "marker": {
          "color": "#19d3f3",
          "symbol": "circle"
         },
         "mode": "markers",
         "name": "left",
         "scene": "scene",
         "showlegend": true,
         "type": "scatter3d",
         "x": {
          "bdata": "YiExPg==",
          "dtype": "f4"
         },
         "y": {
          "bdata": "Dz++Pg==",
          "dtype": "f4"
         },
         "z": {
          "bdata": "fk2LPg==",
          "dtype": "f4"
         }
        },
        {
         "hovertemplate": "color=knew<br>0=%{x}<br>1=%{y}<br>2=%{z}<extra></extra>",
         "legendgroup": "knew",
         "marker": {
          "color": "#FF6692",
          "symbol": "circle"
         },
         "mode": "markers",
         "name": "knew",
         "scene": "scene",
         "showlegend": true,
         "type": "scatter3d",
         "x": {
          "bdata": "H0FQvg==",
          "dtype": "f4"
         },
         "y": {
          "bdata": "PMY8Pg==",
          "dtype": "f4"
         },
         "z": {
          "bdata": "GZiVuw==",
          "dtype": "f4"
         }
        },
        {
         "hovertemplate": "color=asked<br>0=%{x}<br>1=%{y}<br>2=%{z}<extra></extra>",
         "legendgroup": "asked",
         "marker": {
          "color": "#B6E880",
          "symbol": "circle"
         },
         "mode": "markers",
         "name": "asked",
         "scene": "scene",
         "showlegend": true,
         "type": "scatter3d",
         "x": {
          "bdata": "2NfHvg==",
          "dtype": "f4"
         },
         "y": {
          "bdata": "ESAHPg==",
          "dtype": "f4"
         },
         "z": {
          "bdata": "QdnSPg==",
          "dtype": "f4"
         }
        },
        {
         "hovertemplate": "color=gave<br>0=%{x}<br>1=%{y}<br>2=%{z}<extra></extra>",
         "legendgroup": "gave",
         "marker": {
          "color": "#FF97FF",
          "symbol": "circle"
         },
         "mode": "markers",
         "name": "gave",
         "scene": "scene",
         "showlegend": true,
         "type": "scatter3d",
         "x": {
          "bdata": "+8LHvA==",
          "dtype": "f4"
         },
         "y": {
          "bdata": "KBY6vA==",
          "dtype": "f4"
         },
         "z": {
          "bdata": "mWz2Pg==",
          "dtype": "f4"
         }
        },
        {
         "hovertemplate": "color=maester<br>0=%{x}<br>1=%{y}<br>2=%{z}<extra></extra>",
         "legendgroup": "maester",
         "marker": {
          "color": "#FECB52",
          "symbol": "circle"
         },
         "mode": "markers",
         "name": "maester",
         "scene": "scene",
         "showlegend": true,
         "type": "scatter3d",
         "x": {
          "bdata": "GPmUvQ==",
          "dtype": "f4"
         },
         "y": {
          "bdata": "ILZfPg==",
          "dtype": "f4"
         },
         "z": {
          "bdata": "8Wq1Pg==",
          "dtype": "f4"
         }
        },
        {
         "hovertemplate": "color=called<br>0=%{x}<br>1=%{y}<br>2=%{z}<extra></extra>",
         "legendgroup": "called",
         "marker": {
          "color": "#636efa",
          "symbol": "circle"
         },
         "mode": "markers",
         "name": "called",
         "scene": "scene",
         "showlegend": true,
         "type": "scatter3d",
         "x": {
          "bdata": "MyMRvg==",
          "dtype": "f4"
         },
         "y": {
          "bdata": "T/34Pg==",
          "dtype": "f4"
         },
         "z": {
          "bdata": "t6sBPw==",
          "dtype": "f4"
         }
        },
        {
         "hovertemplate": "color=wall<br>0=%{x}<br>1=%{y}<br>2=%{z}<extra></extra>",
         "legendgroup": "wall",
         "marker": {
          "color": "#EF553B",
          "symbol": "circle"
         },
         "mode": "markers",
         "name": "wall",
         "scene": "scene",
         "showlegend": true,
         "type": "scatter3d",
         "x": {
          "bdata": "9wx3Pg==",
          "dtype": "f4"
         },
         "y": {
          "bdata": "HDz8Pg==",
          "dtype": "f4"
         },
         "z": {
          "bdata": "qmKdvQ==",
          "dtype": "f4"
         }
        },
        {
         "hovertemplate": "color=every<br>0=%{x}<br>1=%{y}<br>2=%{z}<extra></extra>",
         "legendgroup": "every",
         "marker": {
          "color": "#00cc96",
          "symbol": "circle"
         },
         "mode": "markers",
         "name": "every",
         "scene": "scene",
         "showlegend": true,
         "type": "scatter3d",
         "x": {
          "bdata": "y7gJPg==",
          "dtype": "f4"
         },
         "y": {
          "bdata": "v3C4Pg==",
          "dtype": "f4"
         },
         "z": {
          "bdata": "6EFdPQ==",
          "dtype": "f4"
         }
        },
        {
         "hovertemplate": "color=heard<br>0=%{x}<br>1=%{y}<br>2=%{z}<extra></extra>",
         "legendgroup": "heard",
         "marker": {
          "color": "#ab63fa",
          "symbol": "circle"
         },
         "mode": "markers",
         "name": "heard",
         "scene": "scene",
         "showlegend": true,
         "type": "scatter3d",
         "x": {
          "bdata": "cYuAOw==",
          "dtype": "f4"
         },
         "y": {
          "bdata": "PUFDPg==",
          "dtype": "f4"
         },
         "z": {
          "bdata": "yLqNPQ==",
          "dtype": "f4"
         }
        },
        {
         "hovertemplate": "color=sansa<br>0=%{x}<br>1=%{y}<br>2=%{z}<extra></extra>",
         "legendgroup": "sansa",
         "marker": {
          "color": "#FFA15A",
          "symbol": "circle"
         },
         "mode": "markers",
         "name": "sansa",
         "scene": "scene",
         "showlegend": true,
         "type": "scatter3d",
         "x": {
          "bdata": "EMXXvQ==",
          "dtype": "f4"
         },
         "y": {
          "bdata": "wpI1vQ==",
          "dtype": "f4"
         },
         "z": {
          "bdata": "AGusPg==",
          "dtype": "f4"
         }
        },
        {
         "hovertemplate": "color=let<br>0=%{x}<br>1=%{y}<br>2=%{z}<extra></extra>",
         "legendgroup": "let",
         "marker": {
          "color": "#19d3f3",
          "symbol": "circle"
         },
         "mode": "markers",
         "name": "let",
         "scene": "scene",
         "showlegend": true,
         "type": "scatter3d",
         "x": {
          "bdata": "K5TbvQ==",
          "dtype": "f4"
         },
         "y": {
          "bdata": "mx6EPQ==",
          "dtype": "f4"
         },
         "z": {
          "bdata": "yjUWPg==",
          "dtype": "f4"
         }
        },
        {
         "hovertemplate": "color=yet<br>0=%{x}<br>1=%{y}<br>2=%{z}<extra></extra>",
         "legendgroup": "yet",
         "marker": {
          "color": "#FF6692",
          "symbol": "circle"
         },
         "mode": "markers",
         "name": "yet",
         "scene": "scene",
         "showlegend": true,
         "type": "scatter3d",
         "x": {
          "bdata": "XRE2vg==",
          "dtype": "f4"
         },
         "y": {
          "bdata": "UNqCPg==",
          "dtype": "f4"
         },
         "z": {
          "bdata": "gD+PPQ==",
          "dtype": "f4"
         }
        },
        {
         "hovertemplate": "color=went<br>0=%{x}<br>1=%{y}<br>2=%{z}<extra></extra>",
         "legendgroup": "went",
         "marker": {
          "color": "#B6E880",
          "symbol": "circle"
         },
         "mode": "markers",
         "name": "went",
         "scene": "scene",
         "showlegend": true,
         "type": "scatter3d",
         "x": {
          "bdata": "1WyUPg==",
          "dtype": "f4"
         },
         "y": {
          "bdata": "CxaEPg==",
          "dtype": "f4"
         },
         "z": {
          "bdata": "cYpVPg==",
          "dtype": "f4"
         }
        },
        {
         "hovertemplate": "color=turned<br>0=%{x}<br>1=%{y}<br>2=%{z}<extra></extra>",
         "legendgroup": "turned",
         "marker": {
          "color": "#FF97FF",
          "symbol": "circle"
         },
         "mode": "markers",
         "name": "turned",
         "scene": "scene",
         "showlegend": true,
         "type": "scatter3d",
         "x": {
          "bdata": "CpBmPg==",
          "dtype": "f4"
         },
         "y": {
          "bdata": "CYBEPg==",
          "dtype": "f4"
         },
         "z": {
          "bdata": "onC8Pg==",
          "dtype": "f4"
         }
        },
        {
         "hovertemplate": "color=dany<br>0=%{x}<br>1=%{y}<br>2=%{z}<extra></extra>",
         "legendgroup": "dany",
         "marker": {
          "color": "#FECB52",
          "symbol": "circle"
         },
         "mode": "markers",
         "name": "dany",
         "scene": "scene",
         "showlegend": true,
         "type": "scatter3d",
         "x": {
          "bdata": "RgOwPQ==",
          "dtype": "f4"
         },
         "y": {
          "bdata": "ki1TPQ==",
          "dtype": "f4"
         },
         "z": {
          "bdata": "VUOLPA==",
          "dtype": "f4"
         }
        },
        {
         "hovertemplate": "color=need<br>0=%{x}<br>1=%{y}<br>2=%{z}<extra></extra>",
         "legendgroup": "need",
         "marker": {
          "color": "#636efa",
          "symbol": "circle"
         },
         "mode": "markers",
         "name": "need",
         "scene": "scene",
         "showlegend": true,
         "type": "scatter3d",
         "x": {
          "bdata": "KQSPvg==",
          "dtype": "f4"
         },
         "y": {
          "bdata": "TcuRPg==",
          "dtype": "f4"
         },
         "z": {
          "bdata": "SBoiPQ==",
          "dtype": "f4"
         }
        },
        {
         "hovertemplate": "color=behind<br>0=%{x}<br>1=%{y}<br>2=%{z}<extra></extra>",
         "legendgroup": "behind",
         "marker": {
          "color": "#EF553B",
          "symbol": "circle"
         },
         "mode": "markers",
         "name": "behind",
         "scene": "scene",
         "showlegend": true,
         "type": "scatter3d",
         "x": {
          "bdata": "0MrYPg==",
          "dtype": "f4"
         },
         "y": {
          "bdata": "w7vaPg==",
          "dtype": "f4"
         },
         "z": {
          "bdata": "5Xg5Pg==",
          "dtype": "f4"
         }
        },
        {
         "hovertemplate": "color=around<br>0=%{x}<br>1=%{y}<br>2=%{z}<extra></extra>",
         "legendgroup": "around",
         "marker": {
          "color": "#00cc96",
          "symbol": "circle"
         },
         "mode": "markers",
         "name": "around",
         "scene": "scene",
         "showlegend": true,
         "type": "scatter3d",
         "x": {
          "bdata": "wmwWPw==",
          "dtype": "f4"
         },
         "y": {
          "bdata": "Zn6LPg==",
          "dtype": "f4"
         },
         "z": {
          "bdata": "xa3yPQ==",
          "dtype": "f4"
         }
        },
        {
         "hovertemplate": "color=woman<br>0=%{x}<br>1=%{y}<br>2=%{z}<extra></extra>",
         "legendgroup": "woman",
         "marker": {
          "color": "#ab63fa",
          "symbol": "circle"
         },
         "mode": "markers",
         "name": "woman",
         "scene": "scene",
         "showlegend": true,
         "type": "scatter3d",
         "x": {
          "bdata": "gHZXvA==",
          "dtype": "f4"
         },
         "y": {
          "bdata": "E1FwPQ==",
          "dtype": "f4"
         },
         "z": {
          "bdata": "uhemPg==",
          "dtype": "f4"
         }
        },
        {
         "hovertemplate": "color=another<br>0=%{x}<br>1=%{y}<br>2=%{z}<extra></extra>",
         "legendgroup": "another",
         "marker": {
          "color": "#FFA15A",
          "symbol": "circle"
         },
         "mode": "markers",
         "name": "another",
         "scene": "scene",
         "showlegend": true,
         "type": "scatter3d",
         "x": {
          "bdata": "2feLPQ==",
          "dtype": "f4"
         },
         "y": {
          "bdata": "x4tiPg==",
          "dtype": "f4"
         },
         "z": {
          "bdata": "a/IIPg==",
          "dtype": "f4"
         }
        },
        {
         "hovertemplate": "color=snow<br>0=%{x}<br>1=%{y}<br>2=%{z}<extra></extra>",
         "legendgroup": "snow",
         "marker": {
          "color": "#19d3f3",
          "symbol": "circle"
         },
         "mode": "markers",
         "name": "snow",
         "scene": "scene",
         "showlegend": true,
         "type": "scatter3d",
         "x": {
          "bdata": "T02UPg==",
          "dtype": "f4"
         },
         "y": {
          "bdata": "JP9tPg==",
          "dtype": "f4"
         },
         "z": {
          "bdata": "l3wNPg==",
          "dtype": "f4"
         }
        },
        {
         "hovertemplate": "color=beneath<br>0=%{x}<br>1=%{y}<br>2=%{z}<extra></extra>",
         "legendgroup": "beneath",
         "marker": {
          "color": "#FF6692",
          "symbol": "circle"
         },
         "mode": "markers",
         "name": "beneath",
         "scene": "scene",
         "showlegend": true,
         "type": "scatter3d",
         "x": {
          "bdata": "M/UWPw==",
          "dtype": "f4"
         },
         "y": {
          "bdata": "qJzFPg==",
          "dtype": "f4"
         },
         "z": {
          "bdata": "UOgBPg==",
          "dtype": "f4"
         }
        },
        {
         "hovertemplate": "color=across<br>0=%{x}<br>1=%{y}<br>2=%{z}<extra></extra>",
         "legendgroup": "across",
         "marker": {
          "color": "#B6E880",
          "symbol": "circle"
         },
         "mode": "markers",
         "name": "across",
         "scene": "scene",
         "showlegend": true,
         "type": "scatter3d",
         "x": {
          "bdata": "yrUBPw==",
          "dtype": "f4"
         },
         "y": {
          "bdata": "xb62Pg==",
          "dtype": "f4"
         },
         "z": {
          "bdata": "L4IkPg==",
          "dtype": "f4"
         }
        },
        {
         "hovertemplate": "color=knight<br>0=%{x}<br>1=%{y}<br>2=%{z}<extra></extra>",
         "legendgroup": "knight",
         "marker": {
          "color": "#FF97FF",
          "symbol": "circle"
         },
         "mode": "markers",
         "name": "knight",
         "scene": "scene",
         "showlegend": true,
         "type": "scatter3d",
         "x": {
          "bdata": "xLhBvg==",
          "dtype": "f4"
         },
         "y": {
          "bdata": "Fj7IPg==",
          "dtype": "f4"
         },
         "z": {
          "bdata": "hjcWPw==",
          "dtype": "f4"
         }
        },
        {
         "hovertemplate": "color=keep<br>0=%{x}<br>1=%{y}<br>2=%{z}<extra></extra>",
         "legendgroup": "keep",
         "marker": {
          "color": "#FECB52",
          "symbol": "circle"
         },
         "mode": "markers",
         "name": "keep",
         "scene": "scene",
         "showlegend": true,
         "type": "scatter3d",
         "x": {
          "bdata": "RcY0PA==",
          "dtype": "f4"
         },
         "y": {
          "bdata": "uizAPg==",
          "dtype": "f4"
         },
         "z": {
          "bdata": "Hgj7PQ==",
          "dtype": "f4"
         }
        }
       ],
       "layout": {
        "legend": {
         "title": {
          "text": "color"
         },
         "tracegroupgap": 0
        },
        "margin": {
         "t": 60
        },
        "scene": {
         "domain": {
          "x": [
           0,
           1
          ],
          "y": [
           0,
           1
          ]
         },
         "xaxis": {
          "title": {
           "text": "0"
          }
         },
         "yaxis": {
          "title": {
           "text": "1"
          }
         },
         "zaxis": {
          "title": {
           "text": "2"
          }
         }
        },
        "template": {
         "data": {
          "bar": [
           {
            "error_x": {
             "color": "#2a3f5f"
            },
            "error_y": {
             "color": "#2a3f5f"
            },
            "marker": {
             "line": {
              "color": "#E5ECF6",
              "width": 0.5
             },
             "pattern": {
              "fillmode": "overlay",
              "size": 10,
              "solidity": 0.2
             }
            },
            "type": "bar"
           }
          ],
          "barpolar": [
           {
            "marker": {
             "line": {
              "color": "#E5ECF6",
              "width": 0.5
             },
             "pattern": {
              "fillmode": "overlay",
              "size": 10,
              "solidity": 0.2
             }
            },
            "type": "barpolar"
           }
          ],
          "carpet": [
           {
            "aaxis": {
             "endlinecolor": "#2a3f5f",
             "gridcolor": "white",
             "linecolor": "white",
             "minorgridcolor": "white",
             "startlinecolor": "#2a3f5f"
            },
            "baxis": {
             "endlinecolor": "#2a3f5f",
             "gridcolor": "white",
             "linecolor": "white",
             "minorgridcolor": "white",
             "startlinecolor": "#2a3f5f"
            },
            "type": "carpet"
           }
          ],
          "choropleth": [
           {
            "colorbar": {
             "outlinewidth": 0,
             "ticks": ""
            },
            "type": "choropleth"
           }
          ],
          "contour": [
           {
            "colorbar": {
             "outlinewidth": 0,
             "ticks": ""
            },
            "colorscale": [
             [
              0,
              "#0d0887"
             ],
             [
              0.1111111111111111,
              "#46039f"
             ],
             [
              0.2222222222222222,
              "#7201a8"
             ],
             [
              0.3333333333333333,
              "#9c179e"
             ],
             [
              0.4444444444444444,
              "#bd3786"
             ],
             [
              0.5555555555555556,
              "#d8576b"
             ],
             [
              0.6666666666666666,
              "#ed7953"
             ],
             [
              0.7777777777777778,
              "#fb9f3a"
             ],
             [
              0.8888888888888888,
              "#fdca26"
             ],
             [
              1,
              "#f0f921"
             ]
            ],
            "type": "contour"
           }
          ],
          "contourcarpet": [
           {
            "colorbar": {
             "outlinewidth": 0,
             "ticks": ""
            },
            "type": "contourcarpet"
           }
          ],
          "heatmap": [
           {
            "colorbar": {
             "outlinewidth": 0,
             "ticks": ""
            },
            "colorscale": [
             [
              0,
              "#0d0887"
             ],
             [
              0.1111111111111111,
              "#46039f"
             ],
             [
              0.2222222222222222,
              "#7201a8"
             ],
             [
              0.3333333333333333,
              "#9c179e"
             ],
             [
              0.4444444444444444,
              "#bd3786"
             ],
             [
              0.5555555555555556,
              "#d8576b"
             ],
             [
              0.6666666666666666,
              "#ed7953"
             ],
             [
              0.7777777777777778,
              "#fb9f3a"
             ],
             [
              0.8888888888888888,
              "#fdca26"
             ],
             [
              1,
              "#f0f921"
             ]
            ],
            "type": "heatmap"
           }
          ],
          "histogram": [
           {
            "marker": {
             "pattern": {
              "fillmode": "overlay",
              "size": 10,
              "solidity": 0.2
             }
            },
            "type": "histogram"
           }
          ],
          "histogram2d": [
           {
            "colorbar": {
             "outlinewidth": 0,
             "ticks": ""
            },
            "colorscale": [
             [
              0,
              "#0d0887"
             ],
             [
              0.1111111111111111,
              "#46039f"
             ],
             [
              0.2222222222222222,
              "#7201a8"
             ],
             [
              0.3333333333333333,
              "#9c179e"
             ],
             [
              0.4444444444444444,
              "#bd3786"
             ],
             [
              0.5555555555555556,
              "#d8576b"
             ],
             [
              0.6666666666666666,
              "#ed7953"
             ],
             [
              0.7777777777777778,
              "#fb9f3a"
             ],
             [
              0.8888888888888888,
              "#fdca26"
             ],
             [
              1,
              "#f0f921"
             ]
            ],
            "type": "histogram2d"
           }
          ],
          "histogram2dcontour": [
           {
            "colorbar": {
             "outlinewidth": 0,
             "ticks": ""
            },
            "colorscale": [
             [
              0,
              "#0d0887"
             ],
             [
              0.1111111111111111,
              "#46039f"
             ],
             [
              0.2222222222222222,
              "#7201a8"
             ],
             [
              0.3333333333333333,
              "#9c179e"
             ],
             [
              0.4444444444444444,
              "#bd3786"
             ],
             [
              0.5555555555555556,
              "#d8576b"
             ],
             [
              0.6666666666666666,
              "#ed7953"
             ],
             [
              0.7777777777777778,
              "#fb9f3a"
             ],
             [
              0.8888888888888888,
              "#fdca26"
             ],
             [
              1,
              "#f0f921"
             ]
            ],
            "type": "histogram2dcontour"
           }
          ],
          "mesh3d": [
           {
            "colorbar": {
             "outlinewidth": 0,
             "ticks": ""
            },
            "type": "mesh3d"
           }
          ],
          "parcoords": [
           {
            "line": {
             "colorbar": {
              "outlinewidth": 0,
              "ticks": ""
             }
            },
            "type": "parcoords"
           }
          ],
          "pie": [
           {
            "automargin": true,
            "type": "pie"
           }
          ],
          "scatter": [
           {
            "fillpattern": {
             "fillmode": "overlay",
             "size": 10,
             "solidity": 0.2
            },
            "type": "scatter"
           }
          ],
          "scatter3d": [
           {
            "line": {
             "colorbar": {
              "outlinewidth": 0,
              "ticks": ""
             }
            },
            "marker": {
             "colorbar": {
              "outlinewidth": 0,
              "ticks": ""
             }
            },
            "type": "scatter3d"
           }
          ],
          "scattercarpet": [
           {
            "marker": {
             "colorbar": {
              "outlinewidth": 0,
              "ticks": ""
             }
            },
            "type": "scattercarpet"
           }
          ],
          "scattergeo": [
           {
            "marker": {
             "colorbar": {
              "outlinewidth": 0,
              "ticks": ""
             }
            },
            "type": "scattergeo"
           }
          ],
          "scattergl": [
           {
            "marker": {
             "colorbar": {
              "outlinewidth": 0,
              "ticks": ""
             }
            },
            "type": "scattergl"
           }
          ],
          "scattermap": [
           {
            "marker": {
             "colorbar": {
              "outlinewidth": 0,
              "ticks": ""
             }
            },
            "type": "scattermap"
           }
          ],
          "scattermapbox": [
           {
            "marker": {
             "colorbar": {
              "outlinewidth": 0,
              "ticks": ""
             }
            },
            "type": "scattermapbox"
           }
          ],
          "scatterpolar": [
           {
            "marker": {
             "colorbar": {
              "outlinewidth": 0,
              "ticks": ""
             }
            },
            "type": "scatterpolar"
           }
          ],
          "scatterpolargl": [
           {
            "marker": {
             "colorbar": {
              "outlinewidth": 0,
              "ticks": ""
             }
            },
            "type": "scatterpolargl"
           }
          ],
          "scatterternary": [
           {
            "marker": {
             "colorbar": {
              "outlinewidth": 0,
              "ticks": ""
             }
            },
            "type": "scatterternary"
           }
          ],
          "surface": [
           {
            "colorbar": {
             "outlinewidth": 0,
             "ticks": ""
            },
            "colorscale": [
             [
              0,
              "#0d0887"
             ],
             [
              0.1111111111111111,
              "#46039f"
             ],
             [
              0.2222222222222222,
              "#7201a8"
             ],
             [
              0.3333333333333333,
              "#9c179e"
             ],
             [
              0.4444444444444444,
              "#bd3786"
             ],
             [
              0.5555555555555556,
              "#d8576b"
             ],
             [
              0.6666666666666666,
              "#ed7953"
             ],
             [
              0.7777777777777778,
              "#fb9f3a"
             ],
             [
              0.8888888888888888,
              "#fdca26"
             ],
             [
              1,
              "#f0f921"
             ]
            ],
            "type": "surface"
           }
          ],
          "table": [
           {
            "cells": {
             "fill": {
              "color": "#EBF0F8"
             },
             "line": {
              "color": "white"
             }
            },
            "header": {
             "fill": {
              "color": "#C8D4E3"
             },
             "line": {
              "color": "white"
             }
            },
            "type": "table"
           }
          ]
         },
         "layout": {
          "annotationdefaults": {
           "arrowcolor": "#2a3f5f",
           "arrowhead": 0,
           "arrowwidth": 1
          },
          "autotypenumbers": "strict",
          "coloraxis": {
           "colorbar": {
            "outlinewidth": 0,
            "ticks": ""
           }
          },
          "colorscale": {
           "diverging": [
            [
             0,
             "#8e0152"
            ],
            [
             0.1,
             "#c51b7d"
            ],
            [
             0.2,
             "#de77ae"
            ],
            [
             0.3,
             "#f1b6da"
            ],
            [
             0.4,
             "#fde0ef"
            ],
            [
             0.5,
             "#f7f7f7"
            ],
            [
             0.6,
             "#e6f5d0"
            ],
            [
             0.7,
             "#b8e186"
            ],
            [
             0.8,
             "#7fbc41"
            ],
            [
             0.9,
             "#4d9221"
            ],
            [
             1,
             "#276419"
            ]
           ],
           "sequential": [
            [
             0,
             "#0d0887"
            ],
            [
             0.1111111111111111,
             "#46039f"
            ],
            [
             0.2222222222222222,
             "#7201a8"
            ],
            [
             0.3333333333333333,
             "#9c179e"
            ],
            [
             0.4444444444444444,
             "#bd3786"
            ],
            [
             0.5555555555555556,
             "#d8576b"
            ],
            [
             0.6666666666666666,
             "#ed7953"
            ],
            [
             0.7777777777777778,
             "#fb9f3a"
            ],
            [
             0.8888888888888888,
             "#fdca26"
            ],
            [
             1,
             "#f0f921"
            ]
           ],
           "sequentialminus": [
            [
             0,
             "#0d0887"
            ],
            [
             0.1111111111111111,
             "#46039f"
            ],
            [
             0.2222222222222222,
             "#7201a8"
            ],
            [
             0.3333333333333333,
             "#9c179e"
            ],
            [
             0.4444444444444444,
             "#bd3786"
            ],
            [
             0.5555555555555556,
             "#d8576b"
            ],
            [
             0.6666666666666666,
             "#ed7953"
            ],
            [
             0.7777777777777778,
             "#fb9f3a"
            ],
            [
             0.8888888888888888,
             "#fdca26"
            ],
            [
             1,
             "#f0f921"
            ]
           ]
          },
          "colorway": [
           "#636efa",
           "#EF553B",
           "#00cc96",
           "#ab63fa",
           "#FFA15A",
           "#19d3f3",
           "#FF6692",
           "#B6E880",
           "#FF97FF",
           "#FECB52"
          ],
          "font": {
           "color": "#2a3f5f"
          },
          "geo": {
           "bgcolor": "white",
           "lakecolor": "white",
           "landcolor": "#E5ECF6",
           "showlakes": true,
           "showland": true,
           "subunitcolor": "white"
          },
          "hoverlabel": {
           "align": "left"
          },
          "hovermode": "closest",
          "mapbox": {
           "style": "light"
          },
          "paper_bgcolor": "white",
          "plot_bgcolor": "#E5ECF6",
          "polar": {
           "angularaxis": {
            "gridcolor": "white",
            "linecolor": "white",
            "ticks": ""
           },
           "bgcolor": "#E5ECF6",
           "radialaxis": {
            "gridcolor": "white",
            "linecolor": "white",
            "ticks": ""
           }
          },
          "scene": {
           "xaxis": {
            "backgroundcolor": "#E5ECF6",
            "gridcolor": "white",
            "gridwidth": 2,
            "linecolor": "white",
            "showbackground": true,
            "ticks": "",
            "zerolinecolor": "white"
           },
           "yaxis": {
            "backgroundcolor": "#E5ECF6",
            "gridcolor": "white",
            "gridwidth": 2,
            "linecolor": "white",
            "showbackground": true,
            "ticks": "",
            "zerolinecolor": "white"
           },
           "zaxis": {
            "backgroundcolor": "#E5ECF6",
            "gridcolor": "white",
            "gridwidth": 2,
            "linecolor": "white",
            "showbackground": true,
            "ticks": "",
            "zerolinecolor": "white"
           }
          },
          "shapedefaults": {
           "line": {
            "color": "#2a3f5f"
           }
          },
          "ternary": {
           "aaxis": {
            "gridcolor": "white",
            "linecolor": "white",
            "ticks": ""
           },
           "baxis": {
            "gridcolor": "white",
            "linecolor": "white",
            "ticks": ""
           },
           "bgcolor": "#E5ECF6",
           "caxis": {
            "gridcolor": "white",
            "linecolor": "white",
            "ticks": ""
           }
          },
          "title": {
           "x": 0.05
          },
          "xaxis": {
           "automargin": true,
           "gridcolor": "white",
           "linecolor": "white",
           "ticks": "",
           "title": {
            "standoff": 15
           },
           "zerolinecolor": "white",
           "zerolinewidth": 2
          },
          "yaxis": {
           "automargin": true,
           "gridcolor": "white",
           "linecolor": "white",
           "ticks": "",
           "title": {
            "standoff": 15
           },
           "zerolinecolor": "white",
           "zerolinewidth": 2
          }
         }
        }
       }
      }
     },
     "metadata": {},
     "output_type": "display_data"
    }
   ],
   "source": [
    "import plotly.express as px # 3D representation\n",
    "fig=px.scatter_3d(x[:100],x=0,y=1,z=2,color=y[:100]) # ploting 100 words\n",
    "fig.show()"
   ]
  }
 ],
 "metadata": {
  "kernelspec": {
   "display_name": "Python 3",
   "language": "python",
   "name": "python3"
  },
  "language_info": {
   "codemirror_mode": {
    "name": "ipython",
    "version": 3
   },
   "file_extension": ".py",
   "mimetype": "text/x-python",
   "name": "python",
   "nbconvert_exporter": "python",
   "pygments_lexer": "ipython3",
   "version": "3.12.1"
  }
 },
 "nbformat": 4,
 "nbformat_minor": 5
}
