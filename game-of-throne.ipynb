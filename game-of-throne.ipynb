{
 "cells": [
  {
   "cell_type": "code",
   "execution_count": 52,
   "id": "0f0b7428",
   "metadata": {},
   "outputs": [],
   "source": [
    "import gensim \n",
    "import numpy \n",
    "import os"
   ]
  },
  {
   "cell_type": "code",
   "execution_count": null,
   "metadata": {},
   "outputs": [
    {
     "name": "stderr",
     "output_type": "stream",
     "text": [
      "[nltk_data] Downloading package punkt to\n",
      "[nltk_data]     C:\\Users\\KIIT\\AppData\\Roaming\\nltk_data...\n",
      "[nltk_data]   Package punkt is already up-to-date!\n",
      "[nltk_data] Downloading package stopwords to\n",
      "[nltk_data]     C:\\Users\\KIIT\\AppData\\Roaming\\nltk_data...\n",
      "[nltk_data]   Package stopwords is already up-to-date!\n"
     ]
    }
   ],
   "source": [
    "from nltk import sent_tokenize\n",
    "from nltk.corpus import stopwords\n",
    "from gensim.utils import simple_preprocess\n",
    "# Loop through all files in \"data\" directory \n",
    "# Open each file and read full content of the file\n",
    "# Split the content into sentences using NLTK\n",
    "# Loop throgh each sentence \n",
    "# Apply simple preprocessing on each word\n",
    "# Remove stopwords and store as a list of words\n",
    "import nltk\n",
    "nltk.download('punkt')\n",
    "nltk.download('stopwords')\n",
    "stop_words=set(stopwords.words('english'))\n",
    "story=[]\n",
    "for filename in os.listdir(\"data\"): \n",
    "    f=open(os.path.join('data',filename))\n",
    "    corpus=f.read()\n",
    "    raw_sent=sent_tokenize(corpus)\n",
    "    for sent in raw_sent:\n",
    "        tokens=simple_preprocess(sent)# Tokenize, lowercase and clean each sentence\n",
    "        filtered_tokens=[word for word in tokens if word not in stop_words]\n",
    "        story.append(filtered_tokens)"
   ]
  },
  {
   "cell_type": "code",
   "execution_count": null,
   "id": "0fcdb40c",
   "metadata": {},
   "outputs": [
    {
     "data": {
      "text/plain": [
       "[['game',\n",
       "  'thrones',\n",
       "  'book',\n",
       "  'one',\n",
       "  'song',\n",
       "  'ice',\n",
       "  'fire',\n",
       "  'george',\n",
       "  'martin',\n",
       "  'prologue',\n",
       "  'start',\n",
       "  'back',\n",
       "  'gared',\n",
       "  'urged',\n",
       "  'woods',\n",
       "  'began',\n",
       "  'grow',\n",
       "  'dark',\n",
       "  'around'],\n",
       " ['wildlings', 'dead'],\n",
       " ['dead', 'frighten'],\n",
       " ['ser', 'waymar', 'royce', 'asked', 'hint', 'smile'],\n",
       " ['gared', 'rise', 'bait'],\n",
       " ['old', 'man', 'past', 'fifty', 'seen', 'lordlings', 'come', 'go'],\n",
       " ['dead', 'dead', 'said'],\n",
       " ['business', 'dead'],\n",
       " ['dead'],\n",
       " ['royce', 'asked', 'softly'],\n",
       " ['proof'],\n",
       " ['saw', 'gared', 'said'],\n",
       " ['says', 'dead', 'proof', 'enough'],\n",
       " ['known', 'would', 'drag', 'quarrel', 'sooner', 'later'],\n",
       " ['wished', 'later', 'rather', 'sooner'],\n",
       " ['mother', 'told', 'dead', 'men', 'sing', 'songs', 'put'],\n",
       " ['wet', 'nurse', 'said', 'thing', 'royce', 'replied'],\n",
       " ['never', 'believe', 'anything', 'hear', 'woman', 'tit'],\n",
       " ['things', 'learned', 'even', 'dead'],\n",
       " ['voice', 'echoed', 'loud', 'twilit', 'forest'],\n",
       " ['page', 'long', 'ride', 'us', 'gared', 'pointed'],\n",
       " ['eight', 'days', 'maybe', 'nine'],\n",
       " ['night', 'falling'],\n",
       " ['ser', 'waymar', 'royce', 'glanced', 'sky', 'disinterest'],\n",
       " ['every', 'day', 'time'],\n",
       " ['unmanned', 'dark', 'gared'],\n",
       " ['could',\n",
       "  'see',\n",
       "  'tightness',\n",
       "  'around',\n",
       "  'gared',\n",
       "  'mouth',\n",
       "  'barely',\n",
       "  'sup',\n",
       "  'pressed',\n",
       "  'anger',\n",
       "  'eyes',\n",
       "  'thick',\n",
       "  'black',\n",
       "  'hood',\n",
       "  'cloak'],\n",
       " ['gared',\n",
       "  'spent',\n",
       "  'forty',\n",
       "  'years',\n",
       "  'night',\n",
       "  'watch',\n",
       "  'man',\n",
       "  'boy',\n",
       "  'accustomed',\n",
       "  'made',\n",
       "  'light'],\n",
       " ['yet'],\n",
       " ['wounded', 'pride', 'could', 'sense', 'something', 'else', 'older', 'man'],\n",
       " ['could', 'taste', 'nervous', 'tension', 'came', 'perilous', 'close', 'fear'],\n",
       " ['shared', 'unease'],\n",
       " ['four', 'years', 'wall'],\n",
       " ['first',\n",
       "  'time',\n",
       "  'sent',\n",
       "  'beyond',\n",
       "  'old',\n",
       "  'stories',\n",
       "  'come',\n",
       "  'rushing',\n",
       "  'back',\n",
       "  'bowels',\n",
       "  'turned',\n",
       "  'water'],\n",
       " ['laughed', 'afterward'],\n",
       " ['veteran',\n",
       "  'hundred',\n",
       "  'rangings',\n",
       "  'endless',\n",
       "  'dark',\n",
       "  'wilderness',\n",
       "  'southron',\n",
       "  'called',\n",
       "  'haunted',\n",
       "  'forest',\n",
       "  'terrors'],\n",
       " ['tonight'],\n",
       " ['something', 'different', 'tonight'],\n",
       " ['edge', 'darkness', 'made', 'hackles', 'rise'],\n",
       " ['nine',\n",
       "  'days',\n",
       "  'riding',\n",
       "  'north',\n",
       "  'northwest',\n",
       "  'north',\n",
       "  'farther',\n",
       "  'farther',\n",
       "  'wall',\n",
       "  'hard',\n",
       "  'track',\n",
       "  'band',\n",
       "  'wildling',\n",
       "  'raiders'],\n",
       " ['day', 'worse', 'day', 'come'],\n",
       " ['today', 'worst'],\n",
       " ['cold',\n",
       "  'wind',\n",
       "  'blowing',\n",
       "  'north',\n",
       "  'made',\n",
       "  'trees',\n",
       "  'rustle',\n",
       "  'like',\n",
       "  'living',\n",
       "  'things'],\n",
       " ['day',\n",
       "  'felt',\n",
       "  'though',\n",
       "  'something',\n",
       "  'watching',\n",
       "  'something',\n",
       "  'cold',\n",
       "  'implacable',\n",
       "  'loved'],\n",
       " ['gared', 'felt'],\n",
       " ['wanted',\n",
       "  'nothing',\n",
       "  'much',\n",
       "  'ride',\n",
       "  'hellbent',\n",
       "  'safety',\n",
       "  'wall',\n",
       "  'feeling',\n",
       "  'share',\n",
       "  'commander'],\n",
       " ['especially', 'commander', 'like', 'one'],\n",
       " ['ser',\n",
       "  'waymar',\n",
       "  'royce',\n",
       "  'youngest',\n",
       "  'son',\n",
       "  'ancient',\n",
       "  'house',\n",
       "  'many',\n",
       "  'heirs'],\n",
       " ['handsome',\n",
       "  'youth',\n",
       "  'eighteen',\n",
       "  'grey',\n",
       "  'eyed',\n",
       "  'graceful',\n",
       "  'slender',\n",
       "  'knife'],\n",
       " ['mounted',\n",
       "  'huge',\n",
       "  'black',\n",
       "  'destrier',\n",
       "  'knight',\n",
       "  'towered',\n",
       "  'gared',\n",
       "  'smaller',\n",
       "  'garrons'],\n",
       " ['wore',\n",
       "  'black',\n",
       "  'leather',\n",
       "  'boots',\n",
       "  'black',\n",
       "  'woolen',\n",
       "  'pants',\n",
       "  'black',\n",
       "  'moleskin',\n",
       "  'gloves',\n",
       "  'fine',\n",
       "  'supple',\n",
       "  'coat',\n",
       "  'gleaming',\n",
       "  'black',\n",
       "  'ringmail',\n",
       "  'layers',\n",
       "  'black',\n",
       "  'wool',\n",
       "  'boiled',\n",
       "  'leather'],\n",
       " ['ser',\n",
       "  'waymar',\n",
       "  'sworn',\n",
       "  'brother',\n",
       "  'night',\n",
       "  'watch',\n",
       "  'less',\n",
       "  'half',\n",
       "  'year',\n",
       "  'one',\n",
       "  'could',\n",
       "  'say',\n",
       "  'prepared',\n",
       "  'vocation'],\n",
       " ['least', 'insofar', 'wardrobe', 'concerned'],\n",
       " ['cloak', 'crowning', 'glory', 'sable', 'thick', 'black', 'soft', 'sin'],\n",
       " ['bet',\n",
       "  'killed',\n",
       "  'gared',\n",
       "  'told',\n",
       "  'barracks',\n",
       "  'wine',\n",
       "  'twisted',\n",
       "  'little',\n",
       "  'heads',\n",
       "  'mighty',\n",
       "  'warrior'],\n",
       " ['shared', 'laugh'],\n",
       " ['hard',\n",
       "  'take',\n",
       "  'orders',\n",
       "  'man',\n",
       "  'laughed',\n",
       "  'cups',\n",
       "  'reflected',\n",
       "  'sat',\n",
       "  'shivering',\n",
       "  'atop',\n",
       "  'garron'],\n",
       " ['gared', 'must', 'felt'],\n",
       " ['mormont', 'said', 'track', 'gared', 'said'],\n",
       " ['dead'],\n",
       " ['trouble', 'us'],\n",
       " ['hard', 'riding', 'us'],\n",
       " ['like', 'weather'],\n",
       " ['snows', 'could', 'fortnight', 'getting', 'back', 'snow', 'best', 'hope'],\n",
       " ['ever', 'seen', 'ice', 'storm', 'lord'],\n",
       " ['lordling', 'seemed', 'hear'],\n",
       " ['studied',\n",
       "  'deepening',\n",
       "  'twilight',\n",
       "  'half',\n",
       "  'bored',\n",
       "  'half',\n",
       "  'distracted',\n",
       "  'page',\n",
       "  'way'],\n",
       " ['ridden',\n",
       "  'knight',\n",
       "  'long',\n",
       "  'enough',\n",
       "  'understand',\n",
       "  'best',\n",
       "  'interrupt',\n",
       "  'looked',\n",
       "  'like'],\n",
       " ['tell', 'saw'],\n",
       " ['details'],\n",
       " ['leave', 'nothing'],\n",
       " ['hunter', 'joined', 'night', 'watch'],\n",
       " ['well', 'poacher', 'truth'],\n",
       " ['mallister',\n",
       "  'freeriders',\n",
       "  'caught',\n",
       "  'red',\n",
       "  'handed',\n",
       "  'mallisters',\n",
       "  'woods',\n",
       "  'skinning',\n",
       "  'one',\n",
       "  'mallisters',\n",
       "  'bucks',\n",
       "  'choice',\n",
       "  'putting',\n",
       "  'black',\n",
       "  'losing',\n",
       "  'hand'],\n",
       " ['one',\n",
       "  'could',\n",
       "  'move',\n",
       "  'woods',\n",
       "  'silent',\n",
       "  'taken',\n",
       "  'black',\n",
       "  'brothers',\n",
       "  'long',\n",
       "  'discover',\n",
       "  'talent'],\n",
       " ['camp',\n",
       "  'two',\n",
       "  'miles',\n",
       "  'farther',\n",
       "  'ridge',\n",
       "  'hard',\n",
       "  'beside',\n",
       "  'stream',\n",
       "  'said'],\n",
       " ['got', 'close', 'dared'],\n",
       " ['eight', 'men', 'women'],\n",
       " ['children', 'could', 'see'],\n",
       " ['put', 'lean', 'rock'],\n",
       " ['snow', 'pretty', 'well', 'covered', 'could', 'still', 'make'],\n",
       " ['fire', 'burning', 'firepit', 'still', 'plain', 'day'],\n",
       " ['one', 'moving'],\n",
       " ['watched', 'long', 'time'],\n",
       " ['living', 'man', 'ever', 'lay', 'still'],\n",
       " ['see', 'blood'],\n",
       " ['well', 'admitted'],\n",
       " ['see', 'weapons'],\n",
       " ['swords', 'bows'],\n",
       " ['one', 'man', 'axe'],\n",
       " ['heavy', 'looking', 'double', 'bladed', 'cruel', 'piece', 'iron'],\n",
       " ['ground', 'beside', 'right', 'hand'],\n",
       " ['make', 'note', 'position', 'bodies'],\n",
       " ['shrugged'],\n",
       " ['couple', 'sitting', 'rock'],\n",
       " ['ground'],\n",
       " ['fallen', 'like'],\n",
       " ['sleeping', 'royce', 'suggested'],\n",
       " ['fallen', 'insisted'],\n",
       " ['one', 'woman', 'ironwood', 'halfhid', 'branches'],\n",
       " ['far', 'eyes'],\n",
       " ['smiled', 'thinly'],\n",
       " ['took', 'care', 'never', 'saw'],\n",
       " ['got', 'closer', 'saw', 'moving', 'neither'],\n",
       " ['despite', 'shivered'],\n",
       " ['chill'],\n",
       " ['royce', 'asked'],\n",
       " ['muttered'],\n",
       " ['wind', 'lord'],\n",
       " ['young', 'knight', 'turned', 'back', 'grizzled', 'man', 'arms'],\n",
       " ['frostfallen',\n",
       "  'leaves',\n",
       "  'whispered',\n",
       "  'past',\n",
       "  'royce',\n",
       "  'destrier',\n",
       "  'moved',\n",
       "  'restlessly'],\n",
       " ['think', 'might', 'killed', 'men', 'gared'],\n",
       " ['ser', 'waymar', 'asked', 'casually'],\n",
       " ['adjusted', 'drape', 'long', 'sable', 'cloak'],\n",
       " ['cold', 'gared', 'said', 'iron', 'certainty'],\n",
       " ['saw', 'men', 'freeze', 'last', 'winter', 'one', 'half', 'boy'],\n",
       " ['everyone',\n",
       "  'talks',\n",
       "  'snows',\n",
       "  'forty',\n",
       "  'foot',\n",
       "  'deep',\n",
       "  'ice',\n",
       "  'wind',\n",
       "  'comes',\n",
       "  'howling',\n",
       "  'north',\n",
       "  'real',\n",
       "  'enemy',\n",
       "  'cold'],\n",
       " ['steals',\n",
       "  'quieter',\n",
       "  'first',\n",
       "  'shiver',\n",
       "  'teeth',\n",
       "  'chatter',\n",
       "  'stamp',\n",
       "  'feet',\n",
       "  'dream',\n",
       "  'mulled',\n",
       "  'wine',\n",
       "  'nice',\n",
       "  'hot',\n",
       "  'fires'],\n",
       " ['burns'],\n",
       " ['nothing', 'burns', 'like', 'cold'],\n",
       " [],\n",
       " ['gets', 'inside', 'starts', 'fill', 'strength', 'fight'],\n",
       " ['easier', 'sit', 'go', 'sleep'],\n",
       " ['say', 'feel', 'pain', 'toward', 'end'],\n",
       " ['first',\n",
       "  'go',\n",
       "  'weak',\n",
       "  'drowsy',\n",
       "  'everything',\n",
       "  'starts',\n",
       "  'fade',\n",
       "  'like',\n",
       "  'sinking',\n",
       "  'sea',\n",
       "  'warm',\n",
       "  'milk'],\n",
       " ['peaceful', 'like'],\n",
       " ['eloquence', 'gared', 'ser', 'waymar', 'observed'],\n",
       " ['never', 'suspected'],\n",
       " ['page', 'cold', 'lordling'],\n",
       " ['gared',\n",
       "  'pulled',\n",
       "  'back',\n",
       "  'hood',\n",
       "  'giving',\n",
       "  'ser',\n",
       "  'waymar',\n",
       "  'good',\n",
       "  'long',\n",
       "  'look',\n",
       "  'stumps',\n",
       "  'ears'],\n",
       " ['two', 'ears', 'three', 'toes', 'little', 'finger', 'left', 'hand'],\n",
       " ['got', 'light'],\n",
       " ['found', 'brother', 'frozen', 'watch', 'smile', 'face'],\n",
       " ['ser', 'waymar', 'shrugged'],\n",
       " ['ought', 'dress', 'warmly', 'gared'],\n",
       " ['gared',\n",
       "  'glared',\n",
       "  'lordling',\n",
       "  'scars',\n",
       "  'around',\n",
       "  'ear',\n",
       "  'holes',\n",
       "  'flushed',\n",
       "  'red',\n",
       "  'anger',\n",
       "  'maester',\n",
       "  'aemon',\n",
       "  'cut',\n",
       "  'ears',\n",
       "  'away'],\n",
       " ['see', 'warm', 'dress', 'winter', 'comes'],\n",
       " ['pulled', 'hood', 'hunched', 'garron', 'silent', 'sullen'],\n",
       " ['gared', 'said', 'cold'],\n",
       " [],\n",
       " [],\n",
       " ['began'],\n",
       " ['drawn', 'watches', 'past', 'week'],\n",
       " ['yes', 'lord'],\n",
       " ['never', 'week', 'draw', 'dozen', 'bloody', 'watches'],\n",
       " ['man', 'driving'],\n",
       " ['find', 'wall'],\n",
       " ['weeping', 'said', 'frowning'],\n",
       " ['saw', 'clear', 'enough', 'lordling', 'pointed'],\n",
       " ['froze'],\n",
       " ['wall', 'weeping'],\n",
       " ['cold', 'enough'],\n",
       " ['royce', 'nodded'],\n",
       " ['bright', 'lad'],\n",
       " ['light',\n",
       "  'frosts',\n",
       "  'past',\n",
       "  'week',\n",
       "  'quick',\n",
       "  'flurry',\n",
       "  'snow',\n",
       "  'surely',\n",
       "  'cold',\n",
       "  'fierce',\n",
       "  'enough',\n",
       "  'kill',\n",
       "  'eight',\n",
       "  'grown',\n",
       "  'men'],\n",
       " ['men',\n",
       "  'clad',\n",
       "  'fur',\n",
       "  'leather',\n",
       "  'let',\n",
       "  'remind',\n",
       "  'shelter',\n",
       "  'near',\n",
       "  'hand',\n",
       "  'means',\n",
       "  'making',\n",
       "  'fire'],\n",
       " ['knight', 'smile', 'cocksure'],\n",
       " ['lead', 'us'],\n",
       " ['would', 'see', 'dead', 'men'],\n",
       " ['nothing', 'done'],\n",
       " ['order', 'given', 'honor', 'bound', 'obey'],\n",
       " ['went',\n",
       "  'front',\n",
       "  'shaggy',\n",
       "  'little',\n",
       "  'garron',\n",
       "  'picking',\n",
       "  'way',\n",
       "  'carefully',\n",
       "  'undergrowth'],\n",
       " ['light',\n",
       "  'snow',\n",
       "  'fallen',\n",
       "  'night',\n",
       "  'stones',\n",
       "  'roots',\n",
       "  'hidden',\n",
       "  'sinks',\n",
       "  'lying',\n",
       "  'crust',\n",
       "  'waiting',\n",
       "  'careless',\n",
       "  'unwary'],\n",
       " ['ser',\n",
       "  'waymar',\n",
       "  'royce',\n",
       "  'came',\n",
       "  'next',\n",
       "  'great',\n",
       "  'black',\n",
       "  'destrier',\n",
       "  'snorting',\n",
       "  'impatiently'],\n",
       " ['warhorse', 'wrong', 'mount', 'ranging', 'try', 'tell', 'lordling'],\n",
       " ['gared', 'brought', 'rear'],\n",
       " ['old', 'man', 'arms', 'muttered', 'rode'],\n",
       " ['twilight', 'deepened'],\n",
       " ['cloudless',\n",
       "  'sky',\n",
       "  'turned',\n",
       "  'deep',\n",
       "  'purple',\n",
       "  'color',\n",
       "  'old',\n",
       "  'bruise',\n",
       "  'faded',\n",
       "  'black'],\n",
       " ['stars', 'began', 'come'],\n",
       " ['half', 'moon', 'rose'],\n",
       " ['grateful', 'light'],\n",
       " ['make',\n",
       "  'better',\n",
       "  'pace',\n",
       "  'surely',\n",
       "  'royce',\n",
       "  'said',\n",
       "  'moon',\n",
       "  'full',\n",
       "  'risen'],\n",
       " ['horse', 'said'],\n",
       " ['fear', 'made', 'insolent'],\n",
       " ['perhaps', 'lord', 'would', 'care', 'take', 'lead'],\n",
       " ['ser', 'waymar', 'royce', 'deign', 'reply'],\n",
       " ['somewhere', 'wood', 'wolf', 'howled'],\n",
       " ['pulled',\n",
       "  'garron',\n",
       "  'beneath',\n",
       "  'ancient',\n",
       "  'gnarled',\n",
       "  'ironwood',\n",
       "  'dismounted'],\n",
       " ['page', 'stopping'],\n",
       " ['ser', 'waymar', 'asked'],\n",
       " ['best', 'go', 'rest', 'way', 'foot', 'lord'],\n",
       " ['ridge'],\n",
       " ['royce', 'paused', 'moment', 'staring', 'distance', 'face', 'reflective'],\n",
       " ['cold', 'wind', 'whispered', 'trees'],\n",
       " ['great',\n",
       "  'sable',\n",
       "  'cloak',\n",
       "  'stirred',\n",
       "  'behind',\n",
       "  'like',\n",
       "  'something',\n",
       "  'half',\n",
       "  'alive'],\n",
       " ['something', 'wrong', 'gared', 'muttered'],\n",
       " ['young', 'knight', 'gave', 'disdainful', 'smile'],\n",
       " [],\n",
       " ['feel'],\n",
       " ['gared', 'asked'],\n",
       " ['listen', 'darkness'],\n",
       " ['could', 'feel'],\n",
       " ['four', 'years', 'night', 'watch', 'never', 'afraid'],\n",
       " [],\n",
       " ['wind'],\n",
       " ['trees', 'rustling'],\n",
       " ['wolf'],\n",
       " ['sound', 'unmans', 'gared'],\n",
       " ['gared', 'answer', 'royce', 'slid', 'gracefully', 'saddle'],\n",
       " ['tied',\n",
       "  'destrier',\n",
       "  'securely',\n",
       "  'low',\n",
       "  'hanging',\n",
       "  'limb',\n",
       "  'well',\n",
       "  'away',\n",
       "  'horses',\n",
       "  'drew',\n",
       "  'longsword',\n",
       "  'sheath'],\n",
       " ['jewels', 'glittered', 'hilt', 'moonlight', 'ran', 'shining', 'steel'],\n",
       " ['splendid', 'weapon', 'castle', 'forged', 'new', 'made', 'look'],\n",
       " ['doubted', 'ever', 'swung', 'anger'],\n",
       " ['trees', 'press', 'close', 'warned'],\n",
       " ['sword', 'tangle', 'ord'],\n",
       " ['better', 'knife'],\n",
       " ['need', 'instruction', 'ask', 'young', 'lord', 'said'],\n",
       " ['gared', 'stay'],\n",
       " ['guard', 'horses'],\n",
       " ['gared', 'dismounted'],\n",
       " ['need', 'fire'],\n",
       " ['see'],\n",
       " ['big', 'fool', 'old', 'man'],\n",
       " ['enemies', 'wood', 'fire', 'last', 'thing', 'want'],\n",
       " ['enemies', 'fire', 'keep', 'away', 'gared', 'said'],\n",
       " ['bears', 'direwolves', 'things'],\n",
       " [],\n",
       " [],\n",
       " ['ser', 'waymar', 'mouth', 'became', 'hard', 'line'],\n",
       " ['fire'],\n",
       " ['gared',\n",
       "  'hood',\n",
       "  'shadowed',\n",
       "  'face',\n",
       "  'could',\n",
       "  'see',\n",
       "  'hard',\n",
       "  'glitter',\n",
       "  'eyes',\n",
       "  'stared',\n",
       "  'knight'],\n",
       " ['moment', 'afraid', 'older', 'man', 'would', 'go', 'sword'],\n",
       " ['short',\n",
       "  'ugly',\n",
       "  'thing',\n",
       "  'grip',\n",
       "  'discolored',\n",
       "  'sweat',\n",
       "  'edge',\n",
       "  'nicked',\n",
       "  'hard',\n",
       "  'use',\n",
       "  'would',\n",
       "  'given',\n",
       "  'iron',\n",
       "  'bob',\n",
       "  'lordling',\n",
       "  'life',\n",
       "  'gared',\n",
       "  'pulled',\n",
       "  'scabbard'],\n",
       " ['finally', 'gared', 'looked'],\n",
       " ['fire', 'muttered', 'low', 'breath'],\n",
       " ['royce', 'took', 'acquiescence', 'turned', 'away'],\n",
       " ['lead', 'said'],\n",
       " ['threaded',\n",
       "  'way',\n",
       "  'thicket',\n",
       "  'started',\n",
       "  'slope',\n",
       "  'low',\n",
       "  'ridge',\n",
       "  'found',\n",
       "  'vantage',\n",
       "  'point',\n",
       "  'sentinel',\n",
       "  'tree'],\n",
       " ['thin',\n",
       "  'crust',\n",
       "  'snow',\n",
       "  'ground',\n",
       "  'damp',\n",
       "  'muddy',\n",
       "  'slick',\n",
       "  'footing',\n",
       "  'rocks',\n",
       "  'hidden',\n",
       "  'roots',\n",
       "  'trip'],\n",
       " ['made', 'sound', 'climbed'],\n",
       " ['behind',\n",
       "  'heard',\n",
       "  'soft',\n",
       "  'metallic',\n",
       "  'slither',\n",
       "  'lordling',\n",
       "  'ringmail',\n",
       "  'rustle',\n",
       "  'leaves',\n",
       "  'muttered',\n",
       "  'curses',\n",
       "  'reaching',\n",
       "  'branches',\n",
       "  'grabbed',\n",
       "  'longsword',\n",
       "  'tugged',\n",
       "  'splendid',\n",
       "  'sable',\n",
       "  'cloak'],\n",
       " ['great',\n",
       "  'sentinel',\n",
       "  'right',\n",
       "  'top',\n",
       "  'ridge',\n",
       "  'known',\n",
       "  'would',\n",
       "  'lowest',\n",
       "  'branches',\n",
       "  'bare',\n",
       "  'foot',\n",
       "  'ground'],\n",
       " ['slid',\n",
       "  'underneath',\n",
       "  'flat',\n",
       "  'belly',\n",
       "  'snow',\n",
       "  'mud',\n",
       "  'page',\n",
       "  'looked',\n",
       "  'empty',\n",
       "  'clearing'],\n",
       " ['heart', 'stopped', 'chest'],\n",
       " ['moment', 'dared', 'breathe'],\n",
       " ['moonlight',\n",
       "  'shone',\n",
       "  'clearing',\n",
       "  'ashes',\n",
       "  'firepit',\n",
       "  'snow',\n",
       "  'covered',\n",
       "  'lean',\n",
       "  'great',\n",
       "  'rock',\n",
       "  'little',\n",
       "  'half',\n",
       "  'frozen',\n",
       "  'stream'],\n",
       " ['everything', 'hours', 'ago'],\n",
       " ['gone'],\n",
       " ['bodies', 'gone'],\n",
       " ['gods'],\n",
       " ['heard', 'behind'],\n",
       " ['sword', 'slashed', 'branch', 'ser', 'waymar', 'royce', 'gained', 'ridge'],\n",
       " ['stood',\n",
       "  'beside',\n",
       "  'sentinel',\n",
       "  'longsword',\n",
       "  'hand',\n",
       "  'cloak',\n",
       "  'billowing',\n",
       "  'behind',\n",
       "  'wind',\n",
       "  'came',\n",
       "  'outlined',\n",
       "  'nobly',\n",
       "  'stars',\n",
       "  'see'],\n",
       " ['get'],\n",
       " ['whispered', 'urgently'],\n",
       " ['something', 'wrong'],\n",
       " ['royce', 'move'],\n",
       " ['looked', 'empty', 'clearing', 'laughed'],\n",
       " ['dead', 'men', 'seem', 'moved', 'camp'],\n",
       " ['voice', 'abandoned'],\n",
       " ['groped', 'words', 'come'],\n",
       " ['possible'],\n",
       " ['eyes', 'swept', 'back', 'forth', 'abandoned', 'campsite', 'stopped', 'axe'],\n",
       " ['huge',\n",
       "  'double',\n",
       "  'bladed',\n",
       "  'battle',\n",
       "  'axe',\n",
       "  'still',\n",
       "  'lying',\n",
       "  'seen',\n",
       "  'last',\n",
       "  'untouched'],\n",
       " ['valuable', 'weapon'],\n",
       " [],\n",
       " [],\n",
       " ['feet', 'ser', 'waymar', 'commanded'],\n",
       " ['one'],\n",
       " ['hiding', 'bush'],\n",
       " ['reluctantly', 'obeyed'],\n",
       " ['ser', 'waymar', 'looked', 'open', 'disapproval'],\n",
       " ['going', 'back', 'castle', 'black', 'failure', 'first', 'ranging'],\n",
       " ['find', 'men'],\n",
       " ['glanced', 'around'],\n",
       " ['tree'],\n",
       " ['quick'],\n",
       " ['look', 'fire'],\n",
       " ['turned', 'away', 'wordless'],\n",
       " ['use', 'argue'],\n",
       " ['wind', 'moving'],\n",
       " ['cut', 'right'],\n",
       " ['went', 'tree', 'vaulting', 'grey', 'green', 'sentinel', 'began', 'climb'],\n",
       " ['soon', 'hands', 'sticky', 'sap', 'lost', 'among', 'needles'],\n",
       " ['fear', 'filled', 'gut', 'like', 'meal', 'could', 'digest'],\n",
       " ['whispered',\n",
       "  'prayer',\n",
       "  'nameless',\n",
       "  'gods',\n",
       "  'wood',\n",
       "  'slipped',\n",
       "  'dirk',\n",
       "  'free',\n",
       "  'sheath'],\n",
       " ['put', 'teeth', 'keep', 'hands', 'free', 'climbing'],\n",
       " ['taste', 'cold', 'iron', 'mouth', 'gave', 'comfort'],\n",
       " ['lordling', 'called', 'suddenly', 'goes'],\n",
       " ['heard', 'uncertainty', 'challenge'],\n",
       " ['stopped', 'climbing', 'listened', 'watched'],\n",
       " ['woods',\n",
       "  'gave',\n",
       "  'answer',\n",
       "  'rustle',\n",
       "  'leaves',\n",
       "  'icy',\n",
       "  'rush',\n",
       "  'stream',\n",
       "  'distant',\n",
       "  'hoot',\n",
       "  'snow',\n",
       "  'owl'],\n",
       " ['others', 'made', 'sound'],\n",
       " ['saw', 'movement', 'corner', 'eye'],\n",
       " ['pale', 'shapes', 'gliding', 'wood'],\n",
       " ['turned', 'head', 'glimpsed', 'white', 'shadow', 'darkness'],\n",
       " ['gone'],\n",
       " ['branches',\n",
       "  'stirred',\n",
       "  'gently',\n",
       "  'wind',\n",
       "  'scratching',\n",
       "  'one',\n",
       "  'another',\n",
       "  'wooden',\n",
       "  'fingers'],\n",
       " ['opened', 'mouth', 'call', 'warning', 'words', 'seemed', 'freeze', 'throat'],\n",
       " ['perhaps', 'wrong'],\n",
       " ['perhaps', 'bird', 'reflection', 'snow', 'trick', 'moonlight'],\n",
       " ['seen'],\n",
       " [],\n",
       " ['ser', 'waymar', 'called'],\n",
       " ['see', 'anything'],\n",
       " ['turning', 'slow', 'circle', 'suddenly', 'wary', 'sword', 'hand'],\n",
       " ['must', 'felt', 'felt'],\n",
       " ['nothing', 'see'],\n",
       " ['page', 'answer'],\n",
       " ['cold'],\n",
       " ['cold'],\n",
       " ['shivering', 'clung', 'tightly', 'perch'],\n",
       " ['face', 'pressed', 'hard', 'trunk', 'sentinel'],\n",
       " ['could', 'feel', 'sweet', 'sticky', 'sap', 'cheek'],\n",
       " ['shadow', 'emerged', 'dark', 'wood'],\n",
       " ['stood', 'front', 'royce'],\n",
       " ['tall', 'gaunt', 'hard', 'old', 'bones', 'flesh', 'pale', 'milk'],\n",
       " ['armor',\n",
       "  'seemed',\n",
       "  'change',\n",
       "  'color',\n",
       "  'moved',\n",
       "  'white',\n",
       "  'new',\n",
       "  'fallen',\n",
       "  'snow',\n",
       "  'black',\n",
       "  'shadow',\n",
       "  'everywhere',\n",
       "  'dappled',\n",
       "  'deep',\n",
       "  'grey',\n",
       "  'green',\n",
       "  'trees'],\n",
       " ['patterns', 'ran', 'like', 'moonlight', 'water', 'every', 'step', 'took'],\n",
       " ['heard', 'breath', 'go', 'ser', 'waymar', 'royce', 'long', 'hiss'],\n",
       " ['come', 'farther', 'lordling', 'warned'],\n",
       " ['voice', 'cracked', 'like', 'boy'],\n",
       " ['threw',\n",
       "  'long',\n",
       "  'sable',\n",
       "  'cloak',\n",
       "  'back',\n",
       "  'shoulders',\n",
       "  'free',\n",
       "  'arms',\n",
       "  'battle',\n",
       "  'took',\n",
       "  'sword',\n",
       "  'hands'],\n",
       " ['wind', 'stopped'],\n",
       " ['cold'],\n",
       " ['slid', 'forward', 'silent', 'feet'],\n",
       " ['hand', 'longsword', 'like', 'none', 'ever', 'seen'],\n",
       " ['human', 'metal', 'gone', 'forging', 'blade'],\n",
       " ['alive',\n",
       "  'moonlight',\n",
       "  'translucent',\n",
       "  'shard',\n",
       "  'crystal',\n",
       "  'thin',\n",
       "  'seemed',\n",
       "  'almost',\n",
       "  'vanish',\n",
       "  'seen',\n",
       "  'edge'],\n",
       " ['faint',\n",
       "  'blue',\n",
       "  'shimmer',\n",
       "  'thing',\n",
       "  'ghost',\n",
       "  'light',\n",
       "  'played',\n",
       "  'around',\n",
       "  'edges',\n",
       "  'somehow',\n",
       "  'knew',\n",
       "  'sharper',\n",
       "  'razor'],\n",
       " ['ser', 'waymar', 'met', 'bravely'],\n",
       " ['dance'],\n",
       " ['lifted', 'sword', 'high', 'head', 'defiant'],\n",
       " ['hands', 'trembled', 'weight', 'perhaps', 'cold'],\n",
       " ['yet', 'moment', 'thought', 'boy', 'longer', 'man', 'night', 'watch'],\n",
       " ['halted'],\n",
       " ['saw',\n",
       "  'eyes',\n",
       "  'blue',\n",
       "  'deeper',\n",
       "  'bluer',\n",
       "  'human',\n",
       "  'eyes',\n",
       "  'blue',\n",
       "  'burned',\n",
       "  'like',\n",
       "  'ice'],\n",
       " ['fixed',\n",
       "  'longsword',\n",
       "  'trembling',\n",
       "  'high',\n",
       "  'watched',\n",
       "  'moonlight',\n",
       "  'running',\n",
       "  'cold',\n",
       "  'along',\n",
       "  'metal'],\n",
       " ['heartbeat', 'dared', 'hope'],\n",
       " ['emerged', 'silently', 'shadows', 'twins', 'first'],\n",
       " ['three'],\n",
       " [],\n",
       " [],\n",
       " ['four'],\n",
       " [],\n",
       " [],\n",
       " ['five'],\n",
       " [],\n",
       " [],\n",
       " ['ser',\n",
       "  'waymar',\n",
       "  'may',\n",
       "  'felt',\n",
       "  'cold',\n",
       "  'came',\n",
       "  'never',\n",
       "  'saw',\n",
       "  'never',\n",
       "  'heard'],\n",
       " ['call'],\n",
       " ['duty'],\n",
       " ['death'],\n",
       " ['shivered', 'hugged', 'tree', 'kept', 'silence'],\n",
       " ['pale', 'sword', 'came', 'shivering', 'air'],\n",
       " ['ser', 'waymar', 'met', 'steel'],\n",
       " ['blades',\n",
       "  'met',\n",
       "  'ring',\n",
       "  'metal',\n",
       "  'metal',\n",
       "  'high',\n",
       "  'thin',\n",
       "  'sound',\n",
       "  'edge',\n",
       "  'hearing',\n",
       "  'like',\n",
       "  'animal',\n",
       "  'screaming',\n",
       "  'pain'],\n",
       " ['royce', 'checked', 'second', 'blow', 'third', 'fell', 'back', 'step'],\n",
       " ['another', 'flurry', 'blows', 'fell', 'back'],\n",
       " ['behind',\n",
       "  'right',\n",
       "  'left',\n",
       "  'around',\n",
       "  'watchers',\n",
       "  'stood',\n",
       "  'patient',\n",
       "  'faceless',\n",
       "  'silent',\n",
       "  'shifting',\n",
       "  'patterns',\n",
       "  'delicate',\n",
       "  'armor',\n",
       "  'making',\n",
       "  'invisible',\n",
       "  'wood'],\n",
       " ['yet', 'made', 'move', 'interfere'],\n",
       " ['swords',\n",
       "  'met',\n",
       "  'wanted',\n",
       "  'cover',\n",
       "  'ears',\n",
       "  'strange',\n",
       "  'anguished',\n",
       "  'keening',\n",
       "  'clash'],\n",
       " ['ser', 'waymar', 'panting', 'effort', 'breath', 'steaming', 'moonlight'],\n",
       " ['blade', 'white', 'frost', 'danced', 'pale', 'blue', 'light'],\n",
       " ['royce', 'parry', 'came', 'beat', 'late'],\n",
       " ['pale', 'sword', 'bit', 'ringmail', 'beneath', 'arm'],\n",
       " ['young', 'lord', 'cried', 'pain'],\n",
       " ['blood', 'welled', 'rings'],\n",
       " ['steamed', 'cold', 'droplets', 'seemed', 'red', 'fire', 'touched', 'snow'],\n",
       " ['ser', 'page', 'waymar', 'fingers', 'brushed', 'side'],\n",
       " ['moleskin', 'glove', 'came', 'away', 'soaked', 'red'],\n",
       " ['said',\n",
       "  'something',\n",
       "  'language',\n",
       "  'know',\n",
       "  'voice',\n",
       "  'like',\n",
       "  'cracking',\n",
       "  'ice',\n",
       "  'winter',\n",
       "  'lake',\n",
       "  'words',\n",
       "  'mocking'],\n",
       " ['ser', 'waymar', 'royce', 'found', 'fury'],\n",
       " ['robert'],\n",
       " ['shouted',\n",
       "  'came',\n",
       "  'snarling',\n",
       "  'lifting',\n",
       "  'frost',\n",
       "  'covered',\n",
       "  'longsword',\n",
       "  'hands',\n",
       "  'swinging',\n",
       "  'around',\n",
       "  'flat',\n",
       "  'sidearm',\n",
       "  'slash',\n",
       "  'weight',\n",
       "  'behind'],\n",
       " ['parry', 'almost', 'lazy'],\n",
       " ['blades', 'touched', 'steel', 'shattered'],\n",
       " ['scream',\n",
       "  'echoed',\n",
       "  'forest',\n",
       "  'night',\n",
       "  'longsword',\n",
       "  'shivered',\n",
       "  'hundred',\n",
       "  'brittle',\n",
       "  'pieces',\n",
       "  'shards',\n",
       "  'scattering',\n",
       "  'like',\n",
       "  'rain',\n",
       "  'needles'],\n",
       " ['royce', 'went', 'knees', 'shrieking', 'covered', 'eyes'],\n",
       " ['blood', 'welled', 'fingers'],\n",
       " ['watchers', 'moved', 'forward', 'together', 'signal', 'given'],\n",
       " ['swords', 'rose', 'fell', 'deathly', 'silence'],\n",
       " ['cold', 'butchery'],\n",
       " ['pale', 'blades', 'sliced', 'ringmail', 'silk'],\n",
       " ['closed', 'eyes'],\n",
       " ['far', 'beneath', 'heard', 'voices', 'laughter', 'sharp', 'icicles'],\n",
       " ['found', 'courage', 'look', 'long', 'time', 'passed', 'ridge', 'empty'],\n",
       " ['stayed',\n",
       "  'tree',\n",
       "  'scarce',\n",
       "  'daring',\n",
       "  'breathe',\n",
       "  'moon',\n",
       "  'crept',\n",
       "  'slowly',\n",
       "  'across',\n",
       "  'black',\n",
       "  'sky'],\n",
       " ['finally', 'muscles', 'cramping', 'fingers', 'numb', 'cold', 'climbed'],\n",
       " ['royce', 'body', 'lay', 'facedown', 'snow', 'one', 'arm', 'outflung'],\n",
       " ['thick', 'sable', 'cloak', 'slashed', 'dozen', 'places'],\n",
       " ['lying', 'dead', 'like', 'saw', 'young'],\n",
       " ['boy'],\n",
       " ['found',\n",
       "  'left',\n",
       "  'sword',\n",
       "  'feet',\n",
       "  'away',\n",
       "  'end',\n",
       "  'splintered',\n",
       "  'twisted',\n",
       "  'like',\n",
       "  'tree',\n",
       "  'struck',\n",
       "  'lightning'],\n",
       " ['knelt', 'looked', 'around', 'warily', 'snatched'],\n",
       " ['broken', 'sword', 'would', 'proof'],\n",
       " ['gared',\n",
       "  'would',\n",
       "  'know',\n",
       "  'make',\n",
       "  'surely',\n",
       "  'old',\n",
       "  'bear',\n",
       "  'mormont',\n",
       "  'maester',\n",
       "  'aemon'],\n",
       " ['would', 'gared', 'still', 'waiting', 'horses'],\n",
       " ['hurry'],\n",
       " ['rose'],\n",
       " ['ser', 'waymar', 'royce', 'stood'],\n",
       " ['fine', 'clothes', 'tatter', 'face', 'ruin'],\n",
       " ['shard', 'sword', 'transfixed', 'blind', 'white', 'pupil', 'left', 'eye'],\n",
       " ['right', 'eye', 'open'],\n",
       " ['pupil', 'burned', 'blue'],\n",
       " ['saw'],\n",
       " ['broken', 'sword', 'fell', 'nerveless', 'fingers'],\n",
       " ['closed', 'eyes', 'pray'],\n",
       " ['long',\n",
       "  'elegant',\n",
       "  'hands',\n",
       "  'brushed',\n",
       "  'cheek',\n",
       "  'tightened',\n",
       "  'around',\n",
       "  'throat'],\n",
       " ['gloved',\n",
       "  'finest',\n",
       "  'moleskin',\n",
       "  'sticky',\n",
       "  'blood',\n",
       "  'yet',\n",
       "  'touch',\n",
       "  'icy',\n",
       "  'cold'],\n",
       " ['bran',\n",
       "  'morning',\n",
       "  'dawned',\n",
       "  'clear',\n",
       "  'cold',\n",
       "  'crispness',\n",
       "  'hinted',\n",
       "  'end',\n",
       "  'summer'],\n",
       " ['set',\n",
       "  'forth',\n",
       "  'daybreak',\n",
       "  'see',\n",
       "  'man',\n",
       "  'beheaded',\n",
       "  'twenty',\n",
       "  'bran',\n",
       "  'rode',\n",
       "  'among',\n",
       "  'nervous',\n",
       "  'excitement'],\n",
       " ['first',\n",
       "  'time',\n",
       "  'deemed',\n",
       "  'old',\n",
       "  'enough',\n",
       "  'go',\n",
       "  'lord',\n",
       "  'father',\n",
       "  'page',\n",
       "  'brothers',\n",
       "  'see',\n",
       "  'king',\n",
       "  'justice',\n",
       "  'done'],\n",
       " ['ninth', 'year', 'summer', 'seventh', 'bran', 'life'],\n",
       " ['man', 'taken', 'outside', 'small', 'holdfast', 'hills'],\n",
       " ['robb',\n",
       "  'thought',\n",
       "  'wildling',\n",
       "  'sword',\n",
       "  'sworn',\n",
       "  'mance',\n",
       "  'rayder',\n",
       "  'kingbeyond',\n",
       "  'wall'],\n",
       " ['made', 'bran', 'skin', 'prickle', 'think'],\n",
       " ['remembered', 'hearth', 'tales', 'old', 'nan', 'told'],\n",
       " ['wildlings', 'cruel', 'men', 'said', 'slavers', 'slayers', 'thieves'],\n",
       " ['consorted',\n",
       "  'giants',\n",
       "  'ghouls',\n",
       "  'stole',\n",
       "  'girl',\n",
       "  'children',\n",
       "  'dead',\n",
       "  'night',\n",
       "  'drank',\n",
       "  'blood',\n",
       "  'polished',\n",
       "  'horns'],\n",
       " ['women',\n",
       "  'lay',\n",
       "  'others',\n",
       "  'long',\n",
       "  'night',\n",
       "  'sire',\n",
       "  'terrible',\n",
       "  'half',\n",
       "  'human',\n",
       "  'children'],\n",
       " ['man',\n",
       "  'found',\n",
       "  'bound',\n",
       "  'hand',\n",
       "  'foot',\n",
       "  'holdfast',\n",
       "  'wall',\n",
       "  'awaiting',\n",
       "  'king',\n",
       "  'justice',\n",
       "  'old',\n",
       "  'scrawny',\n",
       "  'much',\n",
       "  'taller',\n",
       "  'robb'],\n",
       " ['lost',\n",
       "  'ears',\n",
       "  'finger',\n",
       "  'frostbite',\n",
       "  'dressed',\n",
       "  'black',\n",
       "  'brother',\n",
       "  'night',\n",
       "  'watch',\n",
       "  'except',\n",
       "  'furs',\n",
       "  'ragged',\n",
       "  'greasy'],\n",
       " ['breath',\n",
       "  'man',\n",
       "  'horse',\n",
       "  'mingled',\n",
       "  'steaming',\n",
       "  'cold',\n",
       "  'morning',\n",
       "  'air',\n",
       "  'lord',\n",
       "  'father',\n",
       "  'man',\n",
       "  'cut',\n",
       "  'wall',\n",
       "  'dragged'],\n",
       " ['robb',\n",
       "  'jon',\n",
       "  'sat',\n",
       "  'tall',\n",
       "  'still',\n",
       "  'horses',\n",
       "  'bran',\n",
       "  'pony',\n",
       "  'trying',\n",
       "  'seem',\n",
       "  'older',\n",
       "  'seven',\n",
       "  'trying',\n",
       "  'pretend',\n",
       "  'seen'],\n",
       " ['faint', 'wind', 'blew', 'holdfast', 'gate'],\n",
       " ['heads',\n",
       "  'flapped',\n",
       "  'banner',\n",
       "  'starks',\n",
       "  'winterfell',\n",
       "  'grey',\n",
       "  'direwolf',\n",
       "  'racing',\n",
       "  'across',\n",
       "  'ice',\n",
       "  'white',\n",
       "  'field'],\n",
       " ['bran',\n",
       "  'father',\n",
       "  'sat',\n",
       "  'solemnly',\n",
       "  'horse',\n",
       "  'long',\n",
       "  'brown',\n",
       "  'hair',\n",
       "  'stirring',\n",
       "  'wind'],\n",
       " ['closely',\n",
       "  'trimmed',\n",
       "  'beard',\n",
       "  'shot',\n",
       "  'white',\n",
       "  'making',\n",
       "  'look',\n",
       "  'older',\n",
       "  'thirty',\n",
       "  'five',\n",
       "  'years'],\n",
       " ['grim',\n",
       "  'cast',\n",
       "  'grey',\n",
       "  'eyes',\n",
       "  'day',\n",
       "  'seemed',\n",
       "  'man',\n",
       "  'would',\n",
       "  'sit',\n",
       "  'fire',\n",
       "  'evening',\n",
       "  'talk',\n",
       "  'softly',\n",
       "  'age',\n",
       "  'heroes',\n",
       "  'children',\n",
       "  'forest'],\n",
       " ['taken',\n",
       "  'father',\n",
       "  'face',\n",
       "  'bran',\n",
       "  'thought',\n",
       "  'donned',\n",
       "  'face',\n",
       "  'lord',\n",
       "  'stark',\n",
       "  'winterfell'],\n",
       " ['questions',\n",
       "  'asked',\n",
       "  'answers',\n",
       "  'given',\n",
       "  'chill',\n",
       "  'morning',\n",
       "  'afterward',\n",
       "  'bran',\n",
       "  'could',\n",
       "  'recall',\n",
       "  'much',\n",
       "  'said'],\n",
       " ['finally',\n",
       "  'lord',\n",
       "  'father',\n",
       "  'gave',\n",
       "  'command',\n",
       "  'two',\n",
       "  'guardsmen',\n",
       "  'dragged',\n",
       "  'ragged',\n",
       "  'man',\n",
       "  'ironwood',\n",
       "  'stump',\n",
       "  'center',\n",
       "  'square'],\n",
       " ['forced', 'head', 'onto', 'hard', 'black', 'wood'],\n",
       " ['lord',\n",
       "  'eddard',\n",
       "  'stark',\n",
       "  'dismounted',\n",
       "  'ward',\n",
       "  'theon',\n",
       "  'greyjoy',\n",
       "  'brought',\n",
       "  'forth',\n",
       "  'sword'],\n",
       " ['ice', 'sword', 'called'],\n",
       " ['wide', 'across', 'man', 'hand', 'taller', 'even', 'robb'],\n",
       " ['blade', 'valyrian', 'steel', 'spell', 'forged', 'dark', 'smoke'],\n",
       " ['nothing', 'held', 'edge', 'like', 'valyrian', 'steel'],\n",
       " ['father',\n",
       "  'peeled',\n",
       "  'gloves',\n",
       "  'handed',\n",
       "  'jory',\n",
       "  'cassel',\n",
       "  'captain',\n",
       "  'household',\n",
       "  'guard'],\n",
       " ['took',\n",
       "  'hold',\n",
       "  'ice',\n",
       "  'hands',\n",
       "  'said',\n",
       "  'name',\n",
       "  'robert',\n",
       "  'house',\n",
       "  'baratheon',\n",
       "  'first',\n",
       "  'name',\n",
       "  'king',\n",
       "  'andals',\n",
       "  'rhoynar',\n",
       "  'first',\n",
       "  'men',\n",
       "  'lord',\n",
       "  'seven',\n",
       "  'kingdoms',\n",
       "  'protector',\n",
       "  'realm',\n",
       "  'word',\n",
       "  'eddard',\n",
       "  'house',\n",
       "  'stark',\n",
       "  'lord',\n",
       "  'winterfell',\n",
       "  'warden',\n",
       "  'north',\n",
       "  'sentence',\n",
       "  'die'],\n",
       " ['lifted', 'greatsword', 'high', 'head'],\n",
       " ['bran', 'bastard', 'brother', 'jon', 'snow', 'moved', 'closer'],\n",
       " ['keep', 'pony', 'well', 'hand', 'whispered'],\n",
       " ['look', 'away'],\n",
       " ['father', 'know'],\n",
       " ['bran', 'kept', 'pony', 'well', 'hand', 'look', 'away'],\n",
       " ['father', 'took', 'man', 'head', 'single', 'sure', 'stroke'],\n",
       " ['blood', 'sprayed', 'across', 'snow', 'red', 'surnmerwine'],\n",
       " ['one', 'horses', 'reared', 'restrained', 'keep', 'bolting'],\n",
       " ['bran', 'could', 'take', 'eyes', 'blood'],\n",
       " ['snows', 'around', 'stump', 'drank', 'eagerly', 'reddening', 'watched'],\n",
       " ['head', 'bounced', 'thick', 'root', 'rolled'],\n",
       " ['came', 'near', 'greyjoy', 'feet'],\n",
       " ['theon',\n",
       "  'lean',\n",
       "  'dark',\n",
       "  'page',\n",
       "  'youth',\n",
       "  'nineteen',\n",
       "  'found',\n",
       "  'everything',\n",
       "  'amusing'],\n",
       " ['laughed', 'put', 'boot', 'head', 'kicked', 'away'],\n",
       " ['ass', 'jon', 'muttered', 'low', 'enough', 'greyjoy', 'hear'],\n",
       " ['put', 'hand', 'bran', 'shoulder', 'bran', 'looked', 'bastard', 'brother'],\n",
       " ['well', 'jon', 'told', 'solemnly'],\n",
       " ['jon', 'fourteen', 'old', 'hand', 'justice'],\n",
       " ['seemed',\n",
       "  'colder',\n",
       "  'long',\n",
       "  'ride',\n",
       "  'back',\n",
       "  'winterfell',\n",
       "  'though',\n",
       "  'wind',\n",
       "  'died',\n",
       "  'sun',\n",
       "  'higher',\n",
       "  'sky'],\n",
       " ['bran',\n",
       "  'rode',\n",
       "  'brothers',\n",
       "  'well',\n",
       "  'ahead',\n",
       "  'main',\n",
       "  'party',\n",
       "  'pony',\n",
       "  'struggling',\n",
       "  'hard',\n",
       "  'keep',\n",
       "  'horses'],\n",
       " ['deserter', 'died', 'bravely', 'robb', 'said'],\n",
       " ['big',\n",
       "  'broad',\n",
       "  'growing',\n",
       "  'every',\n",
       "  'day',\n",
       "  'mother',\n",
       "  'coloring',\n",
       "  'fair',\n",
       "  'skin',\n",
       "  'red',\n",
       "  'brown',\n",
       "  'hair',\n",
       "  'blue',\n",
       "  'eyes',\n",
       "  'tullys',\n",
       "  'riverrun'],\n",
       " ['courage', 'least'],\n",
       " ['jon', 'snow', 'said', 'quietly'],\n",
       " ['courage'],\n",
       " ['one', 'dead', 'fear'],\n",
       " ['could', 'see', 'eyes', 'stark'],\n",
       " ['jon', 'eyes', 'grey', 'dark', 'seemed', 'almost', 'black', 'little', 'see'],\n",
       " ['age', 'robb', 'look', 'alike'],\n",
       " ['jon',\n",
       "  'slender',\n",
       "  'robb',\n",
       "  'muscular',\n",
       "  'dark',\n",
       "  'robb',\n",
       "  'fair',\n",
       "  'graceful',\n",
       "  'quick',\n",
       "  'half',\n",
       "  'brother',\n",
       "  'strong',\n",
       "  'fast'],\n",
       " ['robb', 'impressed'],\n",
       " ['others', 'take', 'eyes', 'swore'],\n",
       " ['died', 'well'],\n",
       " ['race', 'bridge'],\n",
       " ['done', 'jon', 'said', 'kicking', 'horse', 'forward'],\n",
       " ['robb',\n",
       "  'cursed',\n",
       "  'followed',\n",
       "  'galloped',\n",
       "  'trail',\n",
       "  'robb',\n",
       "  'laughing',\n",
       "  'hooting',\n",
       "  'jon',\n",
       "  'silent',\n",
       "  'intent'],\n",
       " ['hooves', 'horses', 'kicked', 'showers', 'snow', 'went'],\n",
       " ['bran', 'try', 'follow'],\n",
       " ['pony', 'could', 'keep'],\n",
       " ['seen', 'ragged', 'man', 'eyes', 'thinking'],\n",
       " ['sound', 'robb', 'laughter', 'receded', 'woods', 'grew', 'silent'],\n",
       " ['deep',\n",
       "  'thought',\n",
       "  'never',\n",
       "  'heard',\n",
       "  'rest',\n",
       "  'party',\n",
       "  'father',\n",
       "  'moved',\n",
       "  'ride',\n",
       "  'beside'],\n",
       " ['well', 'bran'],\n",
       " ['asked', 'unkindly'],\n",
       " ['yes', 'father', 'bran', 'told'],\n",
       " ['looked'],\n",
       " ['wrapped',\n",
       "  'furs',\n",
       "  'leathers',\n",
       "  'mounted',\n",
       "  'great',\n",
       "  'warhorse',\n",
       "  'lord',\n",
       "  'father',\n",
       "  'loomed',\n",
       "  'like',\n",
       "  'giant'],\n",
       " ['robb', 'says', 'man', 'died', 'bravely', 'jon', 'says', 'afraid'],\n",
       " ['think'],\n",
       " ['father', 'asked'],\n",
       " ['bran', 'thought'],\n",
       " ['man', 'still', 'brave', 'afraid'],\n",
       " ['time', 'man', 'brave', 'father', 'told'],\n",
       " ['understand'],\n",
       " ['wildling', 'bran', 'said'],\n",
       " ['carry', 'women', 'sell', 'others'],\n",
       " ['lord', 'father', 'smiled'],\n",
       " ['old', 'nan', 'telling', 'stories'],\n",
       " ['truth', 'man', 'oathbreaker', 'deserter', 'night', 'watch'],\n",
       " ['man', 'dangerous'],\n",
       " ['deserter',\n",
       "  'knows',\n",
       "  'life',\n",
       "  'forfeit',\n",
       "  'taken',\n",
       "  'flinch',\n",
       "  'crime',\n",
       "  'matter',\n",
       "  'vile'],\n",
       " ['mistake'],\n",
       " ['question', 'man', 'die', 'must'],\n",
       " ['page', 'bran', 'answer'],\n",
       " ['king', 'robert', 'headsman', 'said', 'uncertainly'],\n",
       " ['father', 'admitted'],\n",
       " ['targaryen', 'kings'],\n",
       " ['yet', 'way', 'older', 'way'],\n",
       " ['blood',\n",
       "  'first',\n",
       "  'men',\n",
       "  'still',\n",
       "  'flows',\n",
       "  'veins',\n",
       "  'starks',\n",
       "  'hold',\n",
       "  'belief',\n",
       "  'man',\n",
       "  'passes',\n",
       "  'sentence',\n",
       "  'swing',\n",
       "  'sword'],\n",
       " ['would',\n",
       "  'take',\n",
       "  'man',\n",
       "  'life',\n",
       "  'owe',\n",
       "  'look',\n",
       "  'eyes',\n",
       "  'hear',\n",
       "  'final',\n",
       "  'words'],\n",
       " ['cannot', 'bear', 'perhaps', 'man', 'deserve', 'die'],\n",
       " ['one',\n",
       "  'day',\n",
       "  'bran',\n",
       "  'robb',\n",
       "  'bannerman',\n",
       "  'holding',\n",
       "  'keep',\n",
       "  'brother',\n",
       "  'king',\n",
       "  'justice',\n",
       "  'fall'],\n",
       " ['day',\n",
       "  'comes',\n",
       "  'must',\n",
       "  'take',\n",
       "  'pleasure',\n",
       "  'task',\n",
       "  'neither',\n",
       "  'must',\n",
       "  'look',\n",
       "  'away'],\n",
       " ['ruler',\n",
       "  'hides',\n",
       "  'behind',\n",
       "  'paid',\n",
       "  'executioners',\n",
       "  'soon',\n",
       "  'forgets',\n",
       "  'death'],\n",
       " ['jon', 'reappeared', 'crest', 'hill'],\n",
       " ['waved', 'shouted'],\n",
       " ['father', 'bran', 'come', 'quickly', 'see', 'robb', 'found'],\n",
       " ['gone'],\n",
       " ['jory', 'rode', 'beside'],\n",
       " ['trouble', 'lord'],\n",
       " ['beyond', 'doubt', 'lord', 'father', 'said'],\n",
       " ['come', 'let', 'us', 'see', 'mischief', 'sons', 'rooted'],\n",
       " ['sent', 'horse', 'trot'],\n",
       " ['jory', 'bran', 'rest', 'came'],\n",
       " ['found',\n",
       "  'robb',\n",
       "  'riverbank',\n",
       "  'north',\n",
       "  'bridge',\n",
       "  'jon',\n",
       "  'still',\n",
       "  'mounted',\n",
       "  'beside'],\n",
       " ['late', 'summer', 'snows', 'heavy', 'moonturn'],\n",
       " ['robb',\n",
       "  'stood',\n",
       "  'knee',\n",
       "  'deep',\n",
       "  'white',\n",
       "  'hood',\n",
       "  'pulled',\n",
       "  'back',\n",
       "  'sun',\n",
       "  'shone',\n",
       "  'hair'],\n",
       " ['cradling',\n",
       "  'something',\n",
       "  'arm',\n",
       "  'boys',\n",
       "  'talked',\n",
       "  'hushed',\n",
       "  'excited',\n",
       "  'voices'],\n",
       " ['riders',\n",
       "  'picked',\n",
       "  'way',\n",
       "  'carefully',\n",
       "  'drifts',\n",
       "  'groping',\n",
       "  'solid',\n",
       "  'footing',\n",
       "  'hidden',\n",
       "  'uneven',\n",
       "  'ground'],\n",
       " ['jory', 'cassel', 'theon', 'greyjoy', 'first', 'reach', 'boys'],\n",
       " ['greyjoy', 'laughing', 'joking', 'rode'],\n",
       " ['bran', 'heard', 'breath', 'go'],\n",
       " ['gods'],\n",
       " ['exclaimed', 'struggling', 'keep', 'control', 'horse', 'reached', 'sword'],\n",
       " ['jory', 'sword', 'already'],\n",
       " ['robb', 'get', 'away'],\n",
       " ['called', 'horse', 'reared'],\n",
       " ['robb', 'grinned', 'looked', 'bundle', 'arms'],\n",
       " ['hurt', 'said'],\n",
       " ['dead', 'jory'],\n",
       " ['bran', 'afire', 'curiosity'],\n",
       " ['would',\n",
       "  'spurred',\n",
       "  'pony',\n",
       "  'faster',\n",
       "  'father',\n",
       "  'made',\n",
       "  'dismount',\n",
       "  'beside',\n",
       "  'bridge',\n",
       "  'approach',\n",
       "  'foot'],\n",
       " ['bran', 'jumped', 'ran'],\n",
       " ['jon', 'jory', 'theon', 'greyjoy', 'dismounted', 'well'],\n",
       " ['seven', 'hells'],\n",
       " ['greyjoy', 'saying'],\n",
       " ['wolf', 'robb', 'told'],\n",
       " ['freak', 'greyjoy', 'said'],\n",
       " ['look', 'size'],\n",
       " ['bran',\n",
       "  'heart',\n",
       "  'thumping',\n",
       "  'chest',\n",
       "  'pushed',\n",
       "  'waist',\n",
       "  'high',\n",
       "  'drift',\n",
       "  'brothers',\n",
       "  'side'],\n",
       " ['half',\n",
       "  'buried',\n",
       "  'bloodstained',\n",
       "  'snow',\n",
       "  'huge',\n",
       "  'dark',\n",
       "  'shape',\n",
       "  'slumped',\n",
       "  'death'],\n",
       " ['ice',\n",
       "  'formed',\n",
       "  'shaggy',\n",
       "  'grey',\n",
       "  'fur',\n",
       "  'faint',\n",
       "  'smell',\n",
       "  'corruption',\n",
       "  'clung',\n",
       "  'like',\n",
       "  'woman',\n",
       "  'perfume'],\n",
       " ['bran',\n",
       "  'glimpsed',\n",
       "  'blind',\n",
       "  'eyes',\n",
       "  'crawling',\n",
       "  'maggots',\n",
       "  'wide',\n",
       "  'mouth',\n",
       "  'full',\n",
       "  'yellowed',\n",
       "  'teeth'],\n",
       " ['size', 'made', 'gasp'],\n",
       " ['bigger', 'pony', 'twice', 'size', 'largest', 'hound', 'father', 'kennel'],\n",
       " ['page', 'freak', 'jon', 'said', 'calmly'],\n",
       " ['direwolf'],\n",
       " ['grow', 'larger', 'kind'],\n",
       " ['theon',\n",
       "  'greyjoy',\n",
       "  'said',\n",
       "  'direwolf',\n",
       "  'sighted',\n",
       "  'south',\n",
       "  'wall',\n",
       "  'two',\n",
       "  'hundred',\n",
       "  'years'],\n",
       " ['see', 'one', 'jon', 'replied'],\n",
       " ['bran', 'tore', 'eyes', 'away', 'monster'],\n",
       " ['noticed', 'bundle', 'robb', 'arms'],\n",
       " ['gave', 'cry', 'delight', 'moved', 'closer'],\n",
       " ['pup', 'tiny', 'ball', 'grey', 'black', 'fur', 'eyes', 'still', 'closed'],\n",
       " ['nuzzled',\n",
       "  'blindly',\n",
       "  'robb',\n",
       "  'chest',\n",
       "  'cradled',\n",
       "  'searching',\n",
       "  'milk',\n",
       "  'among',\n",
       "  'leathers',\n",
       "  'making',\n",
       "  'sad',\n",
       "  'little',\n",
       "  'whimpery',\n",
       "  'sound'],\n",
       " ['bran', 'reached', 'hesitantly'],\n",
       " ['go', 'robb', 'told'],\n",
       " ['touch'],\n",
       " ['bran',\n",
       "  'gave',\n",
       "  'pup',\n",
       "  'quick',\n",
       "  'nervous',\n",
       "  'stroke',\n",
       "  'turned',\n",
       "  'jon',\n",
       "  'said',\n",
       "  'go'],\n",
       " ['half', 'brother', 'put', 'second', 'pup', 'arms'],\n",
       " ['five'],\n",
       " ['bran', 'sat', 'snow', 'hugged', 'wolf', 'pup', 'face'],\n",
       " ['fur', 'soft', 'warm', 'cheek'],\n",
       " ['direwolves',\n",
       "  'loose',\n",
       "  'realm',\n",
       "  'many',\n",
       "  'years',\n",
       "  'muttered',\n",
       "  'hullen',\n",
       "  'master',\n",
       "  'horse'],\n",
       " ['like'],\n",
       " ['sign', 'jory', 'said'],\n",
       " ['father', 'frowned'],\n",
       " ['dead', 'animal', 'jory', 'said'],\n",
       " ['yet', 'seemed', 'troubled'],\n",
       " ['snow', 'crunched', 'boots', 'moved', 'around', 'body'],\n",
       " ['know', 'killed'],\n",
       " ['something',\n",
       "  'throat',\n",
       "  'robb',\n",
       "  'told',\n",
       "  'proud',\n",
       "  'found',\n",
       "  'answer',\n",
       "  'father',\n",
       "  'even',\n",
       "  'asked'],\n",
       " ['jaw', 'father', 'knelt', 'groped', 'beast', 'head', 'hand'],\n",
       " ['gave', 'yank', 'held', 'see'],\n",
       " ['foot', 'shattered', 'antler', 'tines', 'snapped', 'wet', 'blood'],\n",
       " ['sudden', 'silence', 'descended', 'party'],\n",
       " ['men', 'looked', 'antler', 'uneasily', 'one', 'dared', 'speak'],\n",
       " ['even', 'bran', 'could', 'sense', 'fear', 'though', 'understand'],\n",
       " ['father', 'tossed', 'antler', 'side', 'cleansed', 'hands', 'snow'],\n",
       " ['surprised', 'lived', 'long', 'enough', 'whelp', 'said'],\n",
       " ['voice', 'broke', 'spell'],\n",
       " ['maybe', 'jory', 'said'],\n",
       " ['heard', 'tales'],\n",
       " [],\n",
       " [],\n",
       " ['maybe', 'bitch', 'already', 'dead', 'pups', 'came'],\n",
       " ['born', 'dead', 'another', 'man', 'put'],\n",
       " ['worse', 'luck'],\n",
       " ['matter', 'said', 'hullen'],\n",
       " ['dead', 'soon', 'enough'],\n",
       " ['bran', 'gave', 'wordless', 'cry', 'dismay'],\n",
       " ['sooner', 'better', 'theon', 'greyjoy', 'agreed'],\n",
       " ['drew', 'sword'],\n",
       " ['give', 'beast', 'bran'],\n",
       " ['little', 'thing', 'squirmed', 'heard', 'understood'],\n",
       " [],\n",
       " ['bran', 'cried', 'fiercely'],\n",
       " ['mine'],\n",
       " ['page', 'put', 'away', 'sword', 'greyjoy', 'robb', 'said'],\n",
       " ['moment',\n",
       "  'sounded',\n",
       "  'commanding',\n",
       "  'father',\n",
       "  'like',\n",
       "  'lord',\n",
       "  'would',\n",
       "  'someday'],\n",
       " ['keep', 'pups'],\n",
       " ['cannot', 'boy', 'said', 'harwin', 'hullen', 'son'],\n",
       " ['mercy', 'kill', 'hullen', 'said'],\n",
       " ['bran',\n",
       "  'looked',\n",
       "  'lord',\n",
       "  'father',\n",
       "  'rescue',\n",
       "  'got',\n",
       "  'frown',\n",
       "  'furrowed',\n",
       "  'brow'],\n",
       " ['hullen', 'speaks', 'truly', 'son'],\n",
       " ['better', 'swift', 'death', 'hard', 'one', 'cold', 'starvation'],\n",
       " [],\n",
       " ['could', 'feel', 'tears', 'welling', 'eyes', 'looked', 'away'],\n",
       " ['want', 'cry', 'front', 'father'],\n",
       " ['robb', 'resisted', 'stubbornly'],\n",
       " ['ser', 'rodrik', 'red', 'bitch', 'whelped', 'last', 'week', 'said'],\n",
       " ['small', 'litter', 'two', 'live', 'pups'],\n",
       " ['milk', 'enough'],\n",
       " ['rip', 'apart', 'try', 'nurse'],\n",
       " ['lord', 'stark', 'jon', 'said'],\n",
       " ['strange', 'hear', 'call', 'father', 'formal'],\n",
       " ['bran', 'looked', 'desperate', 'hope'],\n",
       " ['five', 'pups', 'told', 'father'],\n",
       " ['three', 'male', 'two', 'female'],\n",
       " ['jon'],\n",
       " ['five', 'trueborn', 'children', 'jon', 'said'],\n",
       " ['three', 'sons', 'two', 'daughters'],\n",
       " ['direwolf', 'sigil', 'house'],\n",
       " ['children', 'meant', 'pups', 'lord'],\n",
       " ['bran',\n",
       "  'saw',\n",
       "  'father',\n",
       "  'face',\n",
       "  'change',\n",
       "  'saw',\n",
       "  'men',\n",
       "  'exchange',\n",
       "  'glances'],\n",
       " ['loved', 'jon', 'heart', 'moment'],\n",
       " ['even', 'seven', 'bran', 'understood', 'brother', 'done'],\n",
       " ['count', 'come', 'right', 'jon', 'omitted'],\n",
       " ['included',\n",
       "  'girls',\n",
       "  'included',\n",
       "  'even',\n",
       "  'rickon',\n",
       "  'baby',\n",
       "  'bastard',\n",
       "  'bore',\n",
       "  'surname',\n",
       "  'snow',\n",
       "  'name',\n",
       "  'custom',\n",
       "  'decreed',\n",
       "  'given',\n",
       "  'north',\n",
       "  'unlucky',\n",
       "  'enough',\n",
       "  'born',\n",
       "  'name'],\n",
       " ['father', 'understood', 'well'],\n",
       " ['want', 'pup', 'jon'],\n",
       " ['asked', 'softly'],\n",
       " ['direwolf', 'graces', 'banners', 'house', 'stark', 'jon', 'pointed'],\n",
       " ['stark', 'father'],\n",
       " ['lord', 'father', 'regarded', 'jon', 'thoughtfully'],\n",
       " ['robb', 'rushed', 'silence', 'left'],\n",
       " ['nurse', 'father', 'promised'],\n",
       " ['soak', 'towel', 'warm', 'milk', 'give', 'suck'],\n",
       " [],\n",
       " ['bran', 'echoed'],\n",
       " ['lord', 'weighed', 'sons', 'long', 'carefully', 'eyes'],\n",
       " ['easy', 'say', 'harder'],\n",
       " ['wasting', 'servants', 'time'],\n",
       " ['want', 'pups', 'feed'],\n",
       " ['understood'],\n",
       " ['bran', 'nodded', 'eagerly'],\n",
       " ['pup', 'squirmed', 'grasp', 'licked', 'face', 'warm', 'tongue'],\n",
       " ['must', 'train', 'well', 'father', 'said'],\n",
       " ['must', 'train'],\n",
       " ['kennelmaster', 'nothing', 'monsters', 'promise'],\n",
       " ['gods', 'help', 'neglect', 'brutalize', 'train', 'badly'],\n",
       " ['dogs', 'beg', 'treats', 'slink', 'kick'],\n",
       " ['direwolf',\n",
       "  'rip',\n",
       "  'page',\n",
       "  'man',\n",
       "  'arm',\n",
       "  'shoulder',\n",
       "  'easily',\n",
       "  'dog',\n",
       "  'kill',\n",
       "  'rat'],\n",
       " ['sure', 'want'],\n",
       " ['yes', 'father', 'bran', 'said'],\n",
       " ['yes', 'robb', 'agreed'],\n",
       " ['pups', 'may', 'die', 'anyway', 'despite'],\n",
       " ['die', 'robb', 'said'],\n",
       " ['let', 'die'],\n",
       " ['keep'],\n",
       " ['jory', 'desmond', 'gather', 'pups'],\n",
       " ['time', 'back', 'winterfell'],\n",
       " ['mounted', 'way', 'bran', 'allowed', 'taste', 'sweet', 'air', 'victory'],\n",
       " ['pup',\n",
       "  'snuggled',\n",
       "  'inside',\n",
       "  'leathers',\n",
       "  'warm',\n",
       "  'safe',\n",
       "  'long',\n",
       "  'ride',\n",
       "  'home'],\n",
       " ['bran', 'wondering', 'name'],\n",
       " ['halfway', 'across', 'bridge', 'jon', 'pulled', 'suddenly'],\n",
       " ['jon'],\n",
       " ['lord', 'father', 'asked'],\n",
       " ['hear'],\n",
       " ['bran',\n",
       "  'could',\n",
       "  'hear',\n",
       "  'wind',\n",
       "  'trees',\n",
       "  'clatter',\n",
       "  'hooves',\n",
       "  'ironwood',\n",
       "  'planks',\n",
       "  'whimpering',\n",
       "  'hungry',\n",
       "  'pup',\n",
       "  'jon',\n",
       "  'listening',\n",
       "  'something',\n",
       "  'else'],\n",
       " ['jon', 'said'],\n",
       " ['swung', 'horse', 'around', 'galloped', 'back', 'across', 'bridge'],\n",
       " ['watched',\n",
       "  'dismount',\n",
       "  'direwolf',\n",
       "  'lay',\n",
       "  'dead',\n",
       "  'snow',\n",
       "  'watched',\n",
       "  'kneel'],\n",
       " ['moment', 'later', 'riding', 'back', 'smiling'],\n",
       " ['must', 'crawled', 'away', 'others', 'jon', 'said'],\n",
       " ['driven', 'away', 'father', 'said', 'looking', 'sixth', 'pup'],\n",
       " ['fur', 'white', 'rest', 'litter', 'grey'],\n",
       " ['eyes', 'red', 'blood', 'ragged', 'man', 'died', 'morning'],\n",
       " ['bran',\n",
       "  'thought',\n",
       "  'curious',\n",
       "  'pup',\n",
       "  'alone',\n",
       "  'would',\n",
       "  'opened',\n",
       "  'eyes',\n",
       "  'others',\n",
       "  'still',\n",
       "  'blind'],\n",
       " ['albino', 'theon', 'greyjoy', 'said', 'wry', 'amusement'],\n",
       " ['one', 'die', 'even', 'faster', 'others'],\n",
       " ['jon', 'snow', 'gave', 'father', 'ward', 'long', 'chilling', 'look'],\n",
       " ['think', 'greyjoy', 'said'],\n",
       " ['one', 'belongs'],\n",
       " ['catelyn', 'catelyn', 'never', 'liked', 'godswood'],\n",
       " ['born', 'tully', 'riverrun', 'far', 'south', 'red', 'fork', 'trident'],\n",
       " ['godswood',\n",
       "  'garden',\n",
       "  'bright',\n",
       "  'airy',\n",
       "  'tall',\n",
       "  'redwoods',\n",
       "  'spread',\n",
       "  'dappled',\n",
       "  'shadows',\n",
       "  'across',\n",
       "  'tinkling',\n",
       "  'streams',\n",
       "  'birds',\n",
       "  'sang',\n",
       "  'hidden',\n",
       "  'nests',\n",
       "  'air',\n",
       "  'spicy',\n",
       "  'scent',\n",
       "  'flowers'],\n",
       " ['page', 'gods', 'winterfell', 'kept', 'different', 'sort', 'wood'],\n",
       " ['dark',\n",
       "  'primal',\n",
       "  'place',\n",
       "  'three',\n",
       "  'acres',\n",
       "  'old',\n",
       "  'forest',\n",
       "  'untouched',\n",
       "  'ten',\n",
       "  'thousand',\n",
       "  'years',\n",
       "  'gloomy',\n",
       "  'castle',\n",
       "  'rose',\n",
       "  'around'],\n",
       " ['smelled', 'moist', 'earth', 'decay'],\n",
       " ['redwoods', 'grew'],\n",
       " ['wood',\n",
       "  'stubborn',\n",
       "  'sentinel',\n",
       "  'trees',\n",
       "  'armored',\n",
       "  'grey',\n",
       "  'green',\n",
       "  'needles',\n",
       "  'mighty',\n",
       "  'oaks',\n",
       "  'ironwoods',\n",
       "  'old',\n",
       "  'realm'],\n",
       " ['thick',\n",
       "  'black',\n",
       "  'trunks',\n",
       "  'crowded',\n",
       "  'close',\n",
       "  'together',\n",
       "  'twisted',\n",
       "  'branches',\n",
       "  'wove',\n",
       "  'dense',\n",
       "  'canopy',\n",
       "  'overhead',\n",
       "  'misshappen',\n",
       "  'roots',\n",
       "  'wrestled',\n",
       "  'beneath',\n",
       "  'soil'],\n",
       " ['place', 'deep', 'silence', 'brooding', 'shadows', 'gods', 'lived', 'names'],\n",
       " ['knew', 'would', 'find', 'husband', 'tonight'],\n",
       " ['whenever',\n",
       "  'took',\n",
       "  'man',\n",
       "  'life',\n",
       "  'afterward',\n",
       "  'would',\n",
       "  'seek',\n",
       "  'quiet',\n",
       "  'godswood'],\n",
       " ['catelyn',\n",
       "  'anointed',\n",
       "  'seven',\n",
       "  'oils',\n",
       "  'named',\n",
       "  'rainbow',\n",
       "  'light',\n",
       "  'filled',\n",
       "  'sept',\n",
       "  'riverrun'],\n",
       " ['faith', 'like', 'father', 'grandfather', 'father'],\n",
       " ['gods', 'names', 'faces', 'familiar', 'faces', 'parents'],\n",
       " ['worship',\n",
       "  'septon',\n",
       "  'censer',\n",
       "  'smell',\n",
       "  'incense',\n",
       "  'seven',\n",
       "  'sided',\n",
       "  'crystal',\n",
       "  'alive',\n",
       "  'light',\n",
       "  'voices',\n",
       "  'raised',\n",
       "  'song'],\n",
       " ['tullys',\n",
       "  'kept',\n",
       "  'godswood',\n",
       "  'great',\n",
       "  'houses',\n",
       "  'place',\n",
       "  'walk',\n",
       "  'read',\n",
       "  'lie',\n",
       "  'sun'],\n",
       " ['worship',\n",
       "  'sept',\n",
       "  'sake',\n",
       "  'ned',\n",
       "  'built',\n",
       "  'small',\n",
       "  'sept',\n",
       "  'might',\n",
       "  'sing',\n",
       "  'seven',\n",
       "  'faces',\n",
       "  'god',\n",
       "  'blood',\n",
       "  'first',\n",
       "  'men',\n",
       "  'still',\n",
       "  'flowed',\n",
       "  'veins',\n",
       "  'starks',\n",
       "  'gods',\n",
       "  'old',\n",
       "  'ones',\n",
       "  'nameless',\n",
       "  'faceless',\n",
       "  'gods',\n",
       "  'greenwood',\n",
       "  'shared',\n",
       "  'vanished',\n",
       "  'children',\n",
       "  'forest'],\n",
       " ['center',\n",
       "  'grove',\n",
       "  'ancient',\n",
       "  'weirwood',\n",
       "  'brooded',\n",
       "  'small',\n",
       "  'pool',\n",
       "  'waters',\n",
       "  'black',\n",
       "  'cold'],\n",
       " ['heart', 'tree', 'ned', 'called'],\n",
       " ['weirwood',\n",
       "  'bark',\n",
       "  'white',\n",
       "  'bone',\n",
       "  'leaves',\n",
       "  'dark',\n",
       "  'red',\n",
       "  'like',\n",
       "  'thousand',\n",
       "  'bloodstained',\n",
       "  'hands'],\n",
       " ['face',\n",
       "  'carved',\n",
       "  'trunk',\n",
       "  'great',\n",
       "  'tree',\n",
       "  'features',\n",
       "  'long',\n",
       "  'melancholy',\n",
       "  'deep',\n",
       "  'cut',\n",
       "  'eyes',\n",
       "  'red',\n",
       "  'dried',\n",
       "  'sap',\n",
       "  'strangely',\n",
       "  'watchful'],\n",
       " ['old', 'eyes', 'older', 'winterfell'],\n",
       " ['seen',\n",
       "  'brandon',\n",
       "  'builder',\n",
       "  'set',\n",
       "  'first',\n",
       "  'stone',\n",
       "  'tales',\n",
       "  'true',\n",
       "  'watched',\n",
       "  'castle',\n",
       "  'granite',\n",
       "  'walls',\n",
       "  'rise',\n",
       "  'around'],\n",
       " ['said',\n",
       "  'children',\n",
       "  'forest',\n",
       "  'carved',\n",
       "  'faces',\n",
       "  'trees',\n",
       "  'dawn',\n",
       "  'centuries',\n",
       "  'coming',\n",
       "  'first',\n",
       "  'men',\n",
       "  'across',\n",
       "  'narrow',\n",
       "  'sea'],\n",
       " ['south',\n",
       "  'last',\n",
       "  'weirwoods',\n",
       "  'cut',\n",
       "  'burned',\n",
       "  'thousand',\n",
       "  'years',\n",
       "  'ago',\n",
       "  'except',\n",
       "  'isle',\n",
       "  'faces',\n",
       "  'green',\n",
       "  'men',\n",
       "  'kept',\n",
       "  'silent',\n",
       "  'watch'],\n",
       " ['different'],\n",
       " ['every',\n",
       "  'castle',\n",
       "  'godswood',\n",
       "  'every',\n",
       "  'godswood',\n",
       "  'heart',\n",
       "  'tree',\n",
       "  'every',\n",
       "  'heart',\n",
       "  'tree',\n",
       "  'face'],\n",
       " ['catelyn',\n",
       "  'found',\n",
       "  'husband',\n",
       "  'beneath',\n",
       "  'weirwood',\n",
       "  'seated',\n",
       "  'moss',\n",
       "  'covered',\n",
       "  'stone'],\n",
       " ['greatsword',\n",
       "  'ice',\n",
       "  'across',\n",
       "  'lap',\n",
       "  'cleaning',\n",
       "  'blade',\n",
       "  'waters',\n",
       "  'black',\n",
       "  'night'],\n",
       " ['thousand',\n",
       "  'years',\n",
       "  'humus',\n",
       "  'lay',\n",
       "  'thick',\n",
       "  'upon',\n",
       "  'godswood',\n",
       "  'floor',\n",
       "  'swallowing',\n",
       "  'sound',\n",
       "  'feet',\n",
       "  'red',\n",
       "  'eyes',\n",
       "  'weirwood',\n",
       "  'seemed',\n",
       "  'follow',\n",
       "  'came'],\n",
       " ['ned', 'called', 'softly'],\n",
       " ['lifted', 'head', 'look'],\n",
       " ['catelyn', 'said'],\n",
       " ['voice', 'distant', 'formal'],\n",
       " ['children'],\n",
       " ['would', 'always', 'ask'],\n",
       " ['kitchen', 'arguing', 'names', 'wolf', 'pups'],\n",
       " ['spread',\n",
       "  'cloak',\n",
       "  'forest',\n",
       "  'floor',\n",
       "  'sat',\n",
       "  'beside',\n",
       "  'pool',\n",
       "  'back',\n",
       "  'weirwood'],\n",
       " ['could', 'feel', 'eyes', 'watching', 'best', 'ignore'],\n",
       " ['arya',\n",
       "  'already',\n",
       "  'love',\n",
       "  'sansa',\n",
       "  'charmed',\n",
       "  'gracious',\n",
       "  'rickon',\n",
       "  'quite',\n",
       "  'sure'],\n",
       " ['afraid'],\n",
       " ['ned', 'asked'],\n",
       " ['page', 'little', 'admitted'],\n",
       " ['three'],\n",
       " ['ned', 'frowned'],\n",
       " ['must', 'learn', 'face', 'fears'],\n",
       " ['three', 'forever'],\n",
       " ['winter', 'coming'],\n",
       " ['yes', 'catelyn', 'agreed'],\n",
       " ['words', 'gave', 'chill', 'always'],\n",
       " ['stark', 'words'],\n",
       " ['every', 'noble', 'house', 'words'],\n",
       " ['family',\n",
       "  'mottoes',\n",
       "  'touchstones',\n",
       "  'prayers',\n",
       "  'sorts',\n",
       "  'boasted',\n",
       "  'honor',\n",
       "  'glory',\n",
       "  'promised',\n",
       "  'loyalty',\n",
       "  'truth',\n",
       "  'swore',\n",
       "  'faith',\n",
       "  'courage'],\n",
       " ['starks'],\n",
       " ['winter', 'coming', 'said', 'stark', 'words'],\n",
       " ['first', 'time', 'reflected', 'strange', 'people', 'northerners'],\n",
       " ['man', 'died', 'well', 'give', 'ned', 'said'],\n",
       " ['swatch', 'oiled', 'leather', 'one', 'hand'],\n",
       " ['ran',\n",
       "  'lightly',\n",
       "  'greatsword',\n",
       "  'spoke',\n",
       "  'polishing',\n",
       "  'metal',\n",
       "  'dark',\n",
       "  'glow'],\n",
       " ['glad', 'bran', 'sake'],\n",
       " ['would', 'proud', 'bran'],\n",
       " ['always',\n",
       "  'proud',\n",
       "  'bran',\n",
       "  'catelyn',\n",
       "  'replied',\n",
       "  'watching',\n",
       "  'sword',\n",
       "  'stroked'],\n",
       " ['could',\n",
       "  'see',\n",
       "  'rippling',\n",
       "  'deep',\n",
       "  'within',\n",
       "  'steel',\n",
       "  'metal',\n",
       "  'folded',\n",
       "  'back',\n",
       "  'hundred',\n",
       "  'times',\n",
       "  'forging'],\n",
       " ['catelyn', 'love', 'swords', 'could', 'deny', 'ice', 'beauty'],\n",
       " ['forged',\n",
       "  'valyria',\n",
       "  'doom',\n",
       "  'come',\n",
       "  'old',\n",
       "  'freehold',\n",
       "  'ironsmiths',\n",
       "  'worked',\n",
       "  'metal',\n",
       "  'spells',\n",
       "  'well',\n",
       "  'hammers'],\n",
       " ['four', 'hundred', 'years', 'old', 'sharp', 'day', 'forged'],\n",
       " ['name',\n",
       "  'bore',\n",
       "  'older',\n",
       "  'still',\n",
       "  'legacy',\n",
       "  'age',\n",
       "  'heroes',\n",
       "  'starks',\n",
       "  'kings',\n",
       "  'north'],\n",
       " ['fourth', 'year', 'ned', 'said', 'grimly'],\n",
       " ['poor', 'man', 'half', 'mad'],\n",
       " ['something', 'put', 'fear', 'deep', 'words', 'could', 'reach'],\n",
       " ['sighed'],\n",
       " ['ben', 'writes', 'strength', 'night', 'watch', 'thousand'],\n",
       " ['desertions'],\n",
       " ['losing', 'men', 'rangings', 'well'],\n",
       " ['wildlings'],\n",
       " ['asked'],\n",
       " ['else'],\n",
       " ['ned', 'lifted', 'ice', 'looked', 'cool', 'steel', 'length'],\n",
       " ['grow', 'worse'],\n",
       " ['day',\n",
       "  'may',\n",
       "  'come',\n",
       "  'choice',\n",
       "  'call',\n",
       "  'banners',\n",
       "  'ride',\n",
       "  'north',\n",
       "  'deal',\n",
       "  'kingbeyond',\n",
       "  'wall',\n",
       "  'good'],\n",
       " ['beyond', 'wall'],\n",
       " ['thought', 'made', 'catelyn', 'shudder'],\n",
       " ['ned', 'saw', 'dread', 'face'],\n",
       " ['mance', 'rayder', 'nothing', 'us', 'fear'],\n",
       " ['darker', 'things', 'beyond', 'wall'],\n",
       " ['glanced',\n",
       "  'behind',\n",
       "  'heart',\n",
       "  'tree',\n",
       "  'pale',\n",
       "  'bark',\n",
       "  'red',\n",
       "  'eyes',\n",
       "  'watching',\n",
       "  'listening',\n",
       "  'thinking',\n",
       "  'long',\n",
       "  'slow',\n",
       "  'thoughts'],\n",
       " ['smile', 'gentle'],\n",
       " ['listen', 'many', 'old', 'nan', 'stories'],\n",
       " ['others',\n",
       "  'dead',\n",
       "  'children',\n",
       "  'forest',\n",
       "  'gone',\n",
       "  'eight',\n",
       "  'thousand',\n",
       "  'years'],\n",
       " ['maester', 'luwin', 'tell', 'never', 'lived'],\n",
       " ['living', 'man', 'ever', 'seen', 'one'],\n",
       " ['morning',\n",
       "  'living',\n",
       "  'man',\n",
       "  'ever',\n",
       "  'seen',\n",
       "  'direwolf',\n",
       "  'either',\n",
       "  'catelyn',\n",
       "  'reminded'],\n",
       " ['ought', 'know', 'better', 'argue', 'tully', 'said', 'rueful', 'smile'],\n",
       " ['slid', 'ice', 'back', 'sheath'],\n",
       " ['come', 'tell', 'crib', 'tales'],\n",
       " ['know', 'little', 'like', 'place'],\n",
       " ['lady'],\n",
       " ['catelyn', 'took', 'husband', 'hand'],\n",
       " ['grievous', 'news', 'today', 'lord'],\n",
       " ['wish', 'trouble', 'cleansed'],\n",
       " ['way', 'soften', 'blow', 'told', 'straight'],\n",
       " ['page', 'sorry', 'love'],\n",
       " ['jon', 'arryn', 'dead'],\n",
       " ['eyes', 'found', 'could', 'see', 'hard', 'took', 'known', 'would'],\n",
       " ['youth',\n",
       "  'ned',\n",
       "  'fostered',\n",
       "  'eyrie',\n",
       "  'childless',\n",
       "  'lord',\n",
       "  'arryn',\n",
       "  'become',\n",
       "  'second',\n",
       "  'father',\n",
       "  'fellow',\n",
       "  'ward',\n",
       "  'robert',\n",
       "  'baratheon'],\n",
       " ['mad',\n",
       "  'king',\n",
       "  'aerys',\n",
       "  'targaryen',\n",
       "  'demanded',\n",
       "  'heads',\n",
       "  'lord',\n",
       "  'eyrie',\n",
       "  'raised',\n",
       "  'moon',\n",
       "  'falcon',\n",
       "  'banners',\n",
       "  'revolt',\n",
       "  'rather',\n",
       "  'give',\n",
       "  'pledged',\n",
       "  'protect'],\n",
       " ['one',\n",
       "  'day',\n",
       "  'fifteen',\n",
       "  'years',\n",
       "  'ago',\n",
       "  'second',\n",
       "  'father',\n",
       "  'become',\n",
       "  'brother',\n",
       "  'well',\n",
       "  'ned',\n",
       "  'stood',\n",
       "  'together',\n",
       "  'sept',\n",
       "  'riverrun',\n",
       "  'wed',\n",
       "  'two',\n",
       "  'sisters',\n",
       "  'daughters',\n",
       "  'lord',\n",
       "  'hoster',\n",
       "  'tully'],\n",
       " ['jon'],\n",
       " [],\n",
       " [],\n",
       " ['said'],\n",
       " ['news', 'certain'],\n",
       " ['king', 'seal', 'letter', 'robert', 'hand'],\n",
       " ['saved'],\n",
       " ['said', 'lord', 'arryn', 'taken', 'quickly'],\n",
       " ['even',\n",
       "  'maester',\n",
       "  'pycelle',\n",
       "  'helpless',\n",
       "  'brought',\n",
       "  'milk',\n",
       "  'poppy',\n",
       "  'jon',\n",
       "  'linger',\n",
       "  'long',\n",
       "  'pain'],\n",
       " ['small', 'mercy', 'suppose', 'said'],\n",
       " ['could', 'see', 'grief', 'face', 'even', 'thought', 'first'],\n",
       " ['sister', 'said'],\n",
       " ['jon', 'boy'],\n",
       " ['word'],\n",
       " ['message', 'said', 'well', 'returned', 'eyrie', 'catelyn', 'said'],\n",
       " ['wish', 'gone', 'riverrun', 'instead'],\n",
       " ['eyrie', 'high', 'lonely', 'ever', 'husband', 'place'],\n",
       " ['lord', 'jon', 'memory', 'haunt', 'stone'],\n",
       " ['know', 'sister'],\n",
       " ['needs', 'comfort', 'family', 'friends', 'around'],\n",
       " ['uncle', 'waits', 'vale'],\n",
       " ['jon', 'named', 'knight', 'gate', 'heard'],\n",
       " ['catelyn', 'nodded'],\n",
       " ['brynden', 'boy'],\n",
       " ['comfort', 'still'],\n",
       " [],\n",
       " [],\n",
       " ['go', 'ned', 'urged'],\n",
       " ['take', 'children'],\n",
       " ['fill', 'halls', 'noise', 'shouts', 'laughter'],\n",
       " ['boy', 'needs', 'children', 'lysa', 'alone', 'grief'],\n",
       " ['would', 'could', 'catelyn', 'said'],\n",
       " ['letter', 'tidings'],\n",
       " ['king', 'riding', 'winterfell', 'seek'],\n",
       " ['took',\n",
       "  'ned',\n",
       "  'moment',\n",
       "  'comprehend',\n",
       "  'words',\n",
       "  'understanding',\n",
       "  'came',\n",
       "  'darkness',\n",
       "  'left',\n",
       "  'eyes'],\n",
       " ['robert', 'coming'],\n",
       " ['nodded', 'smile', 'broke', 'across', 'face'],\n",
       " ['catelyn', 'wished', 'could', 'share', 'joy'],\n",
       " ['heard',\n",
       "  'talk',\n",
       "  'yards',\n",
       "  'direwolf',\n",
       "  'dead',\n",
       "  'snow',\n",
       "  'broken',\n",
       "  'antler',\n",
       "  'throat'],\n",
       " ['dread',\n",
       "  'coiled',\n",
       "  'within',\n",
       "  'like',\n",
       "  'snake',\n",
       "  'forced',\n",
       "  'smile',\n",
       "  'man',\n",
       "  'loved',\n",
       "  'man',\n",
       "  'put',\n",
       "  'faith',\n",
       "  'signs'],\n",
       " ['knew', 'would', 'please', 'said'],\n",
       " ['send', 'word', 'brother', 'wall'],\n",
       " ['yes', 'course', 'agreed'],\n",
       " ['ben', 'want'],\n",
       " ['shall', 'tell', 'maester', 'luwin', 'send', 'swiftest', 'bird'],\n",
       " ['ned', 'rose', 'pulled', 'feet'],\n",
       " ['damnation', 'many', 'years'],\n",
       " ['gives', 'us', 'notice'],\n",
       " ['many', 'party', 'message', 'say'],\n",
       " ['think',\n",
       "  'hundred',\n",
       "  'knights',\n",
       "  'least',\n",
       "  'retainers',\n",
       "  'half',\n",
       "  'many',\n",
       "  'freeriders'],\n",
       " ['page', 'cersei', 'children', 'travel'],\n",
       " ['robert', 'keep', 'easy', 'pace', 'sakes', 'said'],\n",
       " ['well'],\n",
       " ['give', 'us', 'time', 'prepare'],\n",
       " ['queen', 'brothers', 'also', 'party', 'told'],\n",
       " ['ned', 'grimaced'],\n",
       " ['small', 'love', 'queen', 'family', 'catelyn', 'knew'],\n",
       " ['lannisters',\n",
       "  'casterly',\n",
       "  'rock',\n",
       "  'come',\n",
       "  'late',\n",
       "  'robert',\n",
       "  'cause',\n",
       "  'victory',\n",
       "  'certain',\n",
       "  'never',\n",
       "  'forgiven'],\n",
       " ['well', 'price', 'robert', 'company', 'infestation', 'lannisters'],\n",
       " ['sounds', 'though', 'robert', 'bringing', 'half', 'court'],\n",
       " ['king', 'goes', 'realm', 'follows', 'said'],\n",
       " ['good', 'see', 'children'],\n",
       " ['youngest',\n",
       "  'still',\n",
       "  'sucking',\n",
       "  'lannister',\n",
       "  'woman',\n",
       "  'teat',\n",
       "  'last',\n",
       "  'time',\n",
       "  'saw'],\n",
       " ['must', 'five'],\n",
       " ['prince', 'tornmen', 'seven', 'told'],\n",
       " ['age', 'bran'],\n",
       " ['please', 'ned', 'guard', 'tongue'],\n",
       " ['lannister',\n",
       "  'woman',\n",
       "  'queen',\n",
       "  'pride',\n",
       "  'said',\n",
       "  'grow',\n",
       "  'every',\n",
       "  'passing',\n",
       "  'year'],\n",
       " ['ned', 'squeezed', 'hand'],\n",
       " ['must', 'feast', 'course', 'singers', 'robert', 'want', 'hunt'],\n",
       " ['shall',\n",
       "  'send',\n",
       "  'jory',\n",
       "  'south',\n",
       "  'honor',\n",
       "  'guard',\n",
       "  'meet',\n",
       "  'kingsroad',\n",
       "  'escort',\n",
       "  'back'],\n",
       " ['gods', 'going', 'feed'],\n",
       " ['way', 'already', 'said'],\n",
       " ['damn', 'man'],\n",
       " ['damn', 'royal', 'hide'],\n",
       " ['daenerys', 'brother', 'held', 'gown', 'inspection'],\n",
       " ['beauty'],\n",
       " ['touch'],\n",
       " ['go'],\n",
       " ['caress', 'fabric'],\n",
       " ['dany', 'touched'],\n",
       " ['cloth', 'smooth', 'seemed', 'run', 'fingers', 'like', 'water'],\n",
       " ['could', 'remember', 'ever', 'wearing', 'anything', 'soft'],\n",
       " ['frightened'],\n",
       " ['pulled', 'hand', 'away'],\n",
       " ['really', 'mine'],\n",
       " ['gift', 'magister', 'illyrio', 'viserys', 'said', 'smiling'],\n",
       " ['brother', 'high', 'mood', 'tonight'],\n",
       " ['color', 'bring', 'violet', 'eyes'],\n",
       " ['shall', 'gold', 'well', 'jewels', 'sorts'],\n",
       " ['illyrio', 'promised'],\n",
       " ['tonight', 'must', 'look', 'like', 'princess'],\n",
       " ['princess', 'dany', 'thought'],\n",
       " ['forgotten', 'like'],\n",
       " ['perhaps', 'never', 'really', 'known'],\n",
       " ['give', 'us', 'much'],\n",
       " ['asked'],\n",
       " ['want', 'us'],\n",
       " ['nigh',\n",
       "  'half',\n",
       "  'year',\n",
       "  'lived',\n",
       "  'magister',\n",
       "  'house',\n",
       "  'eating',\n",
       "  'food',\n",
       "  'pampered',\n",
       "  'servants'],\n",
       " ['dany',\n",
       "  'thirteen',\n",
       "  'old',\n",
       "  'enough',\n",
       "  'know',\n",
       "  'gifts',\n",
       "  'seldom',\n",
       "  'come',\n",
       "  'without',\n",
       "  'price',\n",
       "  'free',\n",
       "  'city',\n",
       "  'pentos'],\n",
       " ['illyrio', 'fool', 'viserys', 'said'],\n",
       " ['gaunt',\n",
       "  'young',\n",
       "  'man',\n",
       "  'nervous',\n",
       "  'hands',\n",
       "  'feverish',\n",
       "  'look',\n",
       "  'pale',\n",
       "  'lilac',\n",
       "  'eyes'],\n",
       " ['magister', 'knows', 'forget', 'friends', 'come', 'throne'],\n",
       " ['dany', 'said', 'nothing'],\n",
       " ['magister',\n",
       "  'illyrio',\n",
       "  'dealer',\n",
       "  'spices',\n",
       "  'gemstones',\n",
       "  'dragonbone',\n",
       "  'less',\n",
       "  'savory',\n",
       "  'things'],\n",
       " ['friends',\n",
       "  'nine',\n",
       "  'free',\n",
       "  'cities',\n",
       "  'said',\n",
       "  'even',\n",
       "  'beyond',\n",
       "  'vaes',\n",
       "  'dothrak',\n",
       "  'fabled',\n",
       "  'lands',\n",
       "  'beside',\n",
       "  'jade',\n",
       "  'sea'],\n",
       " ['also',\n",
       "  'said',\n",
       "  'never',\n",
       "  'friend',\n",
       "  'page',\n",
       "  'cheerfully',\n",
       "  'sell',\n",
       "  'right',\n",
       "  'price'],\n",
       " ['dany',\n",
       "  'listened',\n",
       "  'talk',\n",
       "  'streets',\n",
       "  'heard',\n",
       "  'things',\n",
       "  'knew',\n",
       "  'better',\n",
       "  'question',\n",
       "  'brother',\n",
       "  'wove',\n",
       "  'webs',\n",
       "  'dream'],\n",
       " ['anger', 'terrible', 'thing', 'roused'],\n",
       " ['viserys', 'called', 'waking', 'dragon'],\n",
       " ['brother', 'hung', 'gown', 'beside', 'door'],\n",
       " ['illyrio', 'send', 'slaves', 'bathe'],\n",
       " ['sure', 'wash', 'stink', 'stables'],\n",
       " ['khal',\n",
       "  'drogo',\n",
       "  'thousand',\n",
       "  'horses',\n",
       "  'tonight',\n",
       "  'looks',\n",
       "  'different',\n",
       "  'sort',\n",
       "  'mount'],\n",
       " ['studied', 'critically'],\n",
       " ['still', 'slouch'],\n",
       " ['straighten', 'pushed', 'back', 'shoulders', 'hands'],\n",
       " ['let', 'see', 'woman', 'shape'],\n",
       " ['fingers',\n",
       "  'brushed',\n",
       "  'lightly',\n",
       "  'budding',\n",
       "  'breasts',\n",
       "  'tightened',\n",
       "  'nipple'],\n",
       " ['fail', 'tonight'],\n",
       " ['go', 'hard'],\n",
       " ['want', 'wake', 'dragon'],\n",
       " ['fingers',\n",
       "  'twisted',\n",
       "  'pinch',\n",
       "  'cruelly',\n",
       "  'hard',\n",
       "  'rough',\n",
       "  'fabric',\n",
       "  'tunic'],\n",
       " [],\n",
       " ['repeated'],\n",
       " ['dany', 'said', 'meekly'],\n",
       " ['brother', 'smiled'],\n",
       " ['good'],\n",
       " ['touched', 'hair', 'almost', 'affection'],\n",
       " ['write', 'history', 'reign', 'sweet', 'sister', 'say', 'began', 'tonight'],\n",
       " ['gone', 'dany', 'went', 'window', 'looked', 'wistfully', 'waters', 'bay'],\n",
       " ['square',\n",
       "  'brick',\n",
       "  'towers',\n",
       "  'pentos',\n",
       "  'black',\n",
       "  'silhouettes',\n",
       "  'outlined',\n",
       "  'setting',\n",
       "  'sun'],\n",
       " ['dany',\n",
       "  'could',\n",
       "  'hear',\n",
       "  'singing',\n",
       "  'red',\n",
       "  'priests',\n",
       "  'lit',\n",
       "  'night',\n",
       "  'fires',\n",
       "  'shouts',\n",
       "  'ragged',\n",
       "  'children',\n",
       "  'playing',\n",
       "  'games',\n",
       "  'beyond',\n",
       "  'walls',\n",
       "  'estate'],\n",
       " ['moment',\n",
       "  'wished',\n",
       "  'could',\n",
       "  'barefoot',\n",
       "  'breathless',\n",
       "  'dressed',\n",
       "  'tatters',\n",
       "  'past',\n",
       "  'future',\n",
       "  'feast',\n",
       "  'attend',\n",
       "  'khal',\n",
       "  'drogo',\n",
       "  'manse'],\n",
       " ['somewhere',\n",
       "  'beyond',\n",
       "  'sunset',\n",
       "  'across',\n",
       "  'narrow',\n",
       "  'sea',\n",
       "  'lay',\n",
       "  'land',\n",
       "  'green',\n",
       "  'hills',\n",
       "  'flowered',\n",
       "  'plains',\n",
       "  'great',\n",
       "  'rushing',\n",
       "  'rivers',\n",
       "  'towers',\n",
       "  'dark',\n",
       "  'stone',\n",
       "  'rose',\n",
       "  'amidst',\n",
       "  'magnificent',\n",
       "  'blue',\n",
       "  'grey',\n",
       "  'mountains',\n",
       "  'armored',\n",
       "  'knights',\n",
       "  'rode',\n",
       "  'battle',\n",
       "  'beneath',\n",
       "  'banners',\n",
       "  'lords'],\n",
       " ['dothraki', 'called', 'land', 'rhaesh', 'andahli', 'land', 'andals'],\n",
       " ['free', 'cities', 'talked', 'westeros', 'sunset', 'kingdoms'],\n",
       " ['brother', 'simpler', 'name'],\n",
       " ['land', 'called'],\n",
       " ['words', 'like', 'prayer'],\n",
       " ['said', 'enough', 'gods', 'sure', 'hear'],\n",
       " ['blood', 'right', 'taken', 'us', 'treachery', 'still', 'forever'],\n",
       " ['steal', 'dragon', 'oh'],\n",
       " ['dragon', 'remembers'],\n",
       " ['perhaps', 'dragon', 'remember', 'dany', 'could'],\n",
       " ['never',\n",
       "  'seen',\n",
       "  'land',\n",
       "  'brother',\n",
       "  'said',\n",
       "  'realm',\n",
       "  'beyond',\n",
       "  'narrow',\n",
       "  'sea'],\n",
       " ['places',\n",
       "  'talked',\n",
       "  'casterly',\n",
       "  'rock',\n",
       "  'eyrie',\n",
       "  'highgarden',\n",
       "  'vale',\n",
       "  'arryn',\n",
       "  'dorne',\n",
       "  'isle',\n",
       "  'faces',\n",
       "  'words'],\n",
       " ['viserys',\n",
       "  'boy',\n",
       "  'eight',\n",
       "  'fled',\n",
       "  'king',\n",
       "  'landing',\n",
       "  'escape',\n",
       "  'advancing',\n",
       "  'armies',\n",
       "  'usurper',\n",
       "  'daenerys',\n",
       "  'quickening',\n",
       "  'mother',\n",
       "  'womb'],\n",
       " ['yet',\n",
       "  'sometimes',\n",
       "  'dany',\n",
       "  'would',\n",
       "  'picture',\n",
       "  'way',\n",
       "  'often',\n",
       "  'brother',\n",
       "  'told',\n",
       "  'stories'],\n",
       " ['midnight',\n",
       "  'flight',\n",
       "  'dragonstone',\n",
       "  'moonlight',\n",
       "  'shimmering',\n",
       "  'ship',\n",
       "  'black',\n",
       "  'sails'],\n",
       " ['brother',\n",
       "  'rhaegar',\n",
       "  'battling',\n",
       "  'usurper',\n",
       "  'bloody',\n",
       "  'waters',\n",
       "  'trident',\n",
       "  'dying',\n",
       "  'woman',\n",
       "  'loved'],\n",
       " ['sack',\n",
       "  'king',\n",
       "  'landing',\n",
       "  'ones',\n",
       "  'viserys',\n",
       "  'called',\n",
       "  'usurper',\n",
       "  'dogs',\n",
       "  'lords',\n",
       "  'lannister',\n",
       "  'stark'],\n",
       " ['princess',\n",
       "  'elia',\n",
       "  'dorne',\n",
       "  'pleading',\n",
       "  'mercy',\n",
       "  'rhaegar',\n",
       "  'heir',\n",
       "  'ripped',\n",
       "  'breast',\n",
       "  'murdered',\n",
       "  'eyes'],\n",
       " ['polished',\n",
       "  'skulls',\n",
       "  'last',\n",
       "  'dragons',\n",
       "  'staring',\n",
       "  'sightlessly',\n",
       "  'walls',\n",
       "  'throne',\n",
       "  'room',\n",
       "  'kingslayer',\n",
       "  'opened',\n",
       "  'father',\n",
       "  'throat',\n",
       "  'golden',\n",
       "  'sword'],\n",
       " ['born',\n",
       "  'dragonstone',\n",
       "  'nine',\n",
       "  'moons',\n",
       "  'flight',\n",
       "  'raging',\n",
       "  'summer',\n",
       "  'storm',\n",
       "  'threatened',\n",
       "  'rip',\n",
       "  'island',\n",
       "  'fastness',\n",
       "  'apart'],\n",
       " ['said', 'storm', 'terrible'],\n",
       " ['targaryen',\n",
       "  'fleet',\n",
       "  'smashed',\n",
       "  'lay',\n",
       "  'anchor',\n",
       "  'huge',\n",
       "  'stone',\n",
       "  'blocks',\n",
       "  'ripped',\n",
       "  'parapets',\n",
       "  'sent',\n",
       "  'hurtling',\n",
       "  'wild',\n",
       "  'waters',\n",
       "  'narrow',\n",
       "  'sea'],\n",
       " ['mother',\n",
       "  'died',\n",
       "  'birthing',\n",
       "  'brother',\n",
       "  'viserys',\n",
       "  'never',\n",
       "  'page',\n",
       "  'forgiven'],\n",
       " ['remember', 'dragonstone', 'either'],\n",
       " ['run', 'usurper', 'brother', 'set', 'sail', 'new', 'built', 'fleet'],\n",
       " ['dragonstone', 'ancient', 'seat', 'house', 'remained', 'seven', 'kingdoms'],\n",
       " ['would', 'remain', 'long'],\n",
       " ['garrison',\n",
       "  'prepared',\n",
       "  'sell',\n",
       "  'usurper',\n",
       "  'one',\n",
       "  'night',\n",
       "  'ser',\n",
       "  'willem',\n",
       "  'darry',\n",
       "  'four',\n",
       "  'loyal',\n",
       "  'men',\n",
       "  'broken',\n",
       "  'nursery',\n",
       "  'stolen',\n",
       "  'along',\n",
       "  'wet',\n",
       "  'nurse',\n",
       "  'set',\n",
       "  'sail',\n",
       "  'cover',\n",
       "  'darkness',\n",
       "  'safety',\n",
       "  'braavosian',\n",
       "  'coast'],\n",
       " ['remembered',\n",
       "  'ser',\n",
       "  'willem',\n",
       "  'dimly',\n",
       "  'great',\n",
       "  'grey',\n",
       "  'bear',\n",
       "  'man',\n",
       "  'halfblind',\n",
       "  'roaring',\n",
       "  'bellowing',\n",
       "  'orders',\n",
       "  'sickbed'],\n",
       " ['servants', 'lived', 'terror', 'always', 'kind', 'dany'],\n",
       " ['called',\n",
       "  'little',\n",
       "  'princess',\n",
       "  'sometimes',\n",
       "  'lady',\n",
       "  'hands',\n",
       "  'soft',\n",
       "  'old',\n",
       "  'leather'],\n",
       " ['never',\n",
       "  'left',\n",
       "  'bed',\n",
       "  'though',\n",
       "  'smell',\n",
       "  'sickness',\n",
       "  'clung',\n",
       "  'day',\n",
       "  'night',\n",
       "  'hot',\n",
       "  'moist',\n",
       "  'sickly',\n",
       "  'sweet',\n",
       "  'odor'],\n",
       " ['lived', 'braavos', 'big', 'house', 'red', 'door'],\n",
       " ['dany', 'room', 'lemon', 'tree', 'outside', 'window'],\n",
       " ['ser',\n",
       "  'willem',\n",
       "  'died',\n",
       "  'servants',\n",
       "  'stolen',\n",
       "  'little',\n",
       "  'money',\n",
       "  'left',\n",
       "  'soon',\n",
       "  'put',\n",
       "  'big',\n",
       "  'house'],\n",
       " ['dany', 'cried', 'red', 'door', 'closed', 'behind', 'forever'],\n",
       " ['wandered',\n",
       "  'since',\n",
       "  'braavos',\n",
       "  'myr',\n",
       "  'myr',\n",
       "  'tyrosh',\n",
       "  'qohor',\n",
       "  'volantis',\n",
       "  'lys',\n",
       "  'never',\n",
       "  'staying',\n",
       "  'long',\n",
       "  'one',\n",
       "  'place'],\n",
       " ['brother', 'would', 'allow'],\n",
       " ['usurper',\n",
       "  'hired',\n",
       "  'knives',\n",
       "  'close',\n",
       "  'behind',\n",
       "  'insisted',\n",
       "  'though',\n",
       "  'dany',\n",
       "  'never',\n",
       "  'seen',\n",
       "  'one'],\n",
       " ['first',\n",
       "  'magisters',\n",
       "  'archons',\n",
       "  'merchant',\n",
       "  'princes',\n",
       "  'pleased',\n",
       "  'welcome',\n",
       "  'last',\n",
       "  'targaryens',\n",
       "  'homes',\n",
       "  'tables',\n",
       "  'years',\n",
       "  'passed',\n",
       "  'usurper',\n",
       "  'continued',\n",
       "  'sit',\n",
       "  'upon',\n",
       "  'iron',\n",
       "  'throne',\n",
       "  'doors',\n",
       "  'closed',\n",
       "  'lives',\n",
       "  'grew',\n",
       "  'meaner'],\n",
       " ['years',\n",
       "  'past',\n",
       "  'forced',\n",
       "  'sell',\n",
       "  'last',\n",
       "  'treasures',\n",
       "  'even',\n",
       "  'coin',\n",
       "  'gotten',\n",
       "  'mother',\n",
       "  'crown',\n",
       "  'gone'],\n",
       " ['alleys', 'wine', 'sinks', 'pentos', 'called', 'brother', 'beggar', 'king'],\n",
       " ['dany', 'want', 'know', 'called'],\n",
       " ['back', 'someday', 'sweet', 'sister', 'would', 'promise'],\n",
       " ['sometimes', 'hands', 'shook', 'talked'],\n",
       " ['jewels',\n",
       "  'silks',\n",
       "  'dragonstone',\n",
       "  'king',\n",
       "  'landing',\n",
       "  'iron',\n",
       "  'throne',\n",
       "  'seven',\n",
       "  'kingdoms',\n",
       "  'taken',\n",
       "  'us',\n",
       "  'back'],\n",
       " ['viserys', 'lived', 'day'],\n",
       " ['daenerys',\n",
       "  'wanted',\n",
       "  'back',\n",
       "  'big',\n",
       "  'house',\n",
       "  'red',\n",
       "  'door',\n",
       "  'lemon',\n",
       "  'tree',\n",
       "  'outside',\n",
       "  'window',\n",
       "  'childhood',\n",
       "  'never',\n",
       "  'known'],\n",
       " ['came', 'soft', 'knock', 'door'],\n",
       " ['come', 'dany', 'said', 'turning', 'away', 'window'],\n",
       " ['illyrio', 'servants', 'entered', 'bowed', 'set', 'business'],\n",
       " ['slaves', 'gift', 'one', 'magister', 'many', 'dothraki', 'friends'],\n",
       " ['slavery', 'free', 'city', 'pentos'],\n",
       " ['nonetheless', 'slaves'],\n",
       " ['old',\n",
       "  'woman',\n",
       "  'small',\n",
       "  'grey',\n",
       "  'mouse',\n",
       "  'never',\n",
       "  'said',\n",
       "  'word',\n",
       "  'girl',\n",
       "  'made'],\n",
       " ['illyrio',\n",
       "  'favorite',\n",
       "  'fair',\n",
       "  'haired',\n",
       "  'blue',\n",
       "  'eyed',\n",
       "  'wench',\n",
       "  'sixteen',\n",
       "  'chattered',\n",
       "  'constantly',\n",
       "  'worked'],\n",
       " ['filled',\n",
       "  'bath',\n",
       "  'hot',\n",
       "  'water',\n",
       "  'brought',\n",
       "  'kitchen',\n",
       "  'scented',\n",
       "  'fragrant',\n",
       "  'oils'],\n",
       " ['girl',\n",
       "  'pulled',\n",
       "  'rough',\n",
       "  'cotton',\n",
       "  'tunic',\n",
       "  'dany',\n",
       "  'head',\n",
       "  'helped',\n",
       "  'tub'],\n",
       " ['water', 'scalding', 'hot', 'daenerys', 'flinch', 'cry'],\n",
       " ['liked', 'heat'],\n",
       " ['made', 'feel', 'clean'],\n",
       " ['besides', 'brother', 'often', 'told', 'never', 'hot', 'targaryen'],\n",
       " ['house', 'dragon', 'would', 'say'],\n",
       " ['fire', 'blood'],\n",
       " ['old',\n",
       "  'woman',\n",
       "  'washed',\n",
       "  'long',\n",
       "  'silver',\n",
       "  'pale',\n",
       "  'hair',\n",
       "  'gently',\n",
       "  'combed',\n",
       "  'snags',\n",
       "  'silence'],\n",
       " ['girl', 'scrubbed', 'back', 'feet', 'told', 'lucky'],\n",
       " ['drogo', 'rich', 'even', 'slaves', 'page', 'wear', 'golden', 'collars'],\n",
       " ['hundred',\n",
       "  'thousand',\n",
       "  'men',\n",
       "  'ride',\n",
       "  'khalasar',\n",
       "  'palace',\n",
       "  'vaes',\n",
       "  'dothrak',\n",
       "  'two',\n",
       "  'hundred',\n",
       "  'rooms',\n",
       "  'doors',\n",
       "  'solid',\n",
       "  'silver'],\n",
       " ['like',\n",
       "  'much',\n",
       "  'handsome',\n",
       "  'man',\n",
       "  'khal',\n",
       "  'tall',\n",
       "  'fierce',\n",
       "  'fearless',\n",
       "  'battle',\n",
       "  'best',\n",
       "  'rider',\n",
       "  'ever',\n",
       "  'mount',\n",
       "  'horse',\n",
       "  'demon',\n",
       "  'archer'],\n",
       " ['daenerys', 'said', 'nothing'],\n",
       " ...]"
      ]
     },
     "execution_count": 54,
     "metadata": {},
     "output_type": "execute_result"
    }
   ],
   "source": [
    "# story"
   ]
  },
  {
   "cell_type": "code",
   "execution_count": 55,
   "id": "b7e52c17",
   "metadata": {},
   "outputs": [
    {
     "data": {
      "text/plain": [
       "145020"
      ]
     },
     "execution_count": 55,
     "metadata": {},
     "output_type": "execute_result"
    }
   ],
   "source": [
    "len(story)"
   ]
  },
  {
   "cell_type": "code",
   "execution_count": 56,
   "id": "684a7371",
   "metadata": {},
   "outputs": [],
   "source": [
    "# Build model of Word2Vec\n",
    "# window=10 - Prediction of the center word , we will take 10 words on both sides\n",
    "# min_count=2 - Consider only those sentences having min words 2\n",
    "# vector_size=100 - Output vector will be of 100 size\n",
    "model=gensim.models.Word2Vec(window=10,min_count=2,vector_size=100)"
   ]
  },
  {
   "cell_type": "code",
   "execution_count": 57,
   "id": "f65c7e66",
   "metadata": {},
   "outputs": [],
   "source": [
    "# Build vocabulary\n",
    "model.build_vocab(story)"
   ]
  },
  {
   "cell_type": "code",
   "execution_count": 58,
   "id": "b754d093",
   "metadata": {},
   "outputs": [
    {
     "data": {
      "text/plain": [
       "(8793482, 9158780)"
      ]
     },
     "execution_count": 58,
     "metadata": {},
     "output_type": "execute_result"
    }
   ],
   "source": [
    "# Train Word2Vec Model\n",
    "# total_examples - total sentences in entire corpus \n",
    "# default epoch value = 5\n",
    "model.train(story,total_examples=model.corpus_count,epochs=10)"
   ]
  },
  {
   "cell_type": "code",
   "execution_count": 59,
   "id": "0eddfe9c",
   "metadata": {},
   "outputs": [
    {
     "data": {
      "text/plain": [
       "[('stormborn', 0.7756974101066589),\n",
       " ('targaryen', 0.700783371925354),\n",
       " ('unburnt', 0.6816129088401794),\n",
       " ('viserys', 0.666019856929779),\n",
       " ('khaleesi', 0.6480692028999329),\n",
       " ('dragons', 0.6364665031433105),\n",
       " ('daeren', 0.6316629648208618),\n",
       " ('rhaenyra', 0.6113056540489197),\n",
       " ('mopatis', 0.5922295451164246),\n",
       " ('westeros', 0.58445805311203)]"
      ]
     },
     "execution_count": 59,
     "metadata": {},
     "output_type": "execute_result"
    }
   ],
   "source": [
    "# Access the Word2Vec model\n",
    "model.wv.most_similar('daenerys')"
   ]
  },
  {
   "cell_type": "code",
   "execution_count": 60,
   "id": "c775cde6",
   "metadata": {},
   "outputs": [
    {
     "data": {
      "text/plain": [
       "'bronn'"
      ]
     },
     "execution_count": 60,
     "metadata": {},
     "output_type": "execute_result"
    }
   ],
   "source": [
    "model.wv.doesnt_match(['cersei','jaime','bronn','tyrion'])"
   ]
  },
  {
   "cell_type": "code",
   "execution_count": null,
   "id": "e13a4257",
   "metadata": {},
   "outputs": [
    {
     "data": {
      "text/plain": [
       "array([-2.5112548 ,  0.4600891 ,  0.4988166 , -2.4838934 ,  1.6983575 ,\n",
       "        0.6766345 ,  0.8185756 ,  2.067059  ,  2.717477  , -1.1886122 ,\n",
       "       -1.343184  , -1.705659  , -1.7601608 , -1.4686083 , -1.6565549 ,\n",
       "       -0.87740815,  0.6824856 , -0.01354254,  1.4172392 , -1.2984072 ,\n",
       "       -0.8560548 ,  0.9390831 , -1.4615014 ,  1.0726358 ,  0.2597998 ,\n",
       "        3.1419108 , -2.583019  , -0.1137785 ,  2.2272806 ,  0.88188213,\n",
       "       -2.142783  ,  0.8317891 , -0.19870098,  1.5956751 , -1.2414681 ,\n",
       "       -1.7822517 , -0.58798563, -0.22941385,  2.1226437 , -1.131215  ,\n",
       "        0.44096908,  1.765732  , -1.2731439 ,  0.21640277, -1.4156344 ,\n",
       "       -0.24530001,  2.1831164 , -1.3863192 , -2.0258045 ,  3.104635  ,\n",
       "        1.2297355 , -1.0959475 ,  0.83742654, -2.2028062 ,  1.7565973 ,\n",
       "        0.37301537, -0.6720742 ,  2.0622015 ,  2.8192    ,  3.8875315 ,\n",
       "       -1.7865869 , -1.8827217 ,  0.6711909 , -1.6730828 ,  0.02754054,\n",
       "       -0.24873611,  0.32350513,  0.12693942,  0.9216571 ,  0.6749796 ,\n",
       "        0.48942587,  0.03457567,  2.431219  , -0.8114387 , -0.08337649,\n",
       "       -0.1413267 ,  0.64450806, -0.7878544 , -1.5229998 ,  0.17290035,\n",
       "       -1.7119803 ,  2.459808  ,  1.4213297 ,  1.27085   , -0.6677113 ,\n",
       "        0.31797242,  0.27139428, -2.0682783 ,  0.05163591,  2.627925  ,\n",
       "        0.7666354 ,  1.5217193 , -0.03019704, -0.35213357,  0.8219073 ,\n",
       "        0.8048914 ,  1.9601047 ,  1.752325  ,  3.1002095 ,  0.34027138],\n",
       "      dtype=float32)"
      ]
     },
     "execution_count": 61,
     "metadata": {},
     "output_type": "execute_result"
    }
   ],
   "source": [
    "# Vector representation of a particular word\n",
    "model.wv['jon']"
   ]
  },
  {
   "cell_type": "code",
   "execution_count": 62,
   "metadata": {},
   "outputs": [
    {
     "data": {
      "text/plain": [
       "(100,)"
      ]
     },
     "execution_count": 62,
     "metadata": {},
     "output_type": "execute_result"
    }
   ],
   "source": [
    "model.wv['jon'].shape"
   ]
  },
  {
   "cell_type": "code",
   "execution_count": 63,
   "metadata": {},
   "outputs": [
    {
     "data": {
      "text/plain": [
       "0.6436434"
      ]
     },
     "execution_count": 63,
     "metadata": {},
     "output_type": "execute_result"
    }
   ],
   "source": [
    "model.wv.similarity('arya','sansa')"
   ]
  },
  {
   "cell_type": "code",
   "execution_count": 64,
   "metadata": {},
   "outputs": [
    {
     "data": {
      "text/plain": [
       "0.6213115"
      ]
     },
     "execution_count": 64,
     "metadata": {},
     "output_type": "execute_result"
    }
   ],
   "source": [
    "model.wv.similarity('cersei','sansa')"
   ]
  },
  {
   "cell_type": "code",
   "execution_count": 65,
   "metadata": {},
   "outputs": [
    {
     "data": {
      "text/plain": [
       "0.16456902"
      ]
     },
     "execution_count": 65,
     "metadata": {},
     "output_type": "execute_result"
    }
   ],
   "source": [
    "model.wv.similarity('tywin','sansa')"
   ]
  },
  {
   "cell_type": "code",
   "execution_count": null,
   "metadata": {},
   "outputs": [
    {
     "data": {
      "text/plain": [
       "array([[ 0.08026268, -0.06578879, -0.02708855, ..., -0.07774597,\n",
       "        -0.01083509,  0.15747888],\n",
       "       [-0.10590187,  0.06565784,  0.11661842, ..., -0.08523408,\n",
       "        -0.24283846,  0.09232834],\n",
       "       [-0.02146251, -0.01814972, -0.07524002, ..., -0.08507878,\n",
       "         0.13657683, -0.09617405],\n",
       "       ...,\n",
       "       [-0.13770695,  0.0781072 ,  0.02219514, ..., -0.17091733,\n",
       "         0.03303746,  0.13578182],\n",
       "       [-0.12519415,  0.17226897, -0.00066083, ..., -0.13761088,\n",
       "         0.10569108,  0.11004826],\n",
       "       [-0.15195158,  0.05676498,  0.0818252 , ..., -0.17225283,\n",
       "         0.05772699,  0.05335206]], dtype=float32)"
      ]
     },
     "execution_count": 66,
     "metadata": {},
     "output_type": "execute_result"
    }
   ],
   "source": [
    "# Vector Representataion of all the words\n",
    "# model.wv.get_normed_vectors()"
   ]
  },
  {
   "cell_type": "code",
   "execution_count": 67,
   "metadata": {},
   "outputs": [
    {
     "data": {
      "text/plain": [
       "(17310, 100)"
      ]
     },
     "execution_count": 67,
     "metadata": {},
     "output_type": "execute_result"
    }
   ],
   "source": [
    "# Total unique words whose vector representation was created \n",
    "model.wv.get_normed_vectors().shape"
   ]
  },
  {
   "cell_type": "code",
   "execution_count": null,
   "id": "d659929f",
   "metadata": {},
   "outputs": [
    {
     "data": {
      "text/plain": [
       "['said',\n",
       " 'lord',\n",
       " 'would',\n",
       " 'one',\n",
       " 'ser',\n",
       " 'could',\n",
       " 'man',\n",
       " 'king',\n",
       " 'men',\n",
       " 'back',\n",
       " 'well',\n",
       " 'like',\n",
       " 'jon',\n",
       " 'father',\n",
       " 'old',\n",
       " 'hand',\n",
       " 'even',\n",
       " 'tyrion',\n",
       " 'never',\n",
       " 'know',\n",
       " 'see',\n",
       " 'made',\n",
       " 'eyes',\n",
       " 'black',\n",
       " 'told',\n",
       " 'lady',\n",
       " 'thought',\n",
       " 'time',\n",
       " 'long',\n",
       " 'might',\n",
       " 'us',\n",
       " 'come',\n",
       " 'face',\n",
       " 'still',\n",
       " 'head',\n",
       " 'red',\n",
       " 'way',\n",
       " 'boy',\n",
       " 'page',\n",
       " 'must',\n",
       " 'queen',\n",
       " 'good',\n",
       " 'two',\n",
       " 'brother',\n",
       " 'night',\n",
       " 'little',\n",
       " 'took',\n",
       " 'came',\n",
       " 'though',\n",
       " 'say',\n",
       " 'three',\n",
       " 'away',\n",
       " 'dead',\n",
       " 'son',\n",
       " 'blood',\n",
       " 'take',\n",
       " 'go',\n",
       " 'half',\n",
       " 'make',\n",
       " 'arya',\n",
       " 'saw',\n",
       " 'day',\n",
       " 'white',\n",
       " 'jaime',\n",
       " 'first',\n",
       " 'look',\n",
       " 'want',\n",
       " 'much',\n",
       " 'enough',\n",
       " 'sword',\n",
       " 'tell',\n",
       " 'girl',\n",
       " 'bran',\n",
       " 'great',\n",
       " 'looked',\n",
       " 'left',\n",
       " 'knew',\n",
       " 'asked',\n",
       " 'gave',\n",
       " 'maester',\n",
       " 'called',\n",
       " 'wall',\n",
       " 'every',\n",
       " 'heard',\n",
       " 'sansa',\n",
       " 'let',\n",
       " 'yet',\n",
       " 'went',\n",
       " 'turned',\n",
       " 'dany',\n",
       " 'need',\n",
       " 'behind',\n",
       " 'around',\n",
       " 'woman',\n",
       " 'another',\n",
       " 'snow',\n",
       " 'beneath',\n",
       " 'across',\n",
       " 'knight',\n",
       " 'keep',\n",
       " 'grace',\n",
       " 'found',\n",
       " 'gold',\n",
       " 'last',\n",
       " 'cersei',\n",
       " 'castle',\n",
       " 'stark',\n",
       " 'gods',\n",
       " 'think',\n",
       " 'hair',\n",
       " 'many',\n",
       " 'feet',\n",
       " 'hands',\n",
       " 'stannis',\n",
       " 'mother',\n",
       " 'catelyn',\n",
       " 'robert',\n",
       " 'seemed',\n",
       " 'prince',\n",
       " 'may',\n",
       " 'ever',\n",
       " 'robb',\n",
       " 'done',\n",
       " 'find',\n",
       " 'lannister',\n",
       " 'hear',\n",
       " 'name',\n",
       " 'grey',\n",
       " 'horse',\n",
       " 'high',\n",
       " 'put',\n",
       " 'wine',\n",
       " 'stone',\n",
       " 'hard',\n",
       " 'water',\n",
       " 'fire',\n",
       " 'upon',\n",
       " 'iron',\n",
       " 'voice',\n",
       " 'gone',\n",
       " 'give',\n",
       " 'sam',\n",
       " 'seen',\n",
       " 'better',\n",
       " 'shall',\n",
       " 'ned',\n",
       " 'always',\n",
       " 'years',\n",
       " 'dark',\n",
       " 'place',\n",
       " 'small',\n",
       " 'cold',\n",
       " 'winterfell',\n",
       " 'hundred',\n",
       " 'stood',\n",
       " 'end',\n",
       " 'sister',\n",
       " 'words',\n",
       " 'sea',\n",
       " 'right',\n",
       " 'nothing',\n",
       " 'walls',\n",
       " 'fingers',\n",
       " 'house',\n",
       " 'cloak',\n",
       " 'young',\n",
       " 'beside',\n",
       " 'get',\n",
       " 'seven',\n",
       " 'mouth',\n",
       " 'watch',\n",
       " 'door',\n",
       " 'joffrey',\n",
       " 'green',\n",
       " 'big',\n",
       " 'sent',\n",
       " 'perhaps',\n",
       " 'almost',\n",
       " 'wanted',\n",
       " 'true',\n",
       " 'daughter',\n",
       " 'leave',\n",
       " 'wind',\n",
       " 'city',\n",
       " 'light',\n",
       " 'arms',\n",
       " 'children',\n",
       " 'sweet',\n",
       " 'others',\n",
       " 'lost',\n",
       " 'theon',\n",
       " 'felt',\n",
       " 'side',\n",
       " 'yes',\n",
       " 'brothers',\n",
       " 'best',\n",
       " 'die',\n",
       " 'brought',\n",
       " 'soon',\n",
       " 'died',\n",
       " 'far',\n",
       " 'north',\n",
       " 'child',\n",
       " 'fear',\n",
       " 'along',\n",
       " 'word',\n",
       " 'brienne',\n",
       " 'taken',\n",
       " 'battle',\n",
       " 'help',\n",
       " 'new',\n",
       " 'tywin',\n",
       " 'lords',\n",
       " 'davos',\n",
       " 'something',\n",
       " 'wife',\n",
       " 'mean',\n",
       " 'hall',\n",
       " 'rest',\n",
       " 'kill',\n",
       " 'strong',\n",
       " 'steel',\n",
       " 'began',\n",
       " 'sound',\n",
       " 'dragon',\n",
       " 'past',\n",
       " 'life',\n",
       " 'tower',\n",
       " 'killed',\n",
       " 'arm',\n",
       " 'free',\n",
       " 'sons',\n",
       " 'tried',\n",
       " 'thing',\n",
       " 'bear',\n",
       " 'days',\n",
       " 'bloody',\n",
       " 'heart',\n",
       " 'pale',\n",
       " 'love',\n",
       " 'sat',\n",
       " 'moment',\n",
       " 'bring',\n",
       " 'bed',\n",
       " 'close',\n",
       " 'knights',\n",
       " 'cut',\n",
       " 'wolf',\n",
       " 'smile',\n",
       " 'death',\n",
       " 'horses',\n",
       " 'inside',\n",
       " 'four',\n",
       " 'brown',\n",
       " 'dragons',\n",
       " 'hot',\n",
       " 'silver',\n",
       " 'part',\n",
       " 'bastard',\n",
       " 'open',\n",
       " 'thousand',\n",
       " 'landing',\n",
       " 'uncle',\n",
       " 'going',\n",
       " 'blue',\n",
       " 'air',\n",
       " 'captain',\n",
       " 'please',\n",
       " 'laughed',\n",
       " 'river',\n",
       " 'sun',\n",
       " 'rose',\n",
       " 'fell',\n",
       " 'war',\n",
       " 'golden',\n",
       " 'sleep',\n",
       " 'without',\n",
       " 'swords',\n",
       " 'speak',\n",
       " 'renly',\n",
       " 'fool',\n",
       " 'full',\n",
       " 'certain',\n",
       " 'beyond',\n",
       " 'feel',\n",
       " 'send',\n",
       " 'tongue',\n",
       " 'got',\n",
       " 'fight',\n",
       " 'rode',\n",
       " 'set',\n",
       " 'thick',\n",
       " 'throat',\n",
       " 'world',\n",
       " 'legs',\n",
       " 'deep',\n",
       " 'call',\n",
       " 'honor',\n",
       " 'trees',\n",
       " 'rock',\n",
       " 'tall',\n",
       " 'table',\n",
       " 'pulled',\n",
       " 'broken',\n",
       " 'women',\n",
       " 'mormont',\n",
       " 'steps',\n",
       " 'things',\n",
       " 'next',\n",
       " 'hodor',\n",
       " 'heavy',\n",
       " 'burned',\n",
       " 'oh',\n",
       " 'toward',\n",
       " 'together',\n",
       " 'skin',\n",
       " 'given',\n",
       " 'since',\n",
       " 'dwarf',\n",
       " 'alone',\n",
       " 'smiled',\n",
       " 'moved',\n",
       " 'storm',\n",
       " 'raised',\n",
       " 'ride',\n",
       " 'ask',\n",
       " 'eye',\n",
       " 'hope',\n",
       " 'soft',\n",
       " 'reached',\n",
       " 'frey',\n",
       " 'second',\n",
       " 'remember',\n",
       " 'someone',\n",
       " 'remembered',\n",
       " 'coming',\n",
       " 'cannot',\n",
       " 'hold',\n",
       " 'meant',\n",
       " 'morning',\n",
       " 'ten',\n",
       " 'else',\n",
       " 'teeth',\n",
       " 'throne',\n",
       " 'command',\n",
       " 'fat',\n",
       " 'truth',\n",
       " 'walder',\n",
       " 'commander',\n",
       " 'ground',\n",
       " 'doubt',\n",
       " 'jorah',\n",
       " 'cup',\n",
       " 'outside',\n",
       " 'known',\n",
       " 'wore',\n",
       " 'ran',\n",
       " 'gate',\n",
       " 'held',\n",
       " 'room',\n",
       " 'closed',\n",
       " 'home',\n",
       " 'matter',\n",
       " 'wood',\n",
       " 'south',\n",
       " 'sky',\n",
       " 'people',\n",
       " 'wed',\n",
       " 'dozen',\n",
       " 'neck',\n",
       " 'food',\n",
       " 'riverrun',\n",
       " 'instead',\n",
       " 'near',\n",
       " 'talk',\n",
       " 'turn',\n",
       " 'none',\n",
       " 'ships',\n",
       " 'tyrell',\n",
       " 'moon',\n",
       " 'shadow',\n",
       " 'summer',\n",
       " 'lips',\n",
       " 'bolton',\n",
       " 'watched',\n",
       " 'times',\n",
       " 'leather',\n",
       " 'varys',\n",
       " 'shoulder',\n",
       " 'warm',\n",
       " 'septon',\n",
       " 'caught',\n",
       " 'believe',\n",
       " 'least',\n",
       " 'guards',\n",
       " 'answer',\n",
       " 'god',\n",
       " 'blade',\n",
       " 'ice',\n",
       " 'wondered',\n",
       " 'shield',\n",
       " 'barristan',\n",
       " 'mine',\n",
       " 'opened',\n",
       " 'armor',\n",
       " 'safe',\n",
       " 'six',\n",
       " 'kept',\n",
       " 'wish',\n",
       " 'return',\n",
       " 'tommen',\n",
       " 'used',\n",
       " 'smell',\n",
       " 'less',\n",
       " 'foot',\n",
       " 'squire',\n",
       " 'floor',\n",
       " 'eddard',\n",
       " 'empty',\n",
       " 'followed',\n",
       " 'run',\n",
       " 'friends',\n",
       " 'serve',\n",
       " 'boys',\n",
       " 'beard',\n",
       " 'cloaks',\n",
       " 'baratheon',\n",
       " 'wedding',\n",
       " 'wrong',\n",
       " 'eat',\n",
       " 'ghost',\n",
       " 'daenerys',\n",
       " 'sight',\n",
       " 'flesh',\n",
       " 'five',\n",
       " 'hound',\n",
       " 'ship',\n",
       " 'strength',\n",
       " 'nose',\n",
       " 'returned',\n",
       " 'bones',\n",
       " 'crown',\n",
       " 'yellow',\n",
       " 'chest',\n",
       " 'covered',\n",
       " 'commanded',\n",
       " 'says',\n",
       " 'petyr',\n",
       " 'sometimes',\n",
       " 'aemon',\n",
       " 'filled',\n",
       " 'friend',\n",
       " 'led',\n",
       " 'common',\n",
       " 'aye',\n",
       " 'fighting',\n",
       " 'spoke',\n",
       " 'flames',\n",
       " 'show',\n",
       " 'huge',\n",
       " 'asha',\n",
       " 'lysa',\n",
       " 'aside',\n",
       " 'crow',\n",
       " 'belly',\n",
       " 'master',\n",
       " 'seem',\n",
       " 'breath',\n",
       " 'yard',\n",
       " 'gates',\n",
       " 'waiting',\n",
       " 'within',\n",
       " 'looking',\n",
       " 'wooden',\n",
       " 'wet',\n",
       " 'realm',\n",
       " 'thin',\n",
       " 'work',\n",
       " 'promised',\n",
       " 'use',\n",
       " 'bad',\n",
       " 'later',\n",
       " 'tree',\n",
       " 'husband',\n",
       " 'grew',\n",
       " 'onto',\n",
       " 'loved',\n",
       " 'wildlings',\n",
       " 'afraid',\n",
       " 'greyjoy',\n",
       " 'girls',\n",
       " 'rain',\n",
       " 'shoulders',\n",
       " 'walked',\n",
       " 'shouted',\n",
       " 'maid',\n",
       " 'mance',\n",
       " 'guard',\n",
       " 'late',\n",
       " 'remained',\n",
       " 'fall',\n",
       " 'littlefinger',\n",
       " 'meereen',\n",
       " 'liked',\n",
       " 'margaery',\n",
       " 'year',\n",
       " 'dog',\n",
       " 'hurt',\n",
       " 'passed',\n",
       " 'balon',\n",
       " 'taste',\n",
       " 'lay',\n",
       " 'drew',\n",
       " 'dothraki',\n",
       " 'realized',\n",
       " 'song',\n",
       " 'pushed',\n",
       " 'spear',\n",
       " 'named',\n",
       " 'sure',\n",
       " 'finally',\n",
       " 'whispered',\n",
       " 'reach',\n",
       " 'different',\n",
       " 'stand',\n",
       " 'brave',\n",
       " 'suddenly',\n",
       " 'wolves',\n",
       " 'poor',\n",
       " 'stay',\n",
       " 'kingsguard',\n",
       " 'drogo',\n",
       " 'arryn',\n",
       " 'stop',\n",
       " 'kingdoms',\n",
       " 'edmure',\n",
       " 'ears',\n",
       " 'broke',\n",
       " 'princess',\n",
       " 'burning',\n",
       " 'faces',\n",
       " 'dream',\n",
       " 'lannisters',\n",
       " 'axe',\n",
       " 'direwolf',\n",
       " 'west',\n",
       " 'tears',\n",
       " 'heir',\n",
       " 'either',\n",
       " 'clegane',\n",
       " 'darkness',\n",
       " 'drink',\n",
       " 'pointed',\n",
       " 'raven',\n",
       " 'hill',\n",
       " 'try',\n",
       " 'forward',\n",
       " 'pain',\n",
       " 'sworn',\n",
       " 'khal',\n",
       " 'lie',\n",
       " 'truly',\n",
       " 'dagger',\n",
       " 'kings',\n",
       " 'seat',\n",
       " 'grown',\n",
       " 'road',\n",
       " 'born',\n",
       " 'harrenhal',\n",
       " 'care',\n",
       " 'bronn',\n",
       " 'helm',\n",
       " 'round',\n",
       " 'feast',\n",
       " 'meat',\n",
       " 'quick',\n",
       " 'amongst',\n",
       " 'understand',\n",
       " 'pycelle',\n",
       " 'lifted',\n",
       " 'longer',\n",
       " 'whilst',\n",
       " 'reminded',\n",
       " 'maybe',\n",
       " 'short',\n",
       " 'mountain',\n",
       " 'step',\n",
       " 'rodrik',\n",
       " 'pretty',\n",
       " 'ones',\n",
       " 'melisandre',\n",
       " 'third',\n",
       " 'bit',\n",
       " 'stopped',\n",
       " 'aegon',\n",
       " 'lands',\n",
       " 'worse',\n",
       " 'sit',\n",
       " 'sharp',\n",
       " 'victarion',\n",
       " 'save',\n",
       " 'knows',\n",
       " 'live',\n",
       " 'whose',\n",
       " 'smoke',\n",
       " 'leg',\n",
       " 'pray',\n",
       " 'horn',\n",
       " 'window',\n",
       " 'younger',\n",
       " 'westeros',\n",
       " 'silk',\n",
       " 'heads',\n",
       " 'twenty',\n",
       " 'peace',\n",
       " 'pie',\n",
       " 'slaves',\n",
       " 'ago',\n",
       " 'septa',\n",
       " 'bread',\n",
       " 'low',\n",
       " 'wants',\n",
       " 'mind',\n",
       " 'hizdahr',\n",
       " 'laugh',\n",
       " 'east',\n",
       " 'blind',\n",
       " 'towers',\n",
       " 'mad',\n",
       " 'bright',\n",
       " 'reek',\n",
       " 'sooner',\n",
       " 'slain',\n",
       " 'coin',\n",
       " 'making',\n",
       " 'camp',\n",
       " 'older',\n",
       " 'wait',\n",
       " 'served',\n",
       " 'point',\n",
       " 'narrow',\n",
       " 'drowned',\n",
       " 'salt',\n",
       " 'walk',\n",
       " 'glanced',\n",
       " 'cousin',\n",
       " 'cheeks',\n",
       " 'luwin',\n",
       " 'knife',\n",
       " 'sort',\n",
       " 'stepped',\n",
       " 'targaryen',\n",
       " 'touched',\n",
       " 'quiet',\n",
       " 'often',\n",
       " 'shook',\n",
       " 'riding',\n",
       " 'loras',\n",
       " 'naked',\n",
       " 'twisted',\n",
       " 'choice',\n",
       " 'silence',\n",
       " 'forgotten',\n",
       " 'lion',\n",
       " 'fish',\n",
       " 'kevan',\n",
       " 'read',\n",
       " 'ramsay',\n",
       " 'hung',\n",
       " 'gift',\n",
       " 'fallen',\n",
       " 'replied',\n",
       " 'running',\n",
       " 'large',\n",
       " 'knees',\n",
       " 'fought',\n",
       " 'silent',\n",
       " 'ahead',\n",
       " 'cat',\n",
       " 'company',\n",
       " 'needs',\n",
       " 'sept',\n",
       " 'rhaegar',\n",
       " 'beautiful',\n",
       " 'dogs',\n",
       " 'dawn',\n",
       " 'casterly',\n",
       " 'pass',\n",
       " 'knee',\n",
       " 'dorne',\n",
       " 'tully',\n",
       " 'mud',\n",
       " 'stupid',\n",
       " 'gregor',\n",
       " 'singer',\n",
       " 'court',\n",
       " 'body',\n",
       " 'age',\n",
       " 'trying',\n",
       " 'meera',\n",
       " 'top',\n",
       " 'kind',\n",
       " 'swear',\n",
       " 'gendry',\n",
       " 'offered',\n",
       " 'leaves',\n",
       " 'clothes',\n",
       " 'closer',\n",
       " 'whole',\n",
       " 'kiss',\n",
       " 'anything',\n",
       " 'wonder',\n",
       " 'agreed',\n",
       " 'threw',\n",
       " 'pay',\n",
       " 'whatever',\n",
       " 'answered',\n",
       " 'climbed',\n",
       " 'saying',\n",
       " 'wide',\n",
       " 'saddle',\n",
       " 'stars',\n",
       " 'comes',\n",
       " 'host',\n",
       " 'trust',\n",
       " 'chain',\n",
       " 'stones',\n",
       " 'pleased',\n",
       " 'trident',\n",
       " 'fair',\n",
       " 'hour',\n",
       " 'yunkai',\n",
       " 'spears',\n",
       " 'dying',\n",
       " 'insisted',\n",
       " 'dry',\n",
       " 'ear',\n",
       " 'eight',\n",
       " 'fast',\n",
       " 'ought',\n",
       " 'doors',\n",
       " 'carried',\n",
       " 'service',\n",
       " 'council',\n",
       " 'fist',\n",
       " 'woods',\n",
       " 'mail',\n",
       " 'crossed',\n",
       " 'needed',\n",
       " 'fine',\n",
       " 'join',\n",
       " 'wildling',\n",
       " 'milk',\n",
       " 'thank',\n",
       " 'finger',\n",
       " 'gilly',\n",
       " 'quentyn',\n",
       " 'tent',\n",
       " 'shadows',\n",
       " 'bird',\n",
       " 'win',\n",
       " 'helped',\n",
       " 'land',\n",
       " 'boots',\n",
       " 'crows',\n",
       " 'folk',\n",
       " 'names',\n",
       " 'somehow',\n",
       " 'imp',\n",
       " 'banners',\n",
       " 'letter',\n",
       " 'kissed',\n",
       " 'winter',\n",
       " 'angry',\n",
       " 'screamed',\n",
       " 'pink',\n",
       " 'frightened',\n",
       " 'alive',\n",
       " 'torch',\n",
       " 'learn',\n",
       " 'chair',\n",
       " 'eunuch',\n",
       " 'daughters',\n",
       " 'watching',\n",
       " 'tarly',\n",
       " 'dragonstone',\n",
       " 'fires',\n",
       " 'harm',\n",
       " 'serving',\n",
       " 'standing',\n",
       " 'nine',\n",
       " 'neither',\n",
       " 'learned',\n",
       " 'easy',\n",
       " 'question',\n",
       " 'wings',\n",
       " 'drunk',\n",
       " 'sail',\n",
       " 'nodded',\n",
       " 'sisters',\n",
       " 'priest',\n",
       " 'myrcella',\n",
       " 'forth',\n",
       " 'giant',\n",
       " 'warned',\n",
       " 'bone',\n",
       " 'harbor',\n",
       " 'slow',\n",
       " 'slipped',\n",
       " 'field',\n",
       " 'slid',\n",
       " 'dreams',\n",
       " 'falling',\n",
       " 'slowly',\n",
       " 'bronze',\n",
       " 'promise',\n",
       " 'atop',\n",
       " 'whore',\n",
       " 'slave',\n",
       " 'rise',\n",
       " 'illyrio',\n",
       " 'line',\n",
       " 'move',\n",
       " 'laughter',\n",
       " 'flowers',\n",
       " 'makes',\n",
       " 'pyke',\n",
       " 'declared',\n",
       " 'earth',\n",
       " 'grass',\n",
       " 'faced',\n",
       " 'loose',\n",
       " 'bay',\n",
       " 'twice',\n",
       " 'viserys',\n",
       " 'power',\n",
       " 'lived',\n",
       " 'front',\n",
       " 'play',\n",
       " 'happened',\n",
       " 'cell',\n",
       " 'dance',\n",
       " 'oldtown',\n",
       " 'chains',\n",
       " 'break',\n",
       " 'clean',\n",
       " 'aerys',\n",
       " 'surely',\n",
       " 'claim',\n",
       " 'eyrie',\n",
       " 'unless',\n",
       " 'jeyne',\n",
       " 'fresh',\n",
       " 'cried',\n",
       " 'tormund',\n",
       " 'pair',\n",
       " 'quite',\n",
       " 'craster',\n",
       " 'laid',\n",
       " 'sad',\n",
       " 'morrow',\n",
       " 'shouting',\n",
       " 'game',\n",
       " 'met',\n",
       " 'already',\n",
       " 'touch',\n",
       " 'softly',\n",
       " 'rule',\n",
       " 'started',\n",
       " 'afterward',\n",
       " 'steward',\n",
       " 'sense',\n",
       " 'mounted',\n",
       " 'woke',\n",
       " 'count',\n",
       " 'hide',\n",
       " 'captive',\n",
       " 'jojen',\n",
       " 'sudden',\n",
       " 'highgarden',\n",
       " 'waters',\n",
       " 'ravens',\n",
       " 'cheek',\n",
       " 'however',\n",
       " 'purple',\n",
       " 'anyone',\n",
       " 'taking',\n",
       " 'course',\n",
       " 'among',\n",
       " 'follow',\n",
       " 'means',\n",
       " 'rickon',\n",
       " 'noble',\n",
       " 'carved',\n",
       " 'wench',\n",
       " 'bare',\n",
       " 'waited',\n",
       " 'grenn',\n",
       " 'cruel',\n",
       " 'murdered',\n",
       " 'thinking',\n",
       " 'weak',\n",
       " 'rising',\n",
       " 'vale',\n",
       " 'roose',\n",
       " 'roof',\n",
       " 'hidden',\n",
       " 'eyed',\n",
       " 'forest',\n",
       " 'town',\n",
       " 'arrow',\n",
       " 'blow',\n",
       " 'hungry',\n",
       " 'today',\n",
       " 'growing',\n",
       " 'wise',\n",
       " 'grand',\n",
       " 'voices',\n",
       " 'sorry',\n",
       " 'army',\n",
       " 'griff',\n",
       " 'tale',\n",
       " 'protect',\n",
       " 'wound',\n",
       " 'cry',\n",
       " 'weight',\n",
       " 'twins',\n",
       " 'ugly',\n",
       " 'beric',\n",
       " 'inn',\n",
       " 'dressed',\n",
       " 'ygritte',\n",
       " 'knelt',\n",
       " 'hoped',\n",
       " 'forget',\n",
       " 'rolled',\n",
       " 'enemies',\n",
       " 'climb',\n",
       " 'sick',\n",
       " 'daario',\n",
       " 'fur',\n",
       " 'chance',\n",
       " 'marry',\n",
       " 'grow',\n",
       " 'courage',\n",
       " 'lad',\n",
       " 'seems',\n",
       " 'smiling',\n",
       " 'freys',\n",
       " 'whether',\n",
       " 'laughing',\n",
       " 'fleet',\n",
       " 'bride',\n",
       " 'unsullied',\n",
       " 'breasts',\n",
       " 'marriage',\n",
       " 'appeared',\n",
       " 'corpse',\n",
       " 'square',\n",
       " 'meet',\n",
       " 'drank',\n",
       " 'showed',\n",
       " 'kingslayer',\n",
       " 'wool',\n",
       " 'mercy',\n",
       " 'trouble',\n",
       " 'alayne',\n",
       " 'march',\n",
       " 'frozen',\n",
       " 'mountains',\n",
       " 'edge',\n",
       " 'slynt',\n",
       " 'wear',\n",
       " 'shae',\n",
       " 'arrows',\n",
       " 'ragged',\n",
       " 'sing',\n",
       " 'offer',\n",
       " 'welcome',\n",
       " 'bound',\n",
       " 'decided',\n",
       " 'swore',\n",
       " 'allowed',\n",
       " 'recall',\n",
       " 'everything',\n",
       " 'spread',\n",
       " 'ill',\n",
       " 'seated',\n",
       " 'slept',\n",
       " 'quickly',\n",
       " 'mace',\n",
       " 'ancient',\n",
       " 'moving',\n",
       " 'sounded',\n",
       " 'tales',\n",
       " 'wake',\n",
       " 'bowed',\n",
       " 'talking',\n",
       " 'dare',\n",
       " 'flew',\n",
       " ...]"
      ]
     },
     "execution_count": 68,
     "metadata": {},
     "output_type": "execute_result"
    }
   ],
   "source": [
    "y=model.wv.index_to_key\n",
    "# y"
   ]
  },
  {
   "cell_type": "code",
   "execution_count": 69,
   "id": "2ffb1529",
   "metadata": {},
   "outputs": [
    {
     "data": {
      "text/plain": [
       "(17310, 3)"
      ]
     },
     "execution_count": 69,
     "metadata": {},
     "output_type": "execute_result"
    }
   ],
   "source": [
    "# Applying dimentionality Reduction using PCA \n",
    "# So that we van have a Visual representation in 3D\n",
    "from sklearn.decomposition import PCA\n",
    "pca =PCA(n_components=3)\n",
    "x=pca.fit_transform(model.wv.get_normed_vectors())\n",
    "x.shape # Dimentionality reduced from 100 to 3 "
   ]
  },
  {
   "cell_type": "code",
   "execution_count": null,
   "id": "74816270",
   "metadata": {},
   "outputs": [
    {
     "data": {
      "application/vnd.plotly.v1+json": {
       "config": {
        "plotlyServerURL": "https://plot.ly"
       },
       "data": [
        {
         "hovertemplate": "color=said<br>0=%{x}<br>1=%{y}<br>2=%{z}<extra></extra>",
         "legendgroup": "said",
         "marker": {
          "color": "#636efa",
          "symbol": "circle"
         },
         "mode": "markers",
         "name": "said",
         "scene": "scene",
         "showlegend": true,
         "type": "scatter3d",
         "x": {
          "bdata": "3I28vg==",
          "dtype": "f4"
         },
         "y": {
          "bdata": "ARXxPQ==",
          "dtype": "f4"
         },
         "z": {
          "bdata": "9ynDPg==",
          "dtype": "f4"
         }
        },
        {
         "hovertemplate": "color=lord<br>0=%{x}<br>1=%{y}<br>2=%{z}<extra></extra>",
         "legendgroup": "lord",
         "marker": {
          "color": "#EF553B",
          "symbol": "circle"
         },
         "mode": "markers",
         "name": "lord",
         "scene": "scene",
         "showlegend": true,
         "type": "scatter3d",
         "x": {
          "bdata": "rLedvg==",
          "dtype": "f4"
         },
         "y": {
          "bdata": "J0jsPg==",
          "dtype": "f4"
         },
         "z": {
          "bdata": "fID+Pg==",
          "dtype": "f4"
         }
        },
        {
         "hovertemplate": "color=would<br>0=%{x}<br>1=%{y}<br>2=%{z}<extra></extra>",
         "legendgroup": "would",
         "marker": {
          "color": "#00cc96",
          "symbol": "circle"
         },
         "mode": "markers",
         "name": "would",
         "scene": "scene",
         "showlegend": true,
         "type": "scatter3d",
         "x": {
          "bdata": "ZLuqvg==",
          "dtype": "f4"
         },
         "y": {
          "bdata": "S1SAPg==",
          "dtype": "f4"
         },
         "z": {
          "bdata": "VBnLPA==",
          "dtype": "f4"
         }
        },
        {
         "hovertemplate": "color=one<br>0=%{x}<br>1=%{y}<br>2=%{z}<extra></extra>",
         "legendgroup": "one",
         "marker": {
          "color": "#ab63fa",
          "symbol": "circle"
         },
         "mode": "markers",
         "name": "one",
         "scene": "scene",
         "showlegend": true,
         "type": "scatter3d",
         "x": {
          "bdata": "3jtbPQ==",
          "dtype": "f4"
         },
         "y": {
          "bdata": "62l/Pg==",
          "dtype": "f4"
         },
         "z": {
          "bdata": "plWQPg==",
          "dtype": "f4"
         }
        },
        {
         "hovertemplate": "color=ser<br>0=%{x}<br>1=%{y}<br>2=%{z}<extra></extra>",
         "legendgroup": "ser",
         "marker": {
          "color": "#FFA15A",
          "symbol": "circle"
         },
         "mode": "markers",
         "name": "ser",
         "scene": "scene",
         "showlegend": true,
         "type": "scatter3d",
         "x": {
          "bdata": "pXZpvg==",
          "dtype": "f4"
         },
         "y": {
          "bdata": "u3TMPg==",
          "dtype": "f4"
         },
         "z": {
          "bdata": "xqMdPw==",
          "dtype": "f4"
         }
        },
        {
         "hovertemplate": "color=could<br>0=%{x}<br>1=%{y}<br>2=%{z}<extra></extra>",
         "legendgroup": "could",
         "marker": {
          "color": "#19d3f3",
          "symbol": "circle"
         },
         "mode": "markers",
         "name": "could",
         "scene": "scene",
         "showlegend": true,
         "type": "scatter3d",
         "x": {
          "bdata": "7OH/PA==",
          "dtype": "f4"
         },
         "y": {
          "bdata": "IRFMPg==",
          "dtype": "f4"
         },
         "z": {
          "bdata": "rjTiPA==",
          "dtype": "f4"
         }
        },
        {
         "hovertemplate": "color=man<br>0=%{x}<br>1=%{y}<br>2=%{z}<extra></extra>",
         "legendgroup": "man",
         "marker": {
          "color": "#FF6692",
          "symbol": "circle"
         },
         "mode": "markers",
         "name": "man",
         "scene": "scene",
         "showlegend": true,
         "type": "scatter3d",
         "x": {
          "bdata": "dk4LvQ==",
          "dtype": "f4"
         },
         "y": {
          "bdata": "KwomPg==",
          "dtype": "f4"
         },
         "z": {
          "bdata": "G0a8Pg==",
          "dtype": "f4"
         }
        },
        {
         "hovertemplate": "color=king<br>0=%{x}<br>1=%{y}<br>2=%{z}<extra></extra>",
         "legendgroup": "king",
         "marker": {
          "color": "#B6E880",
          "symbol": "circle"
         },
         "mode": "markers",
         "name": "king",
         "scene": "scene",
         "showlegend": true,
         "type": "scatter3d",
         "x": {
          "bdata": "JfWBvg==",
          "dtype": "f4"
         },
         "y": {
          "bdata": "5yH8Pg==",
          "dtype": "f4"
         },
         "z": {
          "bdata": "iaKkPg==",
          "dtype": "f4"
         }
        },
        {
         "hovertemplate": "color=men<br>0=%{x}<br>1=%{y}<br>2=%{z}<extra></extra>",
         "legendgroup": "men",
         "marker": {
          "color": "#FF97FF",
          "symbol": "circle"
         },
         "mode": "markers",
         "name": "men",
         "scene": "scene",
         "showlegend": true,
         "type": "scatter3d",
         "x": {
          "bdata": "RGBFvA==",
          "dtype": "f4"
         },
         "y": {
          "bdata": "GH8NPw==",
          "dtype": "f4"
         },
         "z": {
          "bdata": "wzeiPA==",
          "dtype": "f4"
         }
        },
        {
         "hovertemplate": "color=back<br>0=%{x}<br>1=%{y}<br>2=%{z}<extra></extra>",
         "legendgroup": "back",
         "marker": {
          "color": "#FECB52",
          "symbol": "circle"
         },
         "mode": "markers",
         "name": "back",
         "scene": "scene",
         "showlegend": true,
         "type": "scatter3d",
         "x": {
          "bdata": "PT5jPg==",
          "dtype": "f4"
         },
         "y": {
          "bdata": "U55iPg==",
          "dtype": "f4"
         },
         "z": {
          "bdata": "1YCCPg==",
          "dtype": "f4"
         }
        },
        {
         "hovertemplate": "color=well<br>0=%{x}<br>1=%{y}<br>2=%{z}<extra></extra>",
         "legendgroup": "well",
         "marker": {
          "color": "#636efa",
          "symbol": "circle"
         },
         "mode": "markers",
         "name": "well",
         "scene": "scene",
         "showlegend": true,
         "type": "scatter3d",
         "x": {
          "bdata": "+MqEvg==",
          "dtype": "f4"
         },
         "y": {
          "bdata": "1ZiyPg==",
          "dtype": "f4"
         },
         "z": {
          "bdata": "T/j0PQ==",
          "dtype": "f4"
         }
        },
        {
         "hovertemplate": "color=like<br>0=%{x}<br>1=%{y}<br>2=%{z}<extra></extra>",
         "legendgroup": "like",
         "marker": {
          "color": "#EF553B",
          "symbol": "circle"
         },
         "mode": "markers",
         "name": "like",
         "scene": "scene",
         "showlegend": true,
         "type": "scatter3d",
         "x": {
          "bdata": "UTtsPg==",
          "dtype": "f4"
         },
         "y": {
          "bdata": "AU3rPQ==",
          "dtype": "f4"
         },
         "z": {
          "bdata": "kqC0PQ==",
          "dtype": "f4"
         }
        },
        {
         "hovertemplate": "color=jon<br>0=%{x}<br>1=%{y}<br>2=%{z}<extra></extra>",
         "legendgroup": "jon",
         "marker": {
          "color": "#00cc96",
          "symbol": "circle"
         },
         "mode": "markers",
         "name": "jon",
         "scene": "scene",
         "showlegend": true,
         "type": "scatter3d",
         "x": {
          "bdata": "WwUzPA==",
          "dtype": "f4"
         },
         "y": {
          "bdata": "mMs5Pg==",
          "dtype": "f4"
         },
         "z": {
          "bdata": "Qq2JPg==",
          "dtype": "f4"
         }
        },
        {
         "hovertemplate": "color=father<br>0=%{x}<br>1=%{y}<br>2=%{z}<extra></extra>",
         "legendgroup": "father",
         "marker": {
          "color": "#ab63fa",
          "symbol": "circle"
         },
         "mode": "markers",
         "name": "father",
         "scene": "scene",
         "showlegend": true,
         "type": "scatter3d",
         "x": {
          "bdata": "g4rTvg==",
          "dtype": "f4"
         },
         "y": {
          "bdata": "UmWtPg==",
          "dtype": "f4"
         },
         "z": {
          "bdata": "Pni+Pg==",
          "dtype": "f4"
         }
        },
        {
         "hovertemplate": "color=old<br>0=%{x}<br>1=%{y}<br>2=%{z}<extra></extra>",
         "legendgroup": "old",
         "marker": {
          "color": "#FFA15A",
          "symbol": "circle"
         },
         "mode": "markers",
         "name": "old",
         "scene": "scene",
         "showlegend": true,
         "type": "scatter3d",
         "x": {
          "bdata": "pjX7PA==",
          "dtype": "f4"
         },
         "y": {
          "bdata": "oz2kPg==",
          "dtype": "f4"
         },
         "z": {
          "bdata": "NJBuPg==",
          "dtype": "f4"
         }
        },
        {
         "hovertemplate": "color=hand<br>0=%{x}<br>1=%{y}<br>2=%{z}<extra></extra>",
         "legendgroup": "hand",
         "marker": {
          "color": "#19d3f3",
          "symbol": "circle"
         },
         "mode": "markers",
         "name": "hand",
         "scene": "scene",
         "showlegend": true,
         "type": "scatter3d",
         "x": {
          "bdata": "d4jgPQ==",
          "dtype": "f4"
         },
         "y": {
          "bdata": "QmD8PQ==",
          "dtype": "f4"
         },
         "z": {
          "bdata": "9l8DPw==",
          "dtype": "f4"
         }
        },
        {
         "hovertemplate": "color=even<br>0=%{x}<br>1=%{y}<br>2=%{z}<extra></extra>",
         "legendgroup": "even",
         "marker": {
          "color": "#FF6692",
          "symbol": "circle"
         },
         "mode": "markers",
         "name": "even",
         "scene": "scene",
         "showlegend": true,
         "type": "scatter3d",
         "x": {
          "bdata": "4JT4vA==",
          "dtype": "f4"
         },
         "y": {
          "bdata": "Xr9kPg==",
          "dtype": "f4"
         },
         "z": {
          "bdata": "ED+DvQ==",
          "dtype": "f4"
         }
        },
        {
         "hovertemplate": "color=tyrion<br>0=%{x}<br>1=%{y}<br>2=%{z}<extra></extra>",
         "legendgroup": "tyrion",
         "marker": {
          "color": "#B6E880",
          "symbol": "circle"
         },
         "mode": "markers",
         "name": "tyrion",
         "scene": "scene",
         "showlegend": true,
         "type": "scatter3d",
         "x": {
          "bdata": "CIEmvQ==",
          "dtype": "f4"
         },
         "y": {
          "bdata": "n2XRvA==",
          "dtype": "f4"
         },
         "z": {
          "bdata": "ELqEPg==",
          "dtype": "f4"
         }
        },
        {
         "hovertemplate": "color=never<br>0=%{x}<br>1=%{y}<br>2=%{z}<extra></extra>",
         "legendgroup": "never",
         "marker": {
          "color": "#FF97FF",
          "symbol": "circle"
         },
         "mode": "markers",
         "name": "never",
         "scene": "scene",
         "showlegend": true,
         "type": "scatter3d",
         "x": {
          "bdata": "88qOvg==",
          "dtype": "f4"
         },
         "y": {
          "bdata": "4kUaPg==",
          "dtype": "f4"
         },
         "z": {
          "bdata": "1fzKPQ==",
          "dtype": "f4"
         }
        },
        {
         "hovertemplate": "color=know<br>0=%{x}<br>1=%{y}<br>2=%{z}<extra></extra>",
         "legendgroup": "know",
         "marker": {
          "color": "#FECB52",
          "symbol": "circle"
         },
         "mode": "markers",
         "name": "know",
         "scene": "scene",
         "showlegend": true,
         "type": "scatter3d",
         "x": {
          "bdata": "R7f3vg==",
          "dtype": "f4"
         },
         "y": {
          "bdata": "O9l/Pg==",
          "dtype": "f4"
         },
         "z": {
          "bdata": "IEyMPQ==",
          "dtype": "f4"
         }
        },
        {
         "hovertemplate": "color=see<br>0=%{x}<br>1=%{y}<br>2=%{z}<extra></extra>",
         "legendgroup": "see",
         "marker": {
          "color": "#636efa",
          "symbol": "circle"
         },
         "mode": "markers",
         "name": "see",
         "scene": "scene",
         "showlegend": true,
         "type": "scatter3d",
         "x": {
          "bdata": "aIuSOw==",
          "dtype": "f4"
         },
         "y": {
          "bdata": "YLyHPg==",
          "dtype": "f4"
         },
         "z": {
          "bdata": "r+YHPg==",
          "dtype": "f4"
         }
        },
        {
         "hovertemplate": "color=made<br>0=%{x}<br>1=%{y}<br>2=%{z}<extra></extra>",
         "legendgroup": "made",
         "marker": {
          "color": "#EF553B",
          "symbol": "circle"
         },
         "mode": "markers",
         "name": "made",
         "scene": "scene",
         "showlegend": true,
         "type": "scatter3d",
         "x": {
          "bdata": "4tShPQ==",
          "dtype": "f4"
         },
         "y": {
          "bdata": "1RMRPg==",
          "dtype": "f4"
         },
         "z": {
          "bdata": "JiImPg==",
          "dtype": "f4"
         }
        },
        {
         "hovertemplate": "color=eyes<br>0=%{x}<br>1=%{y}<br>2=%{z}<extra></extra>",
         "legendgroup": "eyes",
         "marker": {
          "color": "#00cc96",
          "symbol": "circle"
         },
         "mode": "markers",
         "name": "eyes",
         "scene": "scene",
         "showlegend": true,
         "type": "scatter3d",
         "x": {
          "bdata": "v2ksPg==",
          "dtype": "f4"
         },
         "y": {
          "bdata": "2h4uPA==",
          "dtype": "f4"
         },
         "z": {
          "bdata": "sqmcPg==",
          "dtype": "f4"
         }
        },
        {
         "hovertemplate": "color=black<br>0=%{x}<br>1=%{y}<br>2=%{z}<extra></extra>",
         "legendgroup": "black",
         "marker": {
          "color": "#ab63fa",
          "symbol": "circle"
         },
         "mode": "markers",
         "name": "black",
         "scene": "scene",
         "showlegend": true,
         "type": "scatter3d",
         "x": {
          "bdata": "MRGpPg==",
          "dtype": "f4"
         },
         "y": {
          "bdata": "H5G6Pg==",
          "dtype": "f4"
         },
         "z": {
          "bdata": "VueNPg==",
          "dtype": "f4"
         }
        },
        {
         "hovertemplate": "color=told<br>0=%{x}<br>1=%{y}<br>2=%{z}<extra></extra>",
         "legendgroup": "told",
         "marker": {
          "color": "#FFA15A",
          "symbol": "circle"
         },
         "mode": "markers",
         "name": "told",
         "scene": "scene",
         "showlegend": true,
         "type": "scatter3d",
         "x": {
          "bdata": "9pidvg==",
          "dtype": "f4"
         },
         "y": {
          "bdata": "Wz9XPg==",
          "dtype": "f4"
         },
         "z": {
          "bdata": "2E1wPg==",
          "dtype": "f4"
         }
        },
        {
         "hovertemplate": "color=lady<br>0=%{x}<br>1=%{y}<br>2=%{z}<extra></extra>",
         "legendgroup": "lady",
         "marker": {
          "color": "#19d3f3",
          "symbol": "circle"
         },
         "mode": "markers",
         "name": "lady",
         "scene": "scene",
         "showlegend": true,
         "type": "scatter3d",
         "x": {
          "bdata": "yliFvg==",
          "dtype": "f4"
         },
         "y": {
          "bdata": "nlijPg==",
          "dtype": "f4"
         },
         "z": {
          "bdata": "CugAPw==",
          "dtype": "f4"
         }
        },
        {
         "hovertemplate": "color=thought<br>0=%{x}<br>1=%{y}<br>2=%{z}<extra></extra>",
         "legendgroup": "thought",
         "marker": {
          "color": "#FF6692",
          "symbol": "circle"
         },
         "mode": "markers",
         "name": "thought",
         "scene": "scene",
         "showlegend": true,
         "type": "scatter3d",
         "x": {
          "bdata": "Hzslvg==",
          "dtype": "f4"
         },
         "y": {
          "bdata": "t5evPQ==",
          "dtype": "f4"
         },
         "z": {
          "bdata": "QcoSPg==",
          "dtype": "f4"
         }
        },
        {
         "hovertemplate": "color=time<br>0=%{x}<br>1=%{y}<br>2=%{z}<extra></extra>",
         "legendgroup": "time",
         "marker": {
          "color": "#B6E880",
          "symbol": "circle"
         },
         "mode": "markers",
         "name": "time",
         "scene": "scene",
         "showlegend": true,
         "type": "scatter3d",
         "x": {
          "bdata": "BmMqPQ==",
          "dtype": "f4"
         },
         "y": {
          "bdata": "kUNVPg==",
          "dtype": "f4"
         },
         "z": {
          "bdata": "y3ftPQ==",
          "dtype": "f4"
         }
        },
        {
         "hovertemplate": "color=long<br>0=%{x}<br>1=%{y}<br>2=%{z}<extra></extra>",
         "legendgroup": "long",
         "marker": {
          "color": "#FF97FF",
          "symbol": "circle"
         },
         "mode": "markers",
         "name": "long",
         "scene": "scene",
         "showlegend": true,
         "type": "scatter3d",
         "x": {
          "bdata": "unxRPg==",
          "dtype": "f4"
         },
         "y": {
          "bdata": "d867Pg==",
          "dtype": "f4"
         },
         "z": {
          "bdata": "0YwePg==",
          "dtype": "f4"
         }
        },
        {
         "hovertemplate": "color=might<br>0=%{x}<br>1=%{y}<br>2=%{z}<extra></extra>",
         "legendgroup": "might",
         "marker": {
          "color": "#FECB52",
          "symbol": "circle"
         },
         "mode": "markers",
         "name": "might",
         "scene": "scene",
         "showlegend": true,
         "type": "scatter3d",
         "x": {
          "bdata": "2w+ivg==",
          "dtype": "f4"
         },
         "y": {
          "bdata": "F6BYPg==",
          "dtype": "f4"
         },
         "z": {
          "bdata": "mQGFPQ==",
          "dtype": "f4"
         }
        },
        {
         "hovertemplate": "color=us<br>0=%{x}<br>1=%{y}<br>2=%{z}<extra></extra>",
         "legendgroup": "us",
         "marker": {
          "color": "#636efa",
          "symbol": "circle"
         },
         "mode": "markers",
         "name": "us",
         "scene": "scene",
         "showlegend": true,
         "type": "scatter3d",
         "x": {
          "bdata": "+zHNvg==",
          "dtype": "f4"
         },
         "y": {
          "bdata": "lr27Pg==",
          "dtype": "f4"
         },
         "z": {
          "bdata": "u57tuw==",
          "dtype": "f4"
         }
        },
        {
         "hovertemplate": "color=come<br>0=%{x}<br>1=%{y}<br>2=%{z}<extra></extra>",
         "legendgroup": "come",
         "marker": {
          "color": "#EF553B",
          "symbol": "circle"
         },
         "mode": "markers",
         "name": "come",
         "scene": "scene",
         "showlegend": true,
         "type": "scatter3d",
         "x": {
          "bdata": "+iRevg==",
          "dtype": "f4"
         },
         "y": {
          "bdata": "TbDUPg==",
          "dtype": "f4"
         },
         "z": {
          "bdata": "pcVCPA==",
          "dtype": "f4"
         }
        },
        {
         "hovertemplate": "color=face<br>0=%{x}<br>1=%{y}<br>2=%{z}<extra></extra>",
         "legendgroup": "face",
         "marker": {
          "color": "#00cc96",
          "symbol": "circle"
         },
         "mode": "markers",
         "name": "face",
         "scene": "scene",
         "showlegend": true,
         "type": "scatter3d",
         "x": {
          "bdata": "X1tmPg==",
          "dtype": "f4"
         },
         "y": {
          "bdata": "QYC6vQ==",
          "dtype": "f4"
         },
         "z": {
          "bdata": "EKXgPg==",
          "dtype": "f4"
         }
        },
        {
         "hovertemplate": "color=still<br>0=%{x}<br>1=%{y}<br>2=%{z}<extra></extra>",
         "legendgroup": "still",
         "marker": {
          "color": "#ab63fa",
          "symbol": "circle"
         },
         "mode": "markers",
         "name": "still",
         "scene": "scene",
         "showlegend": true,
         "type": "scatter3d",
         "x": {
          "bdata": "Khe7PQ==",
          "dtype": "f4"
         },
         "y": {
          "bdata": "mHucPg==",
          "dtype": "f4"
         },
         "z": {
          "bdata": "HXywPQ==",
          "dtype": "f4"
         }
        },
        {
         "hovertemplate": "color=head<br>0=%{x}<br>1=%{y}<br>2=%{z}<extra></extra>",
         "legendgroup": "head",
         "marker": {
          "color": "#FFA15A",
          "symbol": "circle"
         },
         "mode": "markers",
         "name": "head",
         "scene": "scene",
         "showlegend": true,
         "type": "scatter3d",
         "x": {
          "bdata": "ziJdPg==",
          "dtype": "f4"
         },
         "y": {
          "bdata": "f/wuPQ==",
          "dtype": "f4"
         },
         "z": {
          "bdata": "AHTmPg==",
          "dtype": "f4"
         }
        },
        {
         "hovertemplate": "color=red<br>0=%{x}<br>1=%{y}<br>2=%{z}<extra></extra>",
         "legendgroup": "red",
         "marker": {
          "color": "#19d3f3",
          "symbol": "circle"
         },
         "mode": "markers",
         "name": "red",
         "scene": "scene",
         "showlegend": true,
         "type": "scatter3d",
         "x": {
          "bdata": "BD5yPg==",
          "dtype": "f4"
         },
         "y": {
          "bdata": "QjufPg==",
          "dtype": "f4"
         },
         "z": {
          "bdata": "I2ShPg==",
          "dtype": "f4"
         }
        },
        {
         "hovertemplate": "color=way<br>0=%{x}<br>1=%{y}<br>2=%{z}<extra></extra>",
         "legendgroup": "way",
         "marker": {
          "color": "#FF6692",
          "symbol": "circle"
         },
         "mode": "markers",
         "name": "way",
         "scene": "scene",
         "showlegend": true,
         "type": "scatter3d",
         "x": {
          "bdata": "HOgLPg==",
          "dtype": "f4"
         },
         "y": {
          "bdata": "n2mRPg==",
          "dtype": "f4"
         },
         "z": {
          "bdata": "HJ5RPA==",
          "dtype": "f4"
         }
        },
        {
         "hovertemplate": "color=boy<br>0=%{x}<br>1=%{y}<br>2=%{z}<extra></extra>",
         "legendgroup": "boy",
         "marker": {
          "color": "#B6E880",
          "symbol": "circle"
         },
         "mode": "markers",
         "name": "boy",
         "scene": "scene",
         "showlegend": true,
         "type": "scatter3d",
         "x": {
          "bdata": "m2kTvg==",
          "dtype": "f4"
         },
         "y": {
          "bdata": "c6I4Pg==",
          "dtype": "f4"
         },
         "z": {
          "bdata": "0MIEPw==",
          "dtype": "f4"
         }
        },
        {
         "hovertemplate": "color=page<br>0=%{x}<br>1=%{y}<br>2=%{z}<extra></extra>",
         "legendgroup": "page",
         "marker": {
          "color": "#FF97FF",
          "symbol": "circle"
         },
         "mode": "markers",
         "name": "page",
         "scene": "scene",
         "showlegend": true,
         "type": "scatter3d",
         "x": {
          "bdata": "XCRivQ==",
          "dtype": "f4"
         },
         "y": {
          "bdata": "uxF7Pg==",
          "dtype": "f4"
         },
         "z": {
          "bdata": "Eru3Pg==",
          "dtype": "f4"
         }
        },
        {
         "hovertemplate": "color=must<br>0=%{x}<br>1=%{y}<br>2=%{z}<extra></extra>",
         "legendgroup": "must",
         "marker": {
          "color": "#FECB52",
          "symbol": "circle"
         },
         "mode": "markers",
         "name": "must",
         "scene": "scene",
         "showlegend": true,
         "type": "scatter3d",
         "x": {
          "bdata": "Au7Yvg==",
          "dtype": "f4"
         },
         "y": {
          "bdata": "JeeEPg==",
          "dtype": "f4"
         },
         "z": {
          "bdata": "AtqWPQ==",
          "dtype": "f4"
         }
        },
        {
         "hovertemplate": "color=queen<br>0=%{x}<br>1=%{y}<br>2=%{z}<extra></extra>",
         "legendgroup": "queen",
         "marker": {
          "color": "#636efa",
          "symbol": "circle"
         },
         "mode": "markers",
         "name": "queen",
         "scene": "scene",
         "showlegend": true,
         "type": "scatter3d",
         "x": {
          "bdata": "/bCKvg==",
          "dtype": "f4"
         },
         "y": {
          "bdata": "1n2LPg==",
          "dtype": "f4"
         },
         "z": {
          "bdata": "NPCBPg==",
          "dtype": "f4"
         }
        },
        {
         "hovertemplate": "color=good<br>0=%{x}<br>1=%{y}<br>2=%{z}<extra></extra>",
         "legendgroup": "good",
         "marker": {
          "color": "#EF553B",
          "symbol": "circle"
         },
         "mode": "markers",
         "name": "good",
         "scene": "scene",
         "showlegend": true,
         "type": "scatter3d",
         "x": {
          "bdata": "gjSmvg==",
          "dtype": "f4"
         },
         "y": {
          "bdata": "eAoePg==",
          "dtype": "f4"
         },
         "z": {
          "bdata": "9YffPQ==",
          "dtype": "f4"
         }
        },
        {
         "hovertemplate": "color=two<br>0=%{x}<br>1=%{y}<br>2=%{z}<extra></extra>",
         "legendgroup": "two",
         "marker": {
          "color": "#00cc96",
          "symbol": "circle"
         },
         "mode": "markers",
         "name": "two",
         "scene": "scene",
         "showlegend": true,
         "type": "scatter3d",
         "x": {
          "bdata": "WV1ePg==",
          "dtype": "f4"
         },
         "y": {
          "bdata": "M+8NPw==",
          "dtype": "f4"
         },
         "z": {
          "bdata": "J6xLPg==",
          "dtype": "f4"
         }
        },
        {
         "hovertemplate": "color=brother<br>0=%{x}<br>1=%{y}<br>2=%{z}<extra></extra>",
         "legendgroup": "brother",
         "marker": {
          "color": "#ab63fa",
          "symbol": "circle"
         },
         "mode": "markers",
         "name": "brother",
         "scene": "scene",
         "showlegend": true,
         "type": "scatter3d",
         "x": {
          "bdata": "jtG3vg==",
          "dtype": "f4"
         },
         "y": {
          "bdata": "e9fOPg==",
          "dtype": "f4"
         },
         "z": {
          "bdata": "S6zzPg==",
          "dtype": "f4"
         }
        },
        {
         "hovertemplate": "color=night<br>0=%{x}<br>1=%{y}<br>2=%{z}<extra></extra>",
         "legendgroup": "night",
         "marker": {
          "color": "#FFA15A",
          "symbol": "circle"
         },
         "mode": "markers",
         "name": "night",
         "scene": "scene",
         "showlegend": true,
         "type": "scatter3d",
         "x": {
          "bdata": "I5jNPA==",
          "dtype": "f4"
         },
         "y": {
          "bdata": "JPCvPg==",
          "dtype": "f4"
         },
         "z": {
          "bdata": "mgrJPA==",
          "dtype": "f4"
         }
        },
        {
         "hovertemplate": "color=little<br>0=%{x}<br>1=%{y}<br>2=%{z}<extra></extra>",
         "legendgroup": "little",
         "marker": {
          "color": "#19d3f3",
          "symbol": "circle"
         },
         "mode": "markers",
         "name": "little",
         "scene": "scene",
         "showlegend": true,
         "type": "scatter3d",
         "x": {
          "bdata": "qf6HvA==",
          "dtype": "f4"
         },
         "y": {
          "bdata": "r86tPQ==",
          "dtype": "f4"
         },
         "z": {
          "bdata": "zzZIPg==",
          "dtype": "f4"
         }
        },
        {
         "hovertemplate": "color=took<br>0=%{x}<br>1=%{y}<br>2=%{z}<extra></extra>",
         "legendgroup": "took",
         "marker": {
          "color": "#FF6692",
          "symbol": "circle"
         },
         "mode": "markers",
         "name": "took",
         "scene": "scene",
         "showlegend": true,
         "type": "scatter3d",
         "x": {
          "bdata": "UnkZPQ==",
          "dtype": "f4"
         },
         "y": {
          "bdata": "vY2VPg==",
          "dtype": "f4"
         },
         "z": {
          "bdata": "eY7IPg==",
          "dtype": "f4"
         }
        },
        {
         "hovertemplate": "color=came<br>0=%{x}<br>1=%{y}<br>2=%{z}<extra></extra>",
         "legendgroup": "came",
         "marker": {
          "color": "#B6E880",
          "symbol": "circle"
         },
         "mode": "markers",
         "name": "came",
         "scene": "scene",
         "showlegend": true,
         "type": "scatter3d",
         "x": {
          "bdata": "slxiPg==",
          "dtype": "f4"
         },
         "y": {
          "bdata": "2YS/Pg==",
          "dtype": "f4"
         },
         "z": {
          "bdata": "KVWzPQ==",
          "dtype": "f4"
         }
        },
        {
         "hovertemplate": "color=though<br>0=%{x}<br>1=%{y}<br>2=%{z}<extra></extra>",
         "legendgroup": "though",
         "marker": {
          "color": "#FF97FF",
          "symbol": "circle"
         },
         "mode": "markers",
         "name": "though",
         "scene": "scene",
         "showlegend": true,
         "type": "scatter3d",
         "x": {
          "bdata": "FSHfvQ==",
          "dtype": "f4"
         },
         "y": {
          "bdata": "hNc0Pg==",
          "dtype": "f4"
         },
         "z": {
          "bdata": "kxuYPQ==",
          "dtype": "f4"
         }
        },
        {
         "hovertemplate": "color=say<br>0=%{x}<br>1=%{y}<br>2=%{z}<extra></extra>",
         "legendgroup": "say",
         "marker": {
          "color": "#FECB52",
          "symbol": "circle"
         },
         "mode": "markers",
         "name": "say",
         "scene": "scene",
         "showlegend": true,
         "type": "scatter3d",
         "x": {
          "bdata": "CKPovg==",
          "dtype": "f4"
         },
         "y": {
          "bdata": "A1vQPQ==",
          "dtype": "f4"
         },
         "z": {
          "bdata": "qalBPg==",
          "dtype": "f4"
         }
        },
        {
         "hovertemplate": "color=three<br>0=%{x}<br>1=%{y}<br>2=%{z}<extra></extra>",
         "legendgroup": "three",
         "marker": {
          "color": "#636efa",
          "symbol": "circle"
         },
         "mode": "markers",
         "name": "three",
         "scene": "scene",
         "showlegend": true,
         "type": "scatter3d",
         "x": {
          "bdata": "ydXgPQ==",
          "dtype": "f4"
         },
         "y": {
          "bdata": "Gz0cPw==",
          "dtype": "f4"
         },
         "z": {
          "bdata": "PgpHPg==",
          "dtype": "f4"
         }
        },
        {
         "hovertemplate": "color=away<br>0=%{x}<br>1=%{y}<br>2=%{z}<extra></extra>",
         "legendgroup": "away",
         "marker": {
          "color": "#EF553B",
          "symbol": "circle"
         },
         "mode": "markers",
         "name": "away",
         "scene": "scene",
         "showlegend": true,
         "type": "scatter3d",
         "x": {
          "bdata": "iypXPg==",
          "dtype": "f4"
         },
         "y": {
          "bdata": "JsARPg==",
          "dtype": "f4"
         },
         "z": {
          "bdata": "2SsyPg==",
          "dtype": "f4"
         }
        },
        {
         "hovertemplate": "color=dead<br>0=%{x}<br>1=%{y}<br>2=%{z}<extra></extra>",
         "legendgroup": "dead",
         "marker": {
          "color": "#00cc96",
          "symbol": "circle"
         },
         "mode": "markers",
         "name": "dead",
         "scene": "scene",
         "showlegend": true,
         "type": "scatter3d",
         "x": {
          "bdata": "pq+IPQ==",
          "dtype": "f4"
         },
         "y": {
          "bdata": "TSeePg==",
          "dtype": "f4"
         },
         "z": {
          "bdata": "JlQUPg==",
          "dtype": "f4"
         }
        },
        {
         "hovertemplate": "color=son<br>0=%{x}<br>1=%{y}<br>2=%{z}<extra></extra>",
         "legendgroup": "son",
         "marker": {
          "color": "#ab63fa",
          "symbol": "circle"
         },
         "mode": "markers",
         "name": "son",
         "scene": "scene",
         "showlegend": true,
         "type": "scatter3d",
         "x": {
          "bdata": "MZSYvg==",
          "dtype": "f4"
         },
         "y": {
          "bdata": "qLHyPg==",
          "dtype": "f4"
         },
         "z": {
          "bdata": "gLYjPw==",
          "dtype": "f4"
         }
        },
        {
         "hovertemplate": "color=blood<br>0=%{x}<br>1=%{y}<br>2=%{z}<extra></extra>",
         "legendgroup": "blood",
         "marker": {
          "color": "#FFA15A",
          "symbol": "circle"
         },
         "mode": "markers",
         "name": "blood",
         "scene": "scene",
         "showlegend": true,
         "type": "scatter3d",
         "x": {
          "bdata": "pwxCPg==",
          "dtype": "f4"
         },
         "y": {
          "bdata": "1VBLPQ==",
          "dtype": "f4"
         },
         "z": {
          "bdata": "WwwoPg==",
          "dtype": "f4"
         }
        },
        {
         "hovertemplate": "color=take<br>0=%{x}<br>1=%{y}<br>2=%{z}<extra></extra>",
         "legendgroup": "take",
         "marker": {
          "color": "#19d3f3",
          "symbol": "circle"
         },
         "mode": "markers",
         "name": "take",
         "scene": "scene",
         "showlegend": true,
         "type": "scatter3d",
         "x": {
          "bdata": "gyaIvg==",
          "dtype": "f4"
         },
         "y": {
          "bdata": "Kg6lPg==",
          "dtype": "f4"
         },
         "z": {
          "bdata": "EblQPg==",
          "dtype": "f4"
         }
        },
        {
         "hovertemplate": "color=go<br>0=%{x}<br>1=%{y}<br>2=%{z}<extra></extra>",
         "legendgroup": "go",
         "marker": {
          "color": "#FF6692",
          "symbol": "circle"
         },
         "mode": "markers",
         "name": "go",
         "scene": "scene",
         "showlegend": true,
         "type": "scatter3d",
         "x": {
          "bdata": "rHosvg==",
          "dtype": "f4"
         },
         "y": {
          "bdata": "crxOPg==",
          "dtype": "f4"
         },
         "z": {
          "bdata": "OmWdOw==",
          "dtype": "f4"
         }
        },
        {
         "hovertemplate": "color=half<br>0=%{x}<br>1=%{y}<br>2=%{z}<extra></extra>",
         "legendgroup": "half",
         "marker": {
          "color": "#B6E880",
          "symbol": "circle"
         },
         "mode": "markers",
         "name": "half",
         "scene": "scene",
         "showlegend": true,
         "type": "scatter3d",
         "x": {
          "bdata": "zAYzPg==",
          "dtype": "f4"
         },
         "y": {
          "bdata": "gDqfPg==",
          "dtype": "f4"
         },
         "z": {
          "bdata": "n2EIPg==",
          "dtype": "f4"
         }
        },
        {
         "hovertemplate": "color=make<br>0=%{x}<br>1=%{y}<br>2=%{z}<extra></extra>",
         "legendgroup": "make",
         "marker": {
          "color": "#FF97FF",
          "symbol": "circle"
         },
         "mode": "markers",
         "name": "make",
         "scene": "scene",
         "showlegend": true,
         "type": "scatter3d",
         "x": {
          "bdata": "oDR+vg==",
          "dtype": "f4"
         },
         "y": {
          "bdata": "oXwRPg==",
          "dtype": "f4"
         },
         "z": {
          "bdata": "1mnKPA==",
          "dtype": "f4"
         }
        },
        {
         "hovertemplate": "color=arya<br>0=%{x}<br>1=%{y}<br>2=%{z}<extra></extra>",
         "legendgroup": "arya",
         "marker": {
          "color": "#FECB52",
          "symbol": "circle"
         },
         "mode": "markers",
         "name": "arya",
         "scene": "scene",
         "showlegend": true,
         "type": "scatter3d",
         "x": {
          "bdata": "8tEjPg==",
          "dtype": "f4"
         },
         "y": {
          "bdata": "sIM5vQ==",
          "dtype": "f4"
         },
         "z": {
          "bdata": "s9kjPg==",
          "dtype": "f4"
         }
        },
        {
         "hovertemplate": "color=saw<br>0=%{x}<br>1=%{y}<br>2=%{z}<extra></extra>",
         "legendgroup": "saw",
         "marker": {
          "color": "#636efa",
          "symbol": "circle"
         },
         "mode": "markers",
         "name": "saw",
         "scene": "scene",
         "showlegend": true,
         "type": "scatter3d",
         "x": {
          "bdata": "mlqcPg==",
          "dtype": "f4"
         },
         "y": {
          "bdata": "7t6RPg==",
          "dtype": "f4"
         },
         "z": {
          "bdata": "q/CBPg==",
          "dtype": "f4"
         }
        },
        {
         "hovertemplate": "color=day<br>0=%{x}<br>1=%{y}<br>2=%{z}<extra></extra>",
         "legendgroup": "day",
         "marker": {
          "color": "#EF553B",
          "symbol": "circle"
         },
         "mode": "markers",
         "name": "day",
         "scene": "scene",
         "showlegend": true,
         "type": "scatter3d",
         "x": {
          "bdata": "RhbavA==",
          "dtype": "f4"
         },
         "y": {
          "bdata": "PqjMPg==",
          "dtype": "f4"
         },
         "z": {
          "bdata": "BjZaPA==",
          "dtype": "f4"
         }
        },
        {
         "hovertemplate": "color=white<br>0=%{x}<br>1=%{y}<br>2=%{z}<extra></extra>",
         "legendgroup": "white",
         "marker": {
          "color": "#00cc96",
          "symbol": "circle"
         },
         "mode": "markers",
         "name": "white",
         "scene": "scene",
         "showlegend": true,
         "type": "scatter3d",
         "x": {
          "bdata": "b+OQPg==",
          "dtype": "f4"
         },
         "y": {
          "bdata": "NKm1Pg==",
          "dtype": "f4"
         },
         "z": {
          "bdata": "IFe6Pg==",
          "dtype": "f4"
         }
        },
        {
         "hovertemplate": "color=jaime<br>0=%{x}<br>1=%{y}<br>2=%{z}<extra></extra>",
         "legendgroup": "jaime",
         "marker": {
          "color": "#ab63fa",
          "symbol": "circle"
         },
         "mode": "markers",
         "name": "jaime",
         "scene": "scene",
         "showlegend": true,
         "type": "scatter3d",
         "x": {
          "bdata": "nlX3vQ==",
          "dtype": "f4"
         },
         "y": {
          "bdata": "oNgTPg==",
          "dtype": "f4"
         },
         "z": {
          "bdata": "2UTJPg==",
          "dtype": "f4"
         }
        },
        {
         "hovertemplate": "color=first<br>0=%{x}<br>1=%{y}<br>2=%{z}<extra></extra>",
         "legendgroup": "first",
         "marker": {
          "color": "#FFA15A",
          "symbol": "circle"
         },
         "mode": "markers",
         "name": "first",
         "scene": "scene",
         "showlegend": true,
         "type": "scatter3d",
         "x": {
          "bdata": "YB2dvQ==",
          "dtype": "f4"
         },
         "y": {
          "bdata": "xBfrPg==",
          "dtype": "f4"
         },
         "z": {
          "bdata": "sF8jPg==",
          "dtype": "f4"
         }
        },
        {
         "hovertemplate": "color=look<br>0=%{x}<br>1=%{y}<br>2=%{z}<extra></extra>",
         "legendgroup": "look",
         "marker": {
          "color": "#19d3f3",
          "symbol": "circle"
         },
         "mode": "markers",
         "name": "look",
         "scene": "scene",
         "showlegend": true,
         "type": "scatter3d",
         "x": {
          "bdata": "B0b6PA==",
          "dtype": "f4"
         },
         "y": {
          "bdata": "iPuUPQ==",
          "dtype": "f4"
         },
         "z": {
          "bdata": "Bq+XPg==",
          "dtype": "f4"
         }
        },
        {
         "hovertemplate": "color=want<br>0=%{x}<br>1=%{y}<br>2=%{z}<extra></extra>",
         "legendgroup": "want",
         "marker": {
          "color": "#FF6692",
          "symbol": "circle"
         },
         "mode": "markers",
         "name": "want",
         "scene": "scene",
         "showlegend": true,
         "type": "scatter3d",
         "x": {
          "bdata": "btixvg==",
          "dtype": "f4"
         },
         "y": {
          "bdata": "Uh7ePQ==",
          "dtype": "f4"
         },
         "z": {
          "bdata": "sAnUPQ==",
          "dtype": "f4"
         }
        },
        {
         "hovertemplate": "color=much<br>0=%{x}<br>1=%{y}<br>2=%{z}<extra></extra>",
         "legendgroup": "much",
         "marker": {
          "color": "#B6E880",
          "symbol": "circle"
         },
         "mode": "markers",
         "name": "much",
         "scene": "scene",
         "showlegend": true,
         "type": "scatter3d",
         "x": {
          "bdata": "MW+Ivg==",
          "dtype": "f4"
         },
         "y": {
          "bdata": "t9vlPQ==",
          "dtype": "f4"
         },
         "z": {
          "bdata": "w4/GOw==",
          "dtype": "f4"
         }
        },
        {
         "hovertemplate": "color=enough<br>0=%{x}<br>1=%{y}<br>2=%{z}<extra></extra>",
         "legendgroup": "enough",
         "marker": {
          "color": "#FF97FF",
          "symbol": "circle"
         },
         "mode": "markers",
         "name": "enough",
         "scene": "scene",
         "showlegend": true,
         "type": "scatter3d",
         "x": {
          "bdata": "+271vQ==",
          "dtype": "f4"
         },
         "y": {
          "bdata": "UI5KPg==",
          "dtype": "f4"
         },
         "z": {
          "bdata": "cOujPQ==",
          "dtype": "f4"
         }
        },
        {
         "hovertemplate": "color=sword<br>0=%{x}<br>1=%{y}<br>2=%{z}<extra></extra>",
         "legendgroup": "sword",
         "marker": {
          "color": "#FECB52",
          "symbol": "circle"
         },
         "mode": "markers",
         "name": "sword",
         "scene": "scene",
         "showlegend": true,
         "type": "scatter3d",
         "x": {
          "bdata": "zcOUPQ==",
          "dtype": "f4"
         },
         "y": {
          "bdata": "ettjPg==",
          "dtype": "f4"
         },
         "z": {
          "bdata": "H1nRPg==",
          "dtype": "f4"
         }
        },
        {
         "hovertemplate": "color=tell<br>0=%{x}<br>1=%{y}<br>2=%{z}<extra></extra>",
         "legendgroup": "tell",
         "marker": {
          "color": "#636efa",
          "symbol": "circle"
         },
         "mode": "markers",
         "name": "tell",
         "scene": "scene",
         "showlegend": true,
         "type": "scatter3d",
         "x": {
          "bdata": "Gp/1vg==",
          "dtype": "f4"
         },
         "y": {
          "bdata": "BGQPPg==",
          "dtype": "f4"
         },
         "z": {
          "bdata": "hXIRPg==",
          "dtype": "f4"
         }
        },
        {
         "hovertemplate": "color=girl<br>0=%{x}<br>1=%{y}<br>2=%{z}<extra></extra>",
         "legendgroup": "girl",
         "marker": {
          "color": "#EF553B",
          "symbol": "circle"
         },
         "mode": "markers",
         "name": "girl",
         "scene": "scene",
         "showlegend": true,
         "type": "scatter3d",
         "x": {
          "bdata": "bp0Mvg==",
          "dtype": "f4"
         },
         "y": {
          "bdata": "u0q0PQ==",
          "dtype": "f4"
         },
         "z": {
          "bdata": "gRbPPg==",
          "dtype": "f4"
         }
        },
        {
         "hovertemplate": "color=bran<br>0=%{x}<br>1=%{y}<br>2=%{z}<extra></extra>",
         "legendgroup": "bran",
         "marker": {
          "color": "#00cc96",
          "symbol": "circle"
         },
         "mode": "markers",
         "name": "bran",
         "scene": "scene",
         "showlegend": true,
         "type": "scatter3d",
         "x": {
          "bdata": "aCLrPQ==",
          "dtype": "f4"
         },
         "y": {
          "bdata": "GSZTPQ==",
          "dtype": "f4"
         },
         "z": {
          "bdata": "h47tPQ==",
          "dtype": "f4"
         }
        },
        {
         "hovertemplate": "color=great<br>0=%{x}<br>1=%{y}<br>2=%{z}<extra></extra>",
         "legendgroup": "great",
         "marker": {
          "color": "#ab63fa",
          "symbol": "circle"
         },
         "mode": "markers",
         "name": "great",
         "scene": "scene",
         "showlegend": true,
         "type": "scatter3d",
         "x": {
          "bdata": "yHkNPg==",
          "dtype": "f4"
         },
         "y": {
          "bdata": "Q1kmPw==",
          "dtype": "f4"
         },
         "z": {
          "bdata": "PPGXPQ==",
          "dtype": "f4"
         }
        },
        {
         "hovertemplate": "color=looked<br>0=%{x}<br>1=%{y}<br>2=%{z}<extra></extra>",
         "legendgroup": "looked",
         "marker": {
          "color": "#FFA15A",
          "symbol": "circle"
         },
         "mode": "markers",
         "name": "looked",
         "scene": "scene",
         "showlegend": true,
         "type": "scatter3d",
         "x": {
          "bdata": "MgQ2Pg==",
          "dtype": "f4"
         },
         "y": {
          "bdata": "EOjJPQ==",
          "dtype": "f4"
         },
         "z": {
          "bdata": "L+nJPg==",
          "dtype": "f4"
         }
        },
        {
         "hovertemplate": "color=left<br>0=%{x}<br>1=%{y}<br>2=%{z}<extra></extra>",
         "legendgroup": "left",
         "marker": {
          "color": "#19d3f3",
          "symbol": "circle"
         },
         "mode": "markers",
         "name": "left",
         "scene": "scene",
         "showlegend": true,
         "type": "scatter3d",
         "x": {
          "bdata": "J+0rPg==",
          "dtype": "f4"
         },
         "y": {
          "bdata": "1u6xPg==",
          "dtype": "f4"
         },
         "z": {
          "bdata": "gvGNPg==",
          "dtype": "f4"
         }
        },
        {
         "hovertemplate": "color=knew<br>0=%{x}<br>1=%{y}<br>2=%{z}<extra></extra>",
         "legendgroup": "knew",
         "marker": {
          "color": "#FF6692",
          "symbol": "circle"
         },
         "mode": "markers",
         "name": "knew",
         "scene": "scene",
         "showlegend": true,
         "type": "scatter3d",
         "x": {
          "bdata": "C2lFvg==",
          "dtype": "f4"
         },
         "y": {
          "bdata": "AWhcPg==",
          "dtype": "f4"
         },
         "z": {
          "bdata": "eGBAvQ==",
          "dtype": "f4"
         }
        },
        {
         "hovertemplate": "color=asked<br>0=%{x}<br>1=%{y}<br>2=%{z}<extra></extra>",
         "legendgroup": "asked",
         "marker": {
          "color": "#B6E880",
          "symbol": "circle"
         },
         "mode": "markers",
         "name": "asked",
         "scene": "scene",
         "showlegend": true,
         "type": "scatter3d",
         "x": {
          "bdata": "TyrDvg==",
          "dtype": "f4"
         },
         "y": {
          "bdata": "qmYdPg==",
          "dtype": "f4"
         },
         "z": {
          "bdata": "mHfLPg==",
          "dtype": "f4"
         }
        },
        {
         "hovertemplate": "color=gave<br>0=%{x}<br>1=%{y}<br>2=%{z}<extra></extra>",
         "legendgroup": "gave",
         "marker": {
          "color": "#FF97FF",
          "symbol": "circle"
         },
         "mode": "markers",
         "name": "gave",
         "scene": "scene",
         "showlegend": true,
         "type": "scatter3d",
         "x": {
          "bdata": "FJqovA==",
          "dtype": "f4"
         },
         "y": {
          "bdata": "clYZvA==",
          "dtype": "f4"
         },
         "z": {
          "bdata": "ytHsPg==",
          "dtype": "f4"
         }
        },
        {
         "hovertemplate": "color=maester<br>0=%{x}<br>1=%{y}<br>2=%{z}<extra></extra>",
         "legendgroup": "maester",
         "marker": {
          "color": "#FECB52",
          "symbol": "circle"
         },
         "mode": "markers",
         "name": "maester",
         "scene": "scene",
         "showlegend": true,
         "type": "scatter3d",
         "x": {
          "bdata": "tVOmvQ==",
          "dtype": "f4"
         },
         "y": {
          "bdata": "HcZZPg==",
          "dtype": "f4"
         },
         "z": {
          "bdata": "wDy9Pg==",
          "dtype": "f4"
         }
        },
        {
         "hovertemplate": "color=called<br>0=%{x}<br>1=%{y}<br>2=%{z}<extra></extra>",
         "legendgroup": "called",
         "marker": {
          "color": "#636efa",
          "symbol": "circle"
         },
         "mode": "markers",
         "name": "called",
         "scene": "scene",
         "showlegend": true,
         "type": "scatter3d",
         "x": {
          "bdata": "DC0Lvg==",
          "dtype": "f4"
         },
         "y": {
          "bdata": "L5H6Pg==",
          "dtype": "f4"
         },
         "z": {
          "bdata": "KyoDPw==",
          "dtype": "f4"
         }
        },
        {
         "hovertemplate": "color=wall<br>0=%{x}<br>1=%{y}<br>2=%{z}<extra></extra>",
         "legendgroup": "wall",
         "marker": {
          "color": "#EF553B",
          "symbol": "circle"
         },
         "mode": "markers",
         "name": "wall",
         "scene": "scene",
         "showlegend": true,
         "type": "scatter3d",
         "x": {
          "bdata": "V4h5Pg==",
          "dtype": "f4"
         },
         "y": {
          "bdata": "VhP7Pg==",
          "dtype": "f4"
         },
         "z": {
          "bdata": "1CJlvQ==",
          "dtype": "f4"
         }
        },
        {
         "hovertemplate": "color=every<br>0=%{x}<br>1=%{y}<br>2=%{z}<extra></extra>",
         "legendgroup": "every",
         "marker": {
          "color": "#00cc96",
          "symbol": "circle"
         },
         "mode": "markers",
         "name": "every",
         "scene": "scene",
         "showlegend": true,
         "type": "scatter3d",
         "x": {
          "bdata": "asDvPQ==",
          "dtype": "f4"
         },
         "y": {
          "bdata": "Dza1Pg==",
          "dtype": "f4"
         },
         "z": {
          "bdata": "jgNXPQ==",
          "dtype": "f4"
         }
        },
        {
         "hovertemplate": "color=heard<br>0=%{x}<br>1=%{y}<br>2=%{z}<extra></extra>",
         "legendgroup": "heard",
         "marker": {
          "color": "#ab63fa",
          "symbol": "circle"
         },
         "mode": "markers",
         "name": "heard",
         "scene": "scene",
         "showlegend": true,
         "type": "scatter3d",
         "x": {
          "bdata": "D+32Ow==",
          "dtype": "f4"
         },
         "y": {
          "bdata": "OxxEPg==",
          "dtype": "f4"
         },
         "z": {
          "bdata": "tvSIPQ==",
          "dtype": "f4"
         }
        },
        {
         "hovertemplate": "color=sansa<br>0=%{x}<br>1=%{y}<br>2=%{z}<extra></extra>",
         "legendgroup": "sansa",
         "marker": {
          "color": "#FFA15A",
          "symbol": "circle"
         },
         "mode": "markers",
         "name": "sansa",
         "scene": "scene",
         "showlegend": true,
         "type": "scatter3d",
         "x": {
          "bdata": "khb3vQ==",
          "dtype": "f4"
         },
         "y": {
          "bdata": "NYwYvQ==",
          "dtype": "f4"
         },
         "z": {
          "bdata": "IuytPg==",
          "dtype": "f4"
         }
        },
        {
         "hovertemplate": "color=let<br>0=%{x}<br>1=%{y}<br>2=%{z}<extra></extra>",
         "legendgroup": "let",
         "marker": {
          "color": "#19d3f3",
          "symbol": "circle"
         },
         "mode": "markers",
         "name": "let",
         "scene": "scene",
         "showlegend": true,
         "type": "scatter3d",
         "x": {
          "bdata": "QIbivQ==",
          "dtype": "f4"
         },
         "y": {
          "bdata": "4yaiPQ==",
          "dtype": "f4"
         },
         "z": {
          "bdata": "Ff0CPg==",
          "dtype": "f4"
         }
        },
        {
         "hovertemplate": "color=yet<br>0=%{x}<br>1=%{y}<br>2=%{z}<extra></extra>",
         "legendgroup": "yet",
         "marker": {
          "color": "#FF6692",
          "symbol": "circle"
         },
         "mode": "markers",
         "name": "yet",
         "scene": "scene",
         "showlegend": true,
         "type": "scatter3d",
         "x": {
          "bdata": "On00vg==",
          "dtype": "f4"
         },
         "y": {
          "bdata": "nIaEPg==",
          "dtype": "f4"
         },
         "z": {
          "bdata": "52pTPQ==",
          "dtype": "f4"
         }
        },
        {
         "hovertemplate": "color=went<br>0=%{x}<br>1=%{y}<br>2=%{z}<extra></extra>",
         "legendgroup": "went",
         "marker": {
          "color": "#B6E880",
          "symbol": "circle"
         },
         "mode": "markers",
         "name": "went",
         "scene": "scene",
         "showlegend": true,
         "type": "scatter3d",
         "x": {
          "bdata": "Tc2LPg==",
          "dtype": "f4"
         },
         "y": {
          "bdata": "5fp6Pg==",
          "dtype": "f4"
         },
         "z": {
          "bdata": "nkZdPg==",
          "dtype": "f4"
         }
        },
        {
         "hovertemplate": "color=turned<br>0=%{x}<br>1=%{y}<br>2=%{z}<extra></extra>",
         "legendgroup": "turned",
         "marker": {
          "color": "#FF97FF",
          "symbol": "circle"
         },
         "mode": "markers",
         "name": "turned",
         "scene": "scene",
         "showlegend": true,
         "type": "scatter3d",
         "x": {
          "bdata": "IZaDPg==",
          "dtype": "f4"
         },
         "y": {
          "bdata": "Qug1Pg==",
          "dtype": "f4"
         },
         "z": {
          "bdata": "O7OyPg==",
          "dtype": "f4"
         }
        },
        {
         "hovertemplate": "color=dany<br>0=%{x}<br>1=%{y}<br>2=%{z}<extra></extra>",
         "legendgroup": "dany",
         "marker": {
          "color": "#FECB52",
          "symbol": "circle"
         },
         "mode": "markers",
         "name": "dany",
         "scene": "scene",
         "showlegend": true,
         "type": "scatter3d",
         "x": {
          "bdata": "uqG9PQ==",
          "dtype": "f4"
         },
         "y": {
          "bdata": "0lQsPQ==",
          "dtype": "f4"
         },
         "z": {
          "bdata": "sFcSPQ==",
          "dtype": "f4"
         }
        },
        {
         "hovertemplate": "color=need<br>0=%{x}<br>1=%{y}<br>2=%{z}<extra></extra>",
         "legendgroup": "need",
         "marker": {
          "color": "#636efa",
          "symbol": "circle"
         },
         "mode": "markers",
         "name": "need",
         "scene": "scene",
         "showlegend": true,
         "type": "scatter3d",
         "x": {
          "bdata": "9JuVvg==",
          "dtype": "f4"
         },
         "y": {
          "bdata": "ye6MPg==",
          "dtype": "f4"
         },
         "z": {
          "bdata": "hyjSPA==",
          "dtype": "f4"
         }
        },
        {
         "hovertemplate": "color=behind<br>0=%{x}<br>1=%{y}<br>2=%{z}<extra></extra>",
         "legendgroup": "behind",
         "marker": {
          "color": "#EF553B",
          "symbol": "circle"
         },
         "mode": "markers",
         "name": "behind",
         "scene": "scene",
         "showlegend": true,
         "type": "scatter3d",
         "x": {
          "bdata": "p8LcPg==",
          "dtype": "f4"
         },
         "y": {
          "bdata": "JkTRPg==",
          "dtype": "f4"
         },
         "z": {
          "bdata": "HlQ+Pg==",
          "dtype": "f4"
         }
        },
        {
         "hovertemplate": "color=around<br>0=%{x}<br>1=%{y}<br>2=%{z}<extra></extra>",
         "legendgroup": "around",
         "marker": {
          "color": "#00cc96",
          "symbol": "circle"
         },
         "mode": "markers",
         "name": "around",
         "scene": "scene",
         "showlegend": true,
         "type": "scatter3d",
         "x": {
          "bdata": "Vv0aPw==",
          "dtype": "f4"
         },
         "y": {
          "bdata": "E3qQPg==",
          "dtype": "f4"
         },
         "z": {
          "bdata": "Hl3/PQ==",
          "dtype": "f4"
         }
        },
        {
         "hovertemplate": "color=woman<br>0=%{x}<br>1=%{y}<br>2=%{z}<extra></extra>",
         "legendgroup": "woman",
         "marker": {
          "color": "#ab63fa",
          "symbol": "circle"
         },
         "mode": "markers",
         "name": "woman",
         "scene": "scene",
         "showlegend": true,
         "type": "scatter3d",
         "x": {
          "bdata": "HyQRvA==",
          "dtype": "f4"
         },
         "y": {
          "bdata": "CutVPQ==",
          "dtype": "f4"
         },
         "z": {
          "bdata": "ZWCmPg==",
          "dtype": "f4"
         }
        },
        {
         "hovertemplate": "color=another<br>0=%{x}<br>1=%{y}<br>2=%{z}<extra></extra>",
         "legendgroup": "another",
         "marker": {
          "color": "#FFA15A",
          "symbol": "circle"
         },
         "mode": "markers",
         "name": "another",
         "scene": "scene",
         "showlegend": true,
         "type": "scatter3d",
         "x": {
          "bdata": "BrWBPQ==",
          "dtype": "f4"
         },
         "y": {
          "bdata": "6aJkPg==",
          "dtype": "f4"
         },
         "z": {
          "bdata": "+rwXPg==",
          "dtype": "f4"
         }
        },
        {
         "hovertemplate": "color=snow<br>0=%{x}<br>1=%{y}<br>2=%{z}<extra></extra>",
         "legendgroup": "snow",
         "marker": {
          "color": "#19d3f3",
          "symbol": "circle"
         },
         "mode": "markers",
         "name": "snow",
         "scene": "scene",
         "showlegend": true,
         "type": "scatter3d",
         "x": {
          "bdata": "zbyNPg==",
          "dtype": "f4"
         },
         "y": {
          "bdata": "DWNmPg==",
          "dtype": "f4"
         },
         "z": {
          "bdata": "qUb3PQ==",
          "dtype": "f4"
         }
        },
        {
         "hovertemplate": "color=beneath<br>0=%{x}<br>1=%{y}<br>2=%{z}<extra></extra>",
         "legendgroup": "beneath",
         "marker": {
          "color": "#FF6692",
          "symbol": "circle"
         },
         "mode": "markers",
         "name": "beneath",
         "scene": "scene",
         "showlegend": true,
         "type": "scatter3d",
         "x": {
          "bdata": "8TEUPw==",
          "dtype": "f4"
         },
         "y": {
          "bdata": "xXPGPg==",
          "dtype": "f4"
         },
         "z": {
          "bdata": "FvcZPg==",
          "dtype": "f4"
         }
        },
        {
         "hovertemplate": "color=across<br>0=%{x}<br>1=%{y}<br>2=%{z}<extra></extra>",
         "legendgroup": "across",
         "marker": {
          "color": "#B6E880",
          "symbol": "circle"
         },
         "mode": "markers",
         "name": "across",
         "scene": "scene",
         "showlegend": true,
         "type": "scatter3d",
         "x": {
          "bdata": "/hn/Pg==",
          "dtype": "f4"
         },
         "y": {
          "bdata": "nE24Pg==",
          "dtype": "f4"
         },
         "z": {
          "bdata": "2NEsPg==",
          "dtype": "f4"
         }
        },
        {
         "hovertemplate": "color=knight<br>0=%{x}<br>1=%{y}<br>2=%{z}<extra></extra>",
         "legendgroup": "knight",
         "marker": {
          "color": "#FF97FF",
          "symbol": "circle"
         },
         "mode": "markers",
         "name": "knight",
         "scene": "scene",
         "showlegend": true,
         "type": "scatter3d",
         "x": {
          "bdata": "zQNOvg==",
          "dtype": "f4"
         },
         "y": {
          "bdata": "H8LAPg==",
          "dtype": "f4"
         },
         "z": {
          "bdata": "ksAZPw==",
          "dtype": "f4"
         }
        },
        {
         "hovertemplate": "color=keep<br>0=%{x}<br>1=%{y}<br>2=%{z}<extra></extra>",
         "legendgroup": "keep",
         "marker": {
          "color": "#FECB52",
          "symbol": "circle"
         },
         "mode": "markers",
         "name": "keep",
         "scene": "scene",
         "showlegend": true,
         "type": "scatter3d",
         "x": {
          "bdata": "iAKaPA==",
          "dtype": "f4"
         },
         "y": {
          "bdata": "1C7DPg==",
          "dtype": "f4"
         },
         "z": {
          "bdata": "vgDxPQ==",
          "dtype": "f4"
         }
        }
       ],
       "layout": {
        "legend": {
         "title": {
          "text": "color"
         },
         "tracegroupgap": 0
        },
        "margin": {
         "t": 60
        },
        "scene": {
         "domain": {
          "x": [
           0,
           1
          ],
          "y": [
           0,
           1
          ]
         },
         "xaxis": {
          "title": {
           "text": "0"
          }
         },
         "yaxis": {
          "title": {
           "text": "1"
          }
         },
         "zaxis": {
          "title": {
           "text": "2"
          }
         }
        },
        "template": {
         "data": {
          "bar": [
           {
            "error_x": {
             "color": "#2a3f5f"
            },
            "error_y": {
             "color": "#2a3f5f"
            },
            "marker": {
             "line": {
              "color": "#E5ECF6",
              "width": 0.5
             },
             "pattern": {
              "fillmode": "overlay",
              "size": 10,
              "solidity": 0.2
             }
            },
            "type": "bar"
           }
          ],
          "barpolar": [
           {
            "marker": {
             "line": {
              "color": "#E5ECF6",
              "width": 0.5
             },
             "pattern": {
              "fillmode": "overlay",
              "size": 10,
              "solidity": 0.2
             }
            },
            "type": "barpolar"
           }
          ],
          "carpet": [
           {
            "aaxis": {
             "endlinecolor": "#2a3f5f",
             "gridcolor": "white",
             "linecolor": "white",
             "minorgridcolor": "white",
             "startlinecolor": "#2a3f5f"
            },
            "baxis": {
             "endlinecolor": "#2a3f5f",
             "gridcolor": "white",
             "linecolor": "white",
             "minorgridcolor": "white",
             "startlinecolor": "#2a3f5f"
            },
            "type": "carpet"
           }
          ],
          "choropleth": [
           {
            "colorbar": {
             "outlinewidth": 0,
             "ticks": ""
            },
            "type": "choropleth"
           }
          ],
          "contour": [
           {
            "colorbar": {
             "outlinewidth": 0,
             "ticks": ""
            },
            "colorscale": [
             [
              0,
              "#0d0887"
             ],
             [
              0.1111111111111111,
              "#46039f"
             ],
             [
              0.2222222222222222,
              "#7201a8"
             ],
             [
              0.3333333333333333,
              "#9c179e"
             ],
             [
              0.4444444444444444,
              "#bd3786"
             ],
             [
              0.5555555555555556,
              "#d8576b"
             ],
             [
              0.6666666666666666,
              "#ed7953"
             ],
             [
              0.7777777777777778,
              "#fb9f3a"
             ],
             [
              0.8888888888888888,
              "#fdca26"
             ],
             [
              1,
              "#f0f921"
             ]
            ],
            "type": "contour"
           }
          ],
          "contourcarpet": [
           {
            "colorbar": {
             "outlinewidth": 0,
             "ticks": ""
            },
            "type": "contourcarpet"
           }
          ],
          "heatmap": [
           {
            "colorbar": {
             "outlinewidth": 0,
             "ticks": ""
            },
            "colorscale": [
             [
              0,
              "#0d0887"
             ],
             [
              0.1111111111111111,
              "#46039f"
             ],
             [
              0.2222222222222222,
              "#7201a8"
             ],
             [
              0.3333333333333333,
              "#9c179e"
             ],
             [
              0.4444444444444444,
              "#bd3786"
             ],
             [
              0.5555555555555556,
              "#d8576b"
             ],
             [
              0.6666666666666666,
              "#ed7953"
             ],
             [
              0.7777777777777778,
              "#fb9f3a"
             ],
             [
              0.8888888888888888,
              "#fdca26"
             ],
             [
              1,
              "#f0f921"
             ]
            ],
            "type": "heatmap"
           }
          ],
          "histogram": [
           {
            "marker": {
             "pattern": {
              "fillmode": "overlay",
              "size": 10,
              "solidity": 0.2
             }
            },
            "type": "histogram"
           }
          ],
          "histogram2d": [
           {
            "colorbar": {
             "outlinewidth": 0,
             "ticks": ""
            },
            "colorscale": [
             [
              0,
              "#0d0887"
             ],
             [
              0.1111111111111111,
              "#46039f"
             ],
             [
              0.2222222222222222,
              "#7201a8"
             ],
             [
              0.3333333333333333,
              "#9c179e"
             ],
             [
              0.4444444444444444,
              "#bd3786"
             ],
             [
              0.5555555555555556,
              "#d8576b"
             ],
             [
              0.6666666666666666,
              "#ed7953"
             ],
             [
              0.7777777777777778,
              "#fb9f3a"
             ],
             [
              0.8888888888888888,
              "#fdca26"
             ],
             [
              1,
              "#f0f921"
             ]
            ],
            "type": "histogram2d"
           }
          ],
          "histogram2dcontour": [
           {
            "colorbar": {
             "outlinewidth": 0,
             "ticks": ""
            },
            "colorscale": [
             [
              0,
              "#0d0887"
             ],
             [
              0.1111111111111111,
              "#46039f"
             ],
             [
              0.2222222222222222,
              "#7201a8"
             ],
             [
              0.3333333333333333,
              "#9c179e"
             ],
             [
              0.4444444444444444,
              "#bd3786"
             ],
             [
              0.5555555555555556,
              "#d8576b"
             ],
             [
              0.6666666666666666,
              "#ed7953"
             ],
             [
              0.7777777777777778,
              "#fb9f3a"
             ],
             [
              0.8888888888888888,
              "#fdca26"
             ],
             [
              1,
              "#f0f921"
             ]
            ],
            "type": "histogram2dcontour"
           }
          ],
          "mesh3d": [
           {
            "colorbar": {
             "outlinewidth": 0,
             "ticks": ""
            },
            "type": "mesh3d"
           }
          ],
          "parcoords": [
           {
            "line": {
             "colorbar": {
              "outlinewidth": 0,
              "ticks": ""
             }
            },
            "type": "parcoords"
           }
          ],
          "pie": [
           {
            "automargin": true,
            "type": "pie"
           }
          ],
          "scatter": [
           {
            "fillpattern": {
             "fillmode": "overlay",
             "size": 10,
             "solidity": 0.2
            },
            "type": "scatter"
           }
          ],
          "scatter3d": [
           {
            "line": {
             "colorbar": {
              "outlinewidth": 0,
              "ticks": ""
             }
            },
            "marker": {
             "colorbar": {
              "outlinewidth": 0,
              "ticks": ""
             }
            },
            "type": "scatter3d"
           }
          ],
          "scattercarpet": [
           {
            "marker": {
             "colorbar": {
              "outlinewidth": 0,
              "ticks": ""
             }
            },
            "type": "scattercarpet"
           }
          ],
          "scattergeo": [
           {
            "marker": {
             "colorbar": {
              "outlinewidth": 0,
              "ticks": ""
             }
            },
            "type": "scattergeo"
           }
          ],
          "scattergl": [
           {
            "marker": {
             "colorbar": {
              "outlinewidth": 0,
              "ticks": ""
             }
            },
            "type": "scattergl"
           }
          ],
          "scattermap": [
           {
            "marker": {
             "colorbar": {
              "outlinewidth": 0,
              "ticks": ""
             }
            },
            "type": "scattermap"
           }
          ],
          "scattermapbox": [
           {
            "marker": {
             "colorbar": {
              "outlinewidth": 0,
              "ticks": ""
             }
            },
            "type": "scattermapbox"
           }
          ],
          "scatterpolar": [
           {
            "marker": {
             "colorbar": {
              "outlinewidth": 0,
              "ticks": ""
             }
            },
            "type": "scatterpolar"
           }
          ],
          "scatterpolargl": [
           {
            "marker": {
             "colorbar": {
              "outlinewidth": 0,
              "ticks": ""
             }
            },
            "type": "scatterpolargl"
           }
          ],
          "scatterternary": [
           {
            "marker": {
             "colorbar": {
              "outlinewidth": 0,
              "ticks": ""
             }
            },
            "type": "scatterternary"
           }
          ],
          "surface": [
           {
            "colorbar": {
             "outlinewidth": 0,
             "ticks": ""
            },
            "colorscale": [
             [
              0,
              "#0d0887"
             ],
             [
              0.1111111111111111,
              "#46039f"
             ],
             [
              0.2222222222222222,
              "#7201a8"
             ],
             [
              0.3333333333333333,
              "#9c179e"
             ],
             [
              0.4444444444444444,
              "#bd3786"
             ],
             [
              0.5555555555555556,
              "#d8576b"
             ],
             [
              0.6666666666666666,
              "#ed7953"
             ],
             [
              0.7777777777777778,
              "#fb9f3a"
             ],
             [
              0.8888888888888888,
              "#fdca26"
             ],
             [
              1,
              "#f0f921"
             ]
            ],
            "type": "surface"
           }
          ],
          "table": [
           {
            "cells": {
             "fill": {
              "color": "#EBF0F8"
             },
             "line": {
              "color": "white"
             }
            },
            "header": {
             "fill": {
              "color": "#C8D4E3"
             },
             "line": {
              "color": "white"
             }
            },
            "type": "table"
           }
          ]
         },
         "layout": {
          "annotationdefaults": {
           "arrowcolor": "#2a3f5f",
           "arrowhead": 0,
           "arrowwidth": 1
          },
          "autotypenumbers": "strict",
          "coloraxis": {
           "colorbar": {
            "outlinewidth": 0,
            "ticks": ""
           }
          },
          "colorscale": {
           "diverging": [
            [
             0,
             "#8e0152"
            ],
            [
             0.1,
             "#c51b7d"
            ],
            [
             0.2,
             "#de77ae"
            ],
            [
             0.3,
             "#f1b6da"
            ],
            [
             0.4,
             "#fde0ef"
            ],
            [
             0.5,
             "#f7f7f7"
            ],
            [
             0.6,
             "#e6f5d0"
            ],
            [
             0.7,
             "#b8e186"
            ],
            [
             0.8,
             "#7fbc41"
            ],
            [
             0.9,
             "#4d9221"
            ],
            [
             1,
             "#276419"
            ]
           ],
           "sequential": [
            [
             0,
             "#0d0887"
            ],
            [
             0.1111111111111111,
             "#46039f"
            ],
            [
             0.2222222222222222,
             "#7201a8"
            ],
            [
             0.3333333333333333,
             "#9c179e"
            ],
            [
             0.4444444444444444,
             "#bd3786"
            ],
            [
             0.5555555555555556,
             "#d8576b"
            ],
            [
             0.6666666666666666,
             "#ed7953"
            ],
            [
             0.7777777777777778,
             "#fb9f3a"
            ],
            [
             0.8888888888888888,
             "#fdca26"
            ],
            [
             1,
             "#f0f921"
            ]
           ],
           "sequentialminus": [
            [
             0,
             "#0d0887"
            ],
            [
             0.1111111111111111,
             "#46039f"
            ],
            [
             0.2222222222222222,
             "#7201a8"
            ],
            [
             0.3333333333333333,
             "#9c179e"
            ],
            [
             0.4444444444444444,
             "#bd3786"
            ],
            [
             0.5555555555555556,
             "#d8576b"
            ],
            [
             0.6666666666666666,
             "#ed7953"
            ],
            [
             0.7777777777777778,
             "#fb9f3a"
            ],
            [
             0.8888888888888888,
             "#fdca26"
            ],
            [
             1,
             "#f0f921"
            ]
           ]
          },
          "colorway": [
           "#636efa",
           "#EF553B",
           "#00cc96",
           "#ab63fa",
           "#FFA15A",
           "#19d3f3",
           "#FF6692",
           "#B6E880",
           "#FF97FF",
           "#FECB52"
          ],
          "font": {
           "color": "#2a3f5f"
          },
          "geo": {
           "bgcolor": "white",
           "lakecolor": "white",
           "landcolor": "#E5ECF6",
           "showlakes": true,
           "showland": true,
           "subunitcolor": "white"
          },
          "hoverlabel": {
           "align": "left"
          },
          "hovermode": "closest",
          "mapbox": {
           "style": "light"
          },
          "paper_bgcolor": "white",
          "plot_bgcolor": "#E5ECF6",
          "polar": {
           "angularaxis": {
            "gridcolor": "white",
            "linecolor": "white",
            "ticks": ""
           },
           "bgcolor": "#E5ECF6",
           "radialaxis": {
            "gridcolor": "white",
            "linecolor": "white",
            "ticks": ""
           }
          },
          "scene": {
           "xaxis": {
            "backgroundcolor": "#E5ECF6",
            "gridcolor": "white",
            "gridwidth": 2,
            "linecolor": "white",
            "showbackground": true,
            "ticks": "",
            "zerolinecolor": "white"
           },
           "yaxis": {
            "backgroundcolor": "#E5ECF6",
            "gridcolor": "white",
            "gridwidth": 2,
            "linecolor": "white",
            "showbackground": true,
            "ticks": "",
            "zerolinecolor": "white"
           },
           "zaxis": {
            "backgroundcolor": "#E5ECF6",
            "gridcolor": "white",
            "gridwidth": 2,
            "linecolor": "white",
            "showbackground": true,
            "ticks": "",
            "zerolinecolor": "white"
           }
          },
          "shapedefaults": {
           "line": {
            "color": "#2a3f5f"
           }
          },
          "ternary": {
           "aaxis": {
            "gridcolor": "white",
            "linecolor": "white",
            "ticks": ""
           },
           "baxis": {
            "gridcolor": "white",
            "linecolor": "white",
            "ticks": ""
           },
           "bgcolor": "#E5ECF6",
           "caxis": {
            "gridcolor": "white",
            "linecolor": "white",
            "ticks": ""
           }
          },
          "title": {
           "x": 0.05
          },
          "xaxis": {
           "automargin": true,
           "gridcolor": "white",
           "linecolor": "white",
           "ticks": "",
           "title": {
            "standoff": 15
           },
           "zerolinecolor": "white",
           "zerolinewidth": 2
          },
          "yaxis": {
           "automargin": true,
           "gridcolor": "white",
           "linecolor": "white",
           "ticks": "",
           "title": {
            "standoff": 15
           },
           "zerolinecolor": "white",
           "zerolinewidth": 2
          }
         }
        }
       }
      }
     },
     "metadata": {},
     "output_type": "display_data"
    }
   ],
   "source": [
    "import plotly.express as px # 3D representation\n",
    "fig=px.scatter_3d(x[:100],x=0,y=1,z=2,color=y[:100]) # ploting 100 words\n",
    "fig.show()"
   ]
  }
 ],
 "metadata": {
  "kernelspec": {
   "display_name": "Python 3",
   "language": "python",
   "name": "python3"
  },
  "language_info": {
   "codemirror_mode": {
    "name": "ipython",
    "version": 3
   },
   "file_extension": ".py",
   "mimetype": "text/x-python",
   "name": "python",
   "nbconvert_exporter": "python",
   "pygments_lexer": "ipython3",
   "version": "3.12.1"
  }
 },
 "nbformat": 4,
 "nbformat_minor": 5
}
